{
 "cells": [
  {
   "cell_type": "markdown",
   "metadata": {
    "id": "rSjPHQuzdz06"
   },
   "source": [
    "AI Programming - SW Lee"
   ]
  },
  {
   "cell_type": "markdown",
   "metadata": {
    "id": "8hDIhKH6dz08"
   },
   "source": [
    "# Lab 08: Deep Q Learning Network (a.k.a DQN)\n",
    "## Exercise: Cart Pole, Lunar Lander"
   ]
  },
  {
   "cell_type": "markdown",
   "metadata": {
    "id": "8FqtDzOYdz09"
   },
   "source": [
    "### Prepare Library Packages"
   ]
  },
  {
   "cell_type": "code",
   "execution_count": null,
   "metadata": {
    "colab": {
     "base_uri": "https://localhost:8080/"
    },
    "id": "hQb9bdovdz09",
    "outputId": "a963bdd4-6648-41c7-d8a8-c036c2df39fc"
   },
   "outputs": [
    {
     "name": "stdout",
     "output_type": "stream",
     "text": [
      "Requirement already satisfied: swig in /usr/local/lib/python3.10/dist-packages (4.3.0)\n",
      "Requirement already satisfied: gymnasium in /usr/local/lib/python3.10/dist-packages (1.0.0)\n",
      "Requirement already satisfied: numpy>=1.21.0 in /usr/local/lib/python3.10/dist-packages (from gymnasium) (1.26.4)\n",
      "Requirement already satisfied: cloudpickle>=1.2.0 in /usr/local/lib/python3.10/dist-packages (from gymnasium) (3.1.0)\n",
      "Requirement already satisfied: typing-extensions>=4.3.0 in /usr/local/lib/python3.10/dist-packages (from gymnasium) (4.12.2)\n",
      "Requirement already satisfied: farama-notifications>=0.0.1 in /usr/local/lib/python3.10/dist-packages (from gymnasium) (0.0.4)\n",
      "Requirement already satisfied: gymnasium[box2d] in /usr/local/lib/python3.10/dist-packages (1.0.0)\n",
      "Requirement already satisfied: numpy>=1.21.0 in /usr/local/lib/python3.10/dist-packages (from gymnasium[box2d]) (1.26.4)\n",
      "Requirement already satisfied: cloudpickle>=1.2.0 in /usr/local/lib/python3.10/dist-packages (from gymnasium[box2d]) (3.1.0)\n",
      "Requirement already satisfied: typing-extensions>=4.3.0 in /usr/local/lib/python3.10/dist-packages (from gymnasium[box2d]) (4.12.2)\n",
      "Requirement already satisfied: farama-notifications>=0.0.1 in /usr/local/lib/python3.10/dist-packages (from gymnasium[box2d]) (0.0.4)\n",
      "Requirement already satisfied: box2d-py==2.3.5 in /usr/local/lib/python3.10/dist-packages (from gymnasium[box2d]) (2.3.5)\n",
      "Requirement already satisfied: pygame>=2.1.3 in /usr/local/lib/python3.10/dist-packages (from gymnasium[box2d]) (2.6.1)\n",
      "Requirement already satisfied: swig==4.* in /usr/local/lib/python3.10/dist-packages (from gymnasium[box2d]) (4.3.0)\n"
     ]
    }
   ],
   "source": [
    "# Check if this code runs in Colab\n",
    "RunningInCOLAB = 'google.colab' in str(get_ipython()) # 코랩에서 실행하는지 여부를 확인하는 코드\n",
    "\n",
    "if RunningInCOLAB: # 코랩에서 실행할 경우\n",
    "    !pip install swig # swig 설치, swig는 C/C++ 프로그램을 파이썬에서 사용할 수 있도록 해주는 도구\n",
    "    !pip install gymnasium # gymnasium 설치  # gymnasium은 OpenAI의 gym 환경을 확장한 것 \n",
    "    !pip install gymnasium[box2d] # gymnasium의 box2d 환경 설치 # box2d는 2D 물리 시뮬레이션 엔진\n",
    "    from tqdm.notebook import tqdm # tqdm 라이브러리 설치 및 노트북에서 진행바를 표시하기 위해 tqdm.notebook에서 tqdm을 가져옴\n",
    "else:\n",
    "    from tqdm import tqdm # 코랩이 아닌 경우에는 tqdm을 가져옴"
   ]
  },
  {
   "cell_type": "code",
   "execution_count": null,
   "metadata": {
    "id": "3pjn4lwodz0-"
   },
   "outputs": [],
   "source": [
    "import os # os 라이브러리 가져오기, 운영체제와 상호작용하기 위한 라이브러리\n",
    "os.environ[\"KERAS_BACKEND\"] = \"tensorflow\" # 케라스 백엔드를 텐서플로우로 설정\n",
    "\n",
    "import numpy as np # numpy 라이브러리 가져오기 # 수학 및 과학 연산을 위한 라이브러리\n",
    "import tensorflow as tf # 텐서플로우 라이브러리 가져오기 # 딥러닝 라이브러리\n",
    "import keras # 케라스 라이브러리\n",
    "가져오기 # 딥러닝 라이브러리\n",
    "import matplotlib.pyplot as plt # matplotlib 라이브러리 가져오기 # 시각화 라이브러리\n",
    "\n",
    "import gymnasium as gym # gymnasium 라이브러리 가져오기 # OpenAI의 gym 환경을 확장한 것\n",
    "from gymnasium import wrappers # gymnasium의 wrappers 가져오기 # 환경을 래핑하기 위한 라이브러리\n",
    " \n",
    "from collections import deque # collections 라이브러리에서 deque 가져오기 # 양방향 큐\n",
    "import random # random 라이브러리 가져오기 # 난수 생성을 위한 라이브러리"
   ]
  },
  {
   "cell_type": "code",
   "execution_count": null,
   "metadata": {
    "colab": {
     "base_uri": "https://localhost:8080/"
    },
    "id": "u61vv0l4dz0-",
    "outputId": "2bbade3f-cf12-4ca1-bf2f-a072fe000ce8"
   },
   "outputs": [
    {
     "name": "stdout",
     "output_type": "stream",
     "text": [
      "[PhysicalDevice(name='/physical_device:GPU:0', device_type='GPU')]\n"
     ]
    }
   ],
   "source": [
    "physical_devices = tf.config.list_physical_devices('GPU') # GPU 디바이스 목록 가져오기\n",
    "print(physical_devices) # GPU 디바이스 목록 출력\n",
    "try: # GPU가 감지되면\n",
    "    tf.config.experimental.set_memory_growth(physical_devices[0], True) # 메모리 증가를 자동으로 설정\n",
    "except: # GPU가 감지되지 않으면\n",
    "    print('GPU is not detected.') # GPU가 감지되지 않았다고 출력"
   ]
  },
  {
   "cell_type": "code",
   "execution_count": null,
   "metadata": {
    "colab": {
     "base_uri": "https://localhost:8080/",
     "height": 35
    },
    "id": "W5vVjO2Kdz0_",
    "outputId": "f39b23ce-73c7-40c9-f806-74c537f681ae"
   },
   "outputs": [
    {
     "data": {
      "application/vnd.google.colaboratory.intrinsic+json": {
       "type": "string"
      },
      "text/plain": [
       "'1.0.0'"
      ]
     },
     "execution_count": 33,
     "metadata": {},
     "output_type": "execute_result"
    }
   ],
   "source": [
    "gym.__version__ # gymnasium 버전 출력"
   ]
  },
  {
   "cell_type": "markdown",
   "metadata": {
    "id": "UwRjPlOwdz0_"
   },
   "source": [
    "### Select Environment"
   ]
  },
  {
   "cell_type": "markdown",
   "metadata": {
    "id": "ABWKmMHgdz1A"
   },
   "source": [
    "**Cart Pole**<br>\n",
    "https://gymnasium.farama.org/environments/classic_control/cart_pole/\n",
    "\n",
    "**Lunar Lander**<br>\n",
    "https://gymnasium.farama.org/environments/box2d/lunar_lander/"
   ]
  },
  {
   "cell_type": "code",
   "execution_count": 34,
   "metadata": {
    "id": "ipzbXzCydz1A"
   },
   "outputs": [],
   "source": [
    "# select evironment\n",
    "# Discrete Action Space:    0 for Cartpole, 1 for LunarLander\n",
    "\n",
    "SELECT_ENV = 0"
   ]
  },
  {
   "cell_type": "code",
   "execution_count": null,
   "metadata": {
    "id": "mp1xX8fOdz1A"
   },
   "outputs": [],
   "source": [
    "if SELECT_ENV == 0: # Cartpole 환경 선택\n",
    "    env_name, res_prefix = 'CartPole-v1', 'cart' # 환경 이름과 결과 접두사 설정\n",
    "    max_episodes, max_ep_steps, goal_score = 400, 500, 450 # 최대 에피소드 수, 최대 에피소드 단계 수, 목표 점수 설정\n",
    "    b_size, h_size = 128, 1000 # 배치 크기, 은닉층 크기 설정\n",
    "    network_type, state_width, state_height, state_depth = 'dense', 0, 0, 0 # 네트워크 유형, 상태 너비, 상태 높이, 상태 깊이 설정\n",
    "    kwargs = {'render_mode':'rgb_array'} # 키워드 인수 설정\n",
    "elif SELECT_ENV == 1: # LunarLander 환경 선택\n",
    "    env_name, res_prefix = 'LunarLander-v3', 'lunD' # 환경 이름과 결과 접두사 설정\n",
    "    max_episodes, max_ep_steps, goal_score = 400, 1000, 200 # 최대 에피소드 수, 최대 에피소드 단계 수, 목표 점수 설정\n",
    "    b_size, h_size = 128, 10000 # 배치 크기, 은닉층 크기 설정\n",
    "    network_type, state_width, state_height, state_depth = 'dense', 0, 0, 0 # 네트워크 유형, 상태 너비, 상태 높이, 상태 깊이 설정\n",
    "    kwargs = {'continuous':False, 'render_mode':'rgb_array'} # 키워드 인수 설정\n",
    "else: assert False, 'environment selection error' # 환경 선택 오류\n",
    "\n",
    "def create_env(): # 환경 생성 함수\n",
    "    env = gym.make(env_name, **kwargs) # 환경 생성\n",
    "    return env # 환경 반환"
   ]
  },
  {
   "cell_type": "code",
   "execution_count": null,
   "metadata": {
    "id": "4Pz3D9m6dz1A"
   },
   "outputs": [],
   "source": [
    "def env_reset(env): # 환경 초기화 함수\n",
    "    observation = env.reset() # 환경 초기화\n",
    "    state = observation[0] if type(observation)==tuple else observation # 상태 설정\n",
    "    return state # 상태 반환\n",
    "\n",
    "def env_step(env, action): # 환경 단계 함수\n",
    "    observation = env.step(action) # 환경 단계\n",
    "    state = observation[0] # 상태 설정\n",
    "    reward = observation[1] # 보상 설정\n",
    "    done = observation[2] or observation[3] if len(observation)>4 else observation[2] # 완료 설정\n",
    "    return state, reward, done # 상태, 보상, 완료 반환"
   ]
  },
  {
   "cell_type": "code",
   "execution_count": null,
   "metadata": {
    "id": "mw-C-uo-dz1A"
   },
   "outputs": [],
   "source": [
    "env = create_env() # 환경 생성\n",
    "state = env_reset(env) # 환경 초기화\n",
    "state, reward, done = env_step(env, env.action_space.sample()) # 환경 단계"
   ]
  },
  {
   "cell_type": "markdown",
   "metadata": {
    "id": "fhgMAtCQdz1B"
   },
   "source": [
    "### Check and Show Environment Variables"
   ]
  },
  {
   "cell_type": "code",
   "execution_count": null,
   "metadata": {
    "id": "Az45yrBrdz1B"
   },
   "outputs": [],
   "source": [
    "action_shape = env.action_space.shape # 행동 공간 모양 설정\n",
    "action_space_type = type(env.action_space)  # 행동 공간 유형 설정\n",
    "\n",
    "if action_space_type==gym.spaces.discrete.Discrete: # 행동 공간 유형이 이산형일 경우\n",
    "    actn_space = 'DISCRETE' # 행동 공간 설정\n",
    "    action_shape = (1,) # 행동 모양 설정\n",
    "    action_dims = 1 # 행동 차원 설정\n",
    "    action_range = env.action_space.n # 행동 범위 설정\n",
    "    num_actions = action_range  # number of actions is action range for DISCRETE actions\n",
    "    action_batch_shape = (None, action_range) # 행동 배치 모양 설정\n",
    "elif action_space_type==gym.spaces.box.Box: # 행동 공간 유형이 상자일 경우\n",
    "    actn_space = 'CONTINUOUS' # 행동 공간 설정\n",
    "    action_dims = action_shape[0] # 행동 차원 설정\n",
    "    actn_uppr_bound = env.action_space.high[0] # 행동 상한 설정\n",
    "    actn_lowr_bound = env.action_space.low[0] # 행동 하한 설정\n",
    "    action_range = (actn_uppr_bound - actn_lowr_bound) # x0.5 for tanh output # 행동 범위 설정\n",
    "    action_batch_shape = tuple([None]+[x for x in action_shape]) # 행동 배치 모양 설정\n",
    "    num_actions = action_dims   # number of actions is action dimension for CONTINUOUS actions # 연속적인 행동의 경우 행동 차원이 행동 수\n",
    "else: assert False, 'other action space type are not supported' # 다른 행동 공간 유형은 지원되지 않음\n",
    "\n",
    "observation_space_type = type(env.observation_space) # 관찰 공간 유형 설정\n",
    "observation_shape = env.observation_space.shape # 관찰 공간 모양 설정\n",
    "\n",
    "if observation_space_type==gym.spaces.discrete.Discrete: # 관찰 공간 유형이 이산형일 경우\n",
    "    observation_shape = (1,) # 관찰 공간 모양 설정\n",
    "    num_states = env.observation_space.n # number of states is observation space for DISCRETE observations\n",
    "elif observation_space_type==gym.spaces.box.Box: # 관찰 공간 유형이 상자일 경우\n",
    "    num_states = observation_shape[0] # number of states is observation shape for CONTINUOUS observations\n",
    "else: print('observation space type error') # 관찰 공간 유형 오류\n",
    "\n",
    "state_shape = observation_shape # 상태 모양 설정\n",
    "state_batch_shape = tuple([None]+[x for x in observation_shape]) # 상태 배치 모양 설정\n",
    "\n",
    "value_shape = (1,) # 가치 모양 설정\n",
    "num_values = 1 # number of values is 1 for value function"
   ]
  },
  {
   "cell_type": "code",
   "execution_count": null,
   "metadata": {
    "colab": {
     "base_uri": "https://localhost:8080/"
    },
    "id": "VRu7nEKAdz1B",
    "outputId": "a7666e53-52b2-42bd-e1c5-9071343d3b11"
   },
   "outputs": [
    {
     "name": "stdout",
     "output_type": "stream",
     "text": [
      "Action space  <class 'gymnasium.spaces.discrete.Discrete'>\n",
      "Action shape  (1,)\n",
      "Action dimensions  1\n",
      "Action range  2\n",
      "Action batch shape  (None, 2)\n",
      "Observation space  <class 'gymnasium.spaces.box.Box'>\n",
      "Observation shape  (4,)\n",
      "Size of State Space  4\n",
      "State shape  (4,)\n",
      "State batch shape  (None, 4)\n",
      "Vallue shape  (1,)\n",
      "Value dimensions  1\n"
     ]
    }
   ],
   "source": [
    "print('Action space ', action_space_type) # 행동 공간 유형 출력\n",
    "print('Action shape ', action_shape) # 행동 모양 출력\n",
    "print('Action dimensions ', action_dims) # 행동 차원 출력\n",
    "print('Action range ', action_range) # 행동 범위 출력\n",
    "if action_space_type==gym.spaces.box.Box: # 행동 공간 유형이 상자일 경우\n",
    "    print('Max Value of Action ', actn_uppr_bound) # 행동 상한 출력\n",
    "    print('Min Value of Action ', actn_lowr_bound) # 행동 하한 출력\n",
    "else: pass # 그 외의 경우는 넘어감\n",
    "print('Action batch shape ', action_batch_shape) # 행동 배치 모양 출력\n",
    "\n",
    "print('Observation space ', observation_space_type) # 관찰 공간 유형 출력\n",
    "print('Observation shape ', observation_shape) # 관찰 모양 출력\n",
    "print('Size of State Space ', num_states) # 상태 공간 크기 출력\n",
    "print('State shape ', state_shape) # 상태 모양 출력\n",
    "print('State batch shape ', state_batch_shape) # 상태 배치 모양 출력\n",
    "\n",
    "print('Vallue shape ', value_shape) # 가치 모양 출력\n",
    "print('Value dimensions ', num_values) # 가치 차원 출력"
   ]
  },
  {
   "cell_type": "markdown",
   "metadata": {
    "id": "J8zVOh8Qdz1B"
   },
   "source": [
    "### Define and Initialize The Agent\n",
    "### **Exercise:** Define Deep Q-network (TensorFlow)\n",
    "\n",
    "A NN of three fully-connected layers is enough for classic control problems.<br>\n",
    "\n",
    "**Parameters for layer definition are:**<br>\n",
    "hiddens = (unit # for layer1, unit # for layer2),<br>\n",
    "act_fn: activation function,<br>\n",
    "out_fn: activation function for output layer, <br>\n",
    "init_fn: kernel initialization function"
   ]
  },
  {
   "cell_type": "code",
   "execution_count": null,
   "metadata": {
    "id": "P8KzwMEHdz1B"
   },
   "outputs": [],
   "source": [
    "def DQNet(hiddens, act_fn, out_fn, init_fn):    # hiddends = (layer1 units, layer2 units)\n",
    "    inputs = keras.Input(shape=state_shape)  # input layer\n",
    "\n",
    "    ### START CODE HERE ###\n",
    "\n",
    "    l1 = keras.layers.Dense(units=hiddens[0], activation=act_fn, kernel_initializer=init_fn)(inputs) # hidden layer 1\n",
    "    l2 = keras.layers.Dense(units=hiddens[1], activation=act_fn, kernel_initializer=init_fn)(l1) # hidden layer 2\n",
    "    outputs = keras.layers.Dense(units=num_actions, activation=out_fn, kernel_initializer='he_uniform')(l2) # output layer\n",
    "\n",
    "    ###  END CODE HERE  ###\n",
    "\n",
    "    model = keras.Model(inputs=inputs, outputs=outputs, name='q_net') # model\n",
    "    return model # return model\n",
    "\n",
    "def build_DQNet(): # DQNet 생성 함수\n",
    "    model = DQNet(hiddens=(32,32), act_fn='relu', out_fn='linear', init_fn='he_uniform') # DQNet 생성\n",
    "    return model # DQNet 반환"
   ]
  },
  {
   "cell_type": "code",
   "execution_count": null,
   "metadata": {
    "colab": {
     "base_uri": "https://localhost:8080/",
     "height": 257
    },
    "id": "epRJ-O1udz1C",
    "outputId": "34fa59b9-25c1-4e59-a7c3-da27352ea944"
   },
   "outputs": [
    {
     "data": {
      "text/html": [
       "<pre style=\"white-space:pre;overflow-x:auto;line-height:normal;font-family:Menlo,'DejaVu Sans Mono',consolas,'Courier New',monospace\"><span style=\"font-weight: bold\">Model: \"q_net\"</span>\n",
       "</pre>\n"
      ],
      "text/plain": [
       "\u001b[1mModel: \"q_net\"\u001b[0m\n"
      ]
     },
     "metadata": {},
     "output_type": "display_data"
    },
    {
     "data": {
      "text/html": [
       "<pre style=\"white-space:pre;overflow-x:auto;line-height:normal;font-family:Menlo,'DejaVu Sans Mono',consolas,'Courier New',monospace\">┏━━━━━━━━━━━━━━━━━━━━━━━━━━━━━━━━━━━━━━┳━━━━━━━━━━━━━━━━━━━━━━━━━━━━━┳━━━━━━━━━━━━━━━━━┓\n",
       "┃<span style=\"font-weight: bold\"> Layer (type)                         </span>┃<span style=\"font-weight: bold\"> Output Shape                </span>┃<span style=\"font-weight: bold\">         Param # </span>┃\n",
       "┡━━━━━━━━━━━━━━━━━━━━━━━━━━━━━━━━━━━━━━╇━━━━━━━━━━━━━━━━━━━━━━━━━━━━━╇━━━━━━━━━━━━━━━━━┩\n",
       "│ input_layer_5 (<span style=\"color: #0087ff; text-decoration-color: #0087ff\">InputLayer</span>)           │ (<span style=\"color: #00d7ff; text-decoration-color: #00d7ff\">None</span>, <span style=\"color: #00af00; text-decoration-color: #00af00\">4</span>)                   │               <span style=\"color: #00af00; text-decoration-color: #00af00\">0</span> │\n",
       "├──────────────────────────────────────┼─────────────────────────────┼─────────────────┤\n",
       "│ dense_15 (<span style=\"color: #0087ff; text-decoration-color: #0087ff\">Dense</span>)                     │ (<span style=\"color: #00d7ff; text-decoration-color: #00d7ff\">None</span>, <span style=\"color: #00af00; text-decoration-color: #00af00\">32</span>)                  │             <span style=\"color: #00af00; text-decoration-color: #00af00\">160</span> │\n",
       "├──────────────────────────────────────┼─────────────────────────────┼─────────────────┤\n",
       "│ dense_16 (<span style=\"color: #0087ff; text-decoration-color: #0087ff\">Dense</span>)                     │ (<span style=\"color: #00d7ff; text-decoration-color: #00d7ff\">None</span>, <span style=\"color: #00af00; text-decoration-color: #00af00\">32</span>)                  │           <span style=\"color: #00af00; text-decoration-color: #00af00\">1,056</span> │\n",
       "├──────────────────────────────────────┼─────────────────────────────┼─────────────────┤\n",
       "│ dense_17 (<span style=\"color: #0087ff; text-decoration-color: #0087ff\">Dense</span>)                     │ (<span style=\"color: #00d7ff; text-decoration-color: #00d7ff\">None</span>, <span style=\"color: #00af00; text-decoration-color: #00af00\">2</span>)                   │              <span style=\"color: #00af00; text-decoration-color: #00af00\">66</span> │\n",
       "└──────────────────────────────────────┴─────────────────────────────┴─────────────────┘\n",
       "</pre>\n"
      ],
      "text/plain": [
       "┏━━━━━━━━━━━━━━━━━━━━━━━━━━━━━━━━━━━━━━┳━━━━━━━━━━━━━━━━━━━━━━━━━━━━━┳━━━━━━━━━━━━━━━━━┓\n",
       "┃\u001b[1m \u001b[0m\u001b[1mLayer (type)                        \u001b[0m\u001b[1m \u001b[0m┃\u001b[1m \u001b[0m\u001b[1mOutput Shape               \u001b[0m\u001b[1m \u001b[0m┃\u001b[1m \u001b[0m\u001b[1m        Param #\u001b[0m\u001b[1m \u001b[0m┃\n",
       "┡━━━━━━━━━━━━━━━━━━━━━━━━━━━━━━━━━━━━━━╇━━━━━━━━━━━━━━━━━━━━━━━━━━━━━╇━━━━━━━━━━━━━━━━━┩\n",
       "│ input_layer_5 (\u001b[38;5;33mInputLayer\u001b[0m)           │ (\u001b[38;5;45mNone\u001b[0m, \u001b[38;5;34m4\u001b[0m)                   │               \u001b[38;5;34m0\u001b[0m │\n",
       "├──────────────────────────────────────┼─────────────────────────────┼─────────────────┤\n",
       "│ dense_15 (\u001b[38;5;33mDense\u001b[0m)                     │ (\u001b[38;5;45mNone\u001b[0m, \u001b[38;5;34m32\u001b[0m)                  │             \u001b[38;5;34m160\u001b[0m │\n",
       "├──────────────────────────────────────┼─────────────────────────────┼─────────────────┤\n",
       "│ dense_16 (\u001b[38;5;33mDense\u001b[0m)                     │ (\u001b[38;5;45mNone\u001b[0m, \u001b[38;5;34m32\u001b[0m)                  │           \u001b[38;5;34m1,056\u001b[0m │\n",
       "├──────────────────────────────────────┼─────────────────────────────┼─────────────────┤\n",
       "│ dense_17 (\u001b[38;5;33mDense\u001b[0m)                     │ (\u001b[38;5;45mNone\u001b[0m, \u001b[38;5;34m2\u001b[0m)                   │              \u001b[38;5;34m66\u001b[0m │\n",
       "└──────────────────────────────────────┴─────────────────────────────┴─────────────────┘\n"
      ]
     },
     "metadata": {},
     "output_type": "display_data"
    },
    {
     "data": {
      "text/html": [
       "<pre style=\"white-space:pre;overflow-x:auto;line-height:normal;font-family:Menlo,'DejaVu Sans Mono',consolas,'Courier New',monospace\"><span style=\"font-weight: bold\"> Total params: </span><span style=\"color: #00af00; text-decoration-color: #00af00\">1,282</span> (5.01 KB)\n",
       "</pre>\n"
      ],
      "text/plain": [
       "\u001b[1m Total params: \u001b[0m\u001b[38;5;34m1,282\u001b[0m (5.01 KB)\n"
      ]
     },
     "metadata": {},
     "output_type": "display_data"
    },
    {
     "data": {
      "text/html": [
       "<pre style=\"white-space:pre;overflow-x:auto;line-height:normal;font-family:Menlo,'DejaVu Sans Mono',consolas,'Courier New',monospace\"><span style=\"font-weight: bold\"> Trainable params: </span><span style=\"color: #00af00; text-decoration-color: #00af00\">1,282</span> (5.01 KB)\n",
       "</pre>\n"
      ],
      "text/plain": [
       "\u001b[1m Trainable params: \u001b[0m\u001b[38;5;34m1,282\u001b[0m (5.01 KB)\n"
      ]
     },
     "metadata": {},
     "output_type": "display_data"
    },
    {
     "data": {
      "text/html": [
       "<pre style=\"white-space:pre;overflow-x:auto;line-height:normal;font-family:Menlo,'DejaVu Sans Mono',consolas,'Courier New',monospace\"><span style=\"font-weight: bold\"> Non-trainable params: </span><span style=\"color: #00af00; text-decoration-color: #00af00\">0</span> (0.00 B)\n",
       "</pre>\n"
      ],
      "text/plain": [
       "\u001b[1m Non-trainable params: \u001b[0m\u001b[38;5;34m0\u001b[0m (0.00 B)\n"
      ]
     },
     "metadata": {},
     "output_type": "display_data"
    }
   ],
   "source": [
    "test_model = build_DQNet() # DQNet 생성\n",
    "test_model.summary() # DQNet 요약 출력\n",
    "del test_model # test_model 삭제"
   ]
  },
  {
   "cell_type": "markdown",
   "metadata": {
    "id": "cGhZi3EOdz1C"
   },
   "source": [
    "**Model Summary:**\n",
    "\n",
    "```\n",
    "┏--------------------------------------┳-----------------------------┳-----------------┓\n",
    "┃ Layer (type)                         ┃ Output Shape                ┃         Param # ┃\n",
    "┡--------------------------------------╇-----------------------------╇-----------------┩\n",
    "│ input_layer (InputLayer)             │ (None, 4 or 8)              │               0 │\n",
    "├--------------------------------------┼-----------------------------┼-----------------┤\n",
    "│ dense (Dense)                        │ (None, 32)                  │      160 or 288 │\n",
    "├--------------------------------------┼-----------------------------┼-----------------┤\n",
    "│ dense_1 (Dense)                      │ (None, 32)                  │           1,056 │\n",
    "├--------------------------------------┼-----------------------------┼-----------------┤\n",
    "│ dense_2 (Dense)                      │ (None, 2 or 4)              │       66 or 132 │\n",
    "└--------------------------------------┴-----------------------------┴-----------------┘\n",
    "```"
   ]
  },
  {
   "cell_type": "markdown",
   "metadata": {
    "id": "LqYCCMMGdz1C"
   },
   "source": [
    "The policy function in the Agent_Net is just for getting a SINGLE sample, not for training. So you have to set `training=False` if necessary.\n",
    "Since the network takes batch format (i.e., `[batch,data]`), the input state should be given as `[None,...]` and the output should be taken as `[0,...]`.\n",
    "\n",
    "### **Exercise:** Define Policy Functions"
   ]
  },
  {
   "cell_type": "code",
   "execution_count": null,
   "metadata": {
    "id": "yu9ucXdldz1C"
   },
   "outputs": [],
   "source": [
    "class Agent_Net: #  에이전트 네트워크 클래스\n",
    "    def __init__(self): # 초기화 함수\n",
    "        self.policy_q = build_DQNet()                       # build policy network\n",
    "        self.target_q = build_DQNet()                       # build target network\n",
    "        self.target_update()                                # copy weights from policy to target\n",
    "\n",
    "    def policy(self, state, epsilon, exploring):            # e-greedy policy if exploring==True\n",
    "        state_input = tf.convert_to_tensor(state[None,...], dtype=tf.float32)   # make the state network-ready\n",
    "\n",
    "        ### START CODE HERE ###\n",
    "\n",
    "        if exploring:                                       # if e-greedy policy\n",
    "            if tf.random.uniform([]) > epsilon:             # exploit if random > epsilon\n",
    "                action_q = self.policy_q(state_input, training=False)   # get Q-values for input state\n",
    "                action = tf.argmax(action_q, axis=1)        # find the action with maximum Q value\n",
    "            else:                                           # explore else\n",
    "                action = tf.random.uniform([], minval=0, maxval=num_actions, dtype=tf.int32)  # random action\n",
    "        else:                                               # else greedy policy (exploitation)\n",
    "            action_q = self.policy_q(state_input, training=False)   # get Q-values for input state\n",
    "            action = tf.argmax(action_q, axis=1)            # find the action with maximum Q value\n",
    "\n",
    "        # Squeeze the action to remove any extra dimensions and convert to scalar integer\n",
    "        action = tf.squeeze(action) # action을 스칼라 정수로 변환\n",
    "\n",
    "        ###  END CODE HERE  ###\n",
    "\n",
    "        return action.numpy() # return action\n",
    "\n",
    "    def target_update(self): # target update 함수\n",
    "        self.target_q.set_weights(self.policy_q.get_weights())  # copy weights from policy network to target network\n",
    "        return # return"
   ]
  },
  {
   "cell_type": "code",
   "execution_count": null,
   "metadata": {
    "colab": {
     "base_uri": "https://localhost:8080/"
    },
    "id": "EP4gM1JLdz1C",
    "outputId": "06da6b5f-545c-4ef9-cfa8-b47e30642a4b"
   },
   "outputs": [
    {
     "name": "stdout",
     "output_type": "stream",
     "text": [
      "5  0  6  5  1  3  1  4  5  0  3  1  6  0  1  2  0  3  6  4  "
     ]
    }
   ],
   "source": [
    "def test_policy(exploring): # 정책 테스트 함수\n",
    "\n",
    "    epsilon = 0.1 # epsilon 설정\n",
    "    state_input = tf.random.uniform((1,3)) # 상태 입력 설정\n",
    "    action_range = 7 # 행동 범위 설정\n",
    "\n",
    "    def policy_q(x):    # pretending policy_q network\n",
    "        x = tf.random.uniform((tf.shape(x)[0],action_range)) # random Q-values\n",
    "        return x # return x\n",
    "\n",
    "    ### START CODE HERE ###\n",
    "\n",
    "    if exploring:                                           # if e-greedy policy\n",
    "        if tf.random.uniform([]) > epsilon:                 # exploit if random > epsilon\n",
    "            action_q = policy_q(state_input)                # get Q-values for input state\n",
    "            action = tf.argmax(action_q, axis=1)            # find the action with maximum Q value\n",
    "        else:                                               # explore else\n",
    "            action = tf.random.uniform([], minval=0, maxval=action_range, dtype=tf.int32)  # random action\n",
    "    else:                                                   # else greedy policy (exploitation)\n",
    "        action_q = policy_q(state_input)                    # get Q-values for input state\n",
    "        action = tf.argmax(action_q, axis=1)                # find the action with maximum Q value\n",
    "\n",
    "    # Squeeze the action to remove any extra dimensions and convert to scalar integer\n",
    "    action = tf.squeeze(action)\n",
    "\n",
    "    ###  END CODE HERE  ###\n",
    "\n",
    "    return action # return action\n",
    "\n",
    "tf.random.set_seed(2)\n",
    "for _ in range(10): print(test_policy(True).numpy(), ' ', end='') # 정책 테스트\n",
    "for _ in range(10): print(test_policy(False).numpy(), ' ', end='') # 정책 테스트"
   ]
  },
  {
   "cell_type": "markdown",
   "metadata": {
    "id": "eT_0F3AJdz1D"
   },
   "source": [
    "**Expected Outputs:**\n",
    "\n",
    "```\n",
    "5  0  6  5  1  3  1  4  5  0  3  1  6  0  1  2  0  3  6  4\n",
    "```"
   ]
  },
  {
   "cell_type": "markdown",
   "metadata": {
    "id": "Ab1m1-K2dz1D"
   },
   "source": [
    "### Define and Initialize Replay Memory\n",
    "\n",
    "The replay memory (or replay buffer) is implemented with `deque`, which maintians the fixed number of elements by discarding the oldest element automatically.<br>\n",
    "The inputs of the `put_experience` function are from environments and the outputs of the `get_batch` function are fed to the NN. Therefore the output types should be tensors."
   ]
  },
  {
   "cell_type": "code",
   "execution_count": null,
   "metadata": {
    "id": "3GOul8Dedz1D"
   },
   "outputs": [],
   "source": [
    "class ReplayMemory: # 리플레이 메모리 클래스\n",
    "    def __init__(self, memory_size): # 초기화 함수\n",
    "        self.experiences = deque(maxlen=memory_size)    # allocate replay memory\n",
    "        self.num_episodes = 0                           # set number of episode to zero\n",
    "\n",
    "    def put_experience(self, experience):               # put an experience into replay memory\n",
    "        state, action, next_state, reward, not_done = experience # unpack experience\n",
    "        self.experiences.append((state, action, next_state, reward, not_done)) # append experience\n",
    "        return # return\n",
    "\n",
    "    def get_batch(self, num_samples):                   # get a batch of randomly sampled experiences\n",
    "        state_batch, next_state_batch, action_batch, reward_batch, not_done_batch = [], [], [], [], [] # 배치 초기화\n",
    "\n",
    "        sample_batch = random.sample(self.experiences, num_samples) # replay memory에서 샘플링\n",
    "\n",
    "        for sample in sample_batch: # 샘플링된 샘플에 대해\n",
    "            state, action, next_state, reward, not_done = sample # 샘플 언패킹\n",
    "            state_batch.append(state) # 상태 추가\n",
    "            action_batch.append(action) # 행동 추가\n",
    "            next_state_batch.append(next_state) # 다음 상태 추가\n",
    "            reward_batch.append(reward) # 보상 추가\n",
    "            not_done_batch.append(not_done) # 완료되지 않은 것 추가\n",
    "\n",
    "        batch = (tf.convert_to_tensor(state_batch, dtype=tf.float32), # 배치 생성\n",
    "                tf.convert_to_tensor(action_batch, dtype=tf.int32), # 배치 생성\n",
    "                tf.convert_to_tensor(next_state_batch, dtype=tf.float32), # 배치 생성\n",
    "                tf.convert_to_tensor(reward_batch, dtype=tf.float32), # 배치 생성\n",
    "                tf.convert_to_tensor(not_done_batch, dtype=tf.float32)) # 배치 생성\n",
    "        return batch # 배치 반환"
   ]
  },
  {
   "cell_type": "markdown",
   "metadata": {
    "id": "FzQe9mCUdz1E"
   },
   "source": [
    "### **Exercise:** Initialize the replay memory\n",
    "\n",
    "A single experience consists of `(state, action, next_state, reward, not_done)`. Be careful with **`not_done`**."
   ]
  },
  {
   "cell_type": "code",
   "execution_count": null,
   "metadata": {
    "id": "tVuoMQ4ndz1F"
   },
   "outputs": [],
   "source": [
    "def init_memory(mem, env, agent, num_samples): # 메모리 초기화 함수\n",
    "    state = env_reset(env)                          # initialize environment\n",
    "    for _ in range(num_samples): # 샘플 수만큼 반복\n",
    "\n",
    "        ### START CODE HERE ###\n",
    "\n",
    "        action = agent.policy(state, epsilon=1.0, exploring=True)   # get an action with the policy\n",
    "        next_state, reward, done = env_step(env, action)          # observe the environment reaction\n",
    "        experience = (state, action, next_state, reward, 1.0 - float(done))   # pack observations into experience tuple\n",
    "        mem.put_experience(experience)                           # put the experience to replay memory\n",
    "        state = env_reset(env) if done else next_state          # set the next state (reset env if done)\n",
    "\n",
    "        ###  END CODE HERE  ###\n",
    "\n",
    "    return\n"
   ]
  },
  {
   "cell_type": "code",
   "execution_count": null,
   "metadata": {
    "colab": {
     "base_uri": "https://localhost:8080/"
    },
    "id": "cx5tEPZWdz1F",
    "outputId": "559a9e50-5425-43f3-9770-b6b4fa88b389"
   },
   "outputs": [
    {
     "name": "stdout",
     "output_type": "stream",
     "text": [
      "[-0.04072088  0.18846463 -0.00277539 -0.32736924]\n",
      "[1 0 1 0]\n",
      "[-0.02550636 -0.00617038 -0.02836518 -0.04544564]\n",
      "[1. 1. 1. 1.]\n",
      "[1. 1. 1. 1.]\n"
     ]
    }
   ],
   "source": [
    "tf.random.set_seed(2) # 시드 설정\n",
    "keras.utils.set_random_seed(2) # 랜덤 시드 설정\n",
    "test_agent = Agent_Net() # 에이전트 네트워크 생성\n",
    "test_mem = ReplayMemory(4) # 리플레이 메모리 생성\n",
    "test_env = create_env() # 환경 생성 \n",
    "test_state = test_env.reset(seed=3) # 환경 초기화\n",
    "init_memory(test_mem, test_env, test_agent, 4) # 메모리 초기화\n",
    "\n",
    "if SELECT_ENV==1: # LunarLander 환경인 경우\n",
    "    print(test_mem.get_batch(4)[0][0][:4].numpy()) # 배치 출력\n",
    "    print(test_mem.get_batch(4)[1].numpy()) # 배치 출력\n",
    "    print(test_mem.get_batch(4)[2][0][:4].numpy()) # 배치 출력\n",
    "    print(test_mem.get_batch(4)[3].numpy()) # 배치 출력\n",
    "    print(test_mem.get_batch(4)[4].numpy()) # 배치 출력\n",
    "else:\n",
    "    print(test_mem.get_batch(4)[0][0][:4].numpy()) # 배치 출력\n",
    "    print(test_mem.get_batch(4)[1].numpy()) # 배치 출력\n",
    "    print(test_mem.get_batch(4)[2][0][:4].numpy()) # 배치 출력\n",
    "    print(test_mem.get_batch(4)[3].numpy()) # 배치 출력\n",
    "    print(test_mem.get_batch(4)[4].numpy()) # 배치 출력\n",
    "\n",
    "del test_agent, test_mem\n",
    "test_env.close()"
   ]
  },
  {
   "cell_type": "markdown",
   "metadata": {
    "id": "ytcVkD7Kdz1F"
   },
   "source": [
    "**Expected Outputs:**\n",
    "\n",
    "```\n",
    "[-0.04072088  0.18846463 -0.00277539 -0.32736924]\n",
    "[1 0 1 0]\n",
    "[-0.02550636 -0.00617038 -0.02836518 -0.04544564]\n",
    "[1. 1. 1. 1.]\n",
    "[1. 1. 1. 1.]\n",
    "```\n",
    "or\n",
    "```\n",
    "[-0.01505842  1.4191642  -0.76619244  0.17035668]\n",
    "[1 0 1 0]\n",
    "[-0.03796177  1.427054   -0.7755038   0.08992036]\n",
    "[-1.0618883 -1.0290995 -1.9180926 -1.4797792]\n",
    "[1. 1. 1. 1.]\n",
    "```"
   ]
  },
  {
   "cell_type": "markdown",
   "metadata": {
    "id": "xkA_CKjUdz1F"
   },
   "source": [
    "### Learning Procedures\n",
    "\n",
    "DQN trains the Q-network to minimize the difference:\n",
    "\n",
    "$$ \\delta_t = (r_{t} + \\gamma \\max_{\\hat{a}_{t+1}} Q_T(s_{t+1}, \\hat{a}_{t+1}; \\theta_T)) - Q_P(s_t, a_t; \\theta_P) $$\n",
    "\n",
    "where $Q_T$ is a target network and $Q_P$ policy network.\n",
    "\n",
    "Then the loss function is\n",
    "\n",
    "$$ L(\\theta_P) = \\delta_t^2 $$\n",
    "\n",
    "### **Exercise:** Define ONE step of Training Loop and Evaluation Loop"
   ]
  },
  {
   "cell_type": "markdown",
   "metadata": {
    "id": "H0Qji2lydz1F"
   },
   "source": [
    "The following test has same codes as the `dqn_train` function except the last line."
   ]
  },
  {
   "cell_type": "code",
   "execution_count": null,
   "metadata": {
    "id": "5zeaIjLMdz1F"
   },
   "outputs": [],
   "source": [
    "def test_training(): # 훈련 테스트 함수\n",
    "    state_b = tf.random.uniform((3,4)) # 상태 배치 설정\n",
    "    action_b = tf.random.uniform((3,), minval=0, maxval=7, dtype=tf.int32) # 행동 배치 설정\n",
    "    next_state_b = tf.random.uniform((3,4)) # 다음 상태 배치 설정\n",
    "    reward_b = tf.random.uniform((3,)) # 보상 배치 설정\n",
    "    not_done_b = tf.random.uniform((3,)) # 완료되지 않은 것 배치 설정\n",
    "    gamma = tf.random.uniform((1,)) # 감마 설정\n",
    "    action_range = 7 # 행동 범위 설정\n",
    "\n",
    "    class test_agent: # 테스트 에이전트 클래스\n",
    "        def __init__(self): # 초기화 함수\n",
    "            pass # pass\n",
    "        def policy_q(self, x): # 정책 Q 함수\n",
    "            return tf.reduce_sum(x, axis=-1, keepdims=True) # x의 합을 계산\n",
    "        def target_q(self, x): # 목표 Q 함수\n",
    "            return tf.reduce_sum(x, axis=-1, keepdims=True) # x의 합을 계산\n",
    "\n",
    "    agent = test_agent() # 테스트 에이전트 생성\n",
    "\n",
    "    ### START CODE HERE ###\n",
    "\n",
    "    # 현재 정책으로 Q 값을 계산\n",
    "    curr_q = agent.policy_q(state_b)  # Shape: (3, 1)\n",
    "\n",
    "    # 목표 정책으로 Q 값을 계산하고, 그 중 최대 Q 값을 찾음\n",
    "    next_q = agent.target_q(next_state_b)  # Shape: (3, 1)\n",
    "    max_next_q = tf.reduce_max(next_q, axis=1, keepdims=True)  # Shape: (3, 1)\n",
    "\n",
    "    # 목표 보상 계산 (b, 1)\n",
    "    target_reward = reward_b[:, tf.newaxis] + gamma * max_next_q * not_done_b[:, tf.newaxis]  # Shape: (3, 1)\n",
    "\n",
    "    # 원-핫 인코딩으로 액션에 해당하는 위치만 필터링\n",
    "    action_v = tf.one_hot(action_b, action_range)  # Shape: (3, 7)\n",
    "\n",
    "    # 라벨 계산 (b, a)\n",
    "    label_q = curr_q + action_v * (target_reward - curr_q)  # Shape: (3, 7)\n",
    "    label_q = label_q.numpy() # 라벨 Q를 넘파이 배열로 변환\n",
    "\n",
    "    return label_q # 라벨 Q 반환\n",
    "\n"
   ]
  },
  {
   "cell_type": "code",
   "execution_count": null,
   "metadata": {
    "colab": {
     "base_uri": "https://localhost:8080/"
    },
    "id": "mfBDNS1Jdz1G",
    "outputId": "7308c2e8-0617-4185-fdda-a7f6744cee5f"
   },
   "outputs": [
    {
     "name": "stdout",
     "output_type": "stream",
     "text": [
      "Training lable test passed.\n"
     ]
    }
   ],
   "source": [
    "tf.random.set_seed(2) # 시드 설정\n",
    "\n",
    "ans = np.array([[1.1889474 , 1.1889474 , 1.1889474 , 1.1889474 , 1.1889474 , 1.1889474 , 0.40853113],\n",
    "                [2.713482  , 2.713482  , 2.4351463 , 2.713482  , 2.713482  , 2.713482  , 2.713482  ],\n",
    "                [3.3669732 , 1.4427134 , 3.3669732 , 3.3669732 , 3.3669732 , 3.3669732 , 3.3669732 ]])\n",
    "res = test_training() # 훈련 테스트\n",
    "print('Training lable test passed.') if np.allclose(res,ans) else print('Training lable test failed.') # 훈련 라벨 테스트"
   ]
  },
  {
   "cell_type": "code",
   "execution_count": null,
   "metadata": {
    "id": "veD0awkHdz1G"
   },
   "outputs": [],
   "source": [
    "def dqn_train(agent, batch, config): # DQN 훈련 함수\n",
    "    state_b, action_b, next_state_b, reward_b, not_done_b = batch # 배치 언패킹\n",
    "    gamma = config.gamma # 감마 설정\n",
    "\n",
    "    ### START CODE HERE ###\n",
    "\n",
    "    # get action probability with current (think of WHY!!) policy (b,a)\n",
    "    curr_q = agent.policy_q(state_b)  # Shape: (batch_size, num_actions)\n",
    "\n",
    "    # get action probability with target policy (b,a),\n",
    "    # and then find the max Q value with it (b,)\n",
    "    next_q = agent.target_q(next_state_b)  # Shape: (batch_size, num_actions)\n",
    "    max_next_q = tf.reduce_max(next_q, axis=1, keepdims=True)  # Shape: (batch_size,1)\n",
    "\n",
    "    # calculate target reward (b,1)\n",
    "    target_reward = reward_b[:, tf.newaxis] + gamma * max_next_q * not_done_b[:, tf.newaxis]  # Shape: (batch_size,1)\n",
    "\n",
    "    # make one-hot actions (b,a) to filter out other actions\n",
    "    action_v = tf.one_hot(action_b, num_actions)  # Shape: (batch_size, num_actions)\n",
    "\n",
    "    # make ground true labels for training (b,a)\n",
    "    label_q = curr_q + action_v * (target_reward - curr_q)  # Shape: (batch_size, num_actions)\n",
    "\n",
    "    # training with model.fit()\n",
    "    logs = agent.policy_q.fit(state_b, label_q, verbose=0)\n",
    "\n",
    "    ###  END CODE HERE  ###\n",
    "\n",
    "    loss = logs.history['loss'][-1] # 손실 설정\n",
    "    return loss # 손실 반환\n"
   ]
  },
  {
   "cell_type": "code",
   "execution_count": null,
   "metadata": {
    "id": "08mIZMLGdz1G"
   },
   "outputs": [],
   "source": [
    "def evaluate_policy(env, agent, num_avg): # 정책 평가 함수\n",
    "\n",
    "    total_reward = 0.0 # 총 보상 초기화\n",
    "    episodes_to_play = num_avg # 평균을 내기 위한 에피소드 수 설정\n",
    "    for i in range(episodes_to_play): # Play n episode and take the average\n",
    "        state = env_reset(env) # 환경 초기화\n",
    "        done = False # 완료 여부 초기화\n",
    "        episode_reward = 0.0 # 에피소드 보상 초기화\n",
    "        while not done: # 완료되지 않은 동안\n",
    "\n",
    "            ### START CODE HERE ###\n",
    "\n",
    "            action = agent.policy(state, epsilon=0.0, exploring=False)   # get an action with policy\n",
    "            next_state, reward, done = env_step(env, action)            # take action and observe outcomes\n",
    "\n",
    "            ###  END CODE HERE  ###\n",
    "\n",
    "            state = next_state # 상태 업데이트\n",
    "            episode_reward += reward # 에피소드 보상 업데이트\n",
    "        total_reward += episode_reward # 총 보상 업데이트\n",
    "    average_reward = total_reward / episodes_to_play # 평균 보상 계산\n",
    "\n",
    "    return average_reward # 평균 보상 반환\n"
   ]
  },
  {
   "cell_type": "markdown",
   "metadata": {
    "id": "IppQJtlidz1H"
   },
   "source": [
    "### Define Epsilon Function\n",
    "\n",
    "This is an example of exponential decay epsilon function. One of easist epsilon decay functions is simply to multiply 0.9. You can define your own epsilon function."
   ]
  },
  {
   "cell_type": "code",
   "execution_count": null,
   "metadata": {
    "id": "D5TYV7Vgdz1H"
   },
   "outputs": [],
   "source": [
    "# Exploration parameters for epsilon greedy strategy\n",
    "class Epsilon:\n",
    "    def __init__(self, max_episodes, decay_speed=1.0):\n",
    "        self.explore_start = 1.0            # exploration probability at start\n",
    "        self.explore_stop = 0.01            # minimum exploration probability\n",
    "        self.decay_rate = decay_speed/max_episodes  # exp decay rate for exploration prob (10/max ≈ 0.99)\n",
    "        self.episode_cnt = 0 # episode count\n",
    "\n",
    "    def get_epsilon(self): # epsilon 가져오기 함수\n",
    "        eps = (self.explore_stop # epsilon 설정\n",
    "            + (self.explore_start - self.explore_stop) * tf.math.exp(-self.decay_rate * self.episode_cnt)) # epsilon 설정\n",
    "        self.episode_cnt += 1 # 에피소드 카운트 업데이트\n",
    "        return eps # epsilon 반환"
   ]
  },
  {
   "cell_type": "markdown",
   "metadata": {
    "id": "7EQW7idodz1H"
   },
   "source": [
    "### Define and Initialize Hyperparameters\n"
   ]
  },
  {
   "cell_type": "code",
   "execution_count": null,
   "metadata": {
    "id": "aJWVhlhbdz1M"
   },
   "outputs": [],
   "source": [
    "class configuration: # 구성 클래스\n",
    "    def __init__(self):\n",
    "        self.gamma = 0.99   # discount rate\n",
    "        self.lr = 2e-4      # learning rate\n",
    "\n",
    "config = configuration() # 구성 설정"
   ]
  },
  {
   "cell_type": "code",
   "execution_count": null,
   "metadata": {
    "id": "QQGlBqdodz1M"
   },
   "outputs": [],
   "source": [
    "max_steps = max_episodes * max_ep_steps # 최대 단계 설정\n",
    "batch_size = b_size # 배치 크기 설정\n",
    "memory_size = h_size # 메모리 크기 설정\n",
    "\n",
    "agent = Agent_Net() # 에이전트 네트 생성\n",
    "\n",
    "memD = ReplayMemory(memory_size) # 리플레이 메모리 생성\n",
    "init_memory(memD, env, agent, memory_size) # 메모리 초기화\n",
    "epsF = Epsilon(max_episodes, 10.0) # 엡실론 생성\n",
    "opt = tf.optimizers.Adam(learning_rate=config.lr, clipvalue=2.0) # 옵티마이저 생성\n",
    "\n",
    "agent.policy_q.compile(optimizer=opt, loss='mse', jit_compile=False) # 정책 Q 컴파일"
   ]
  },
  {
   "cell_type": "markdown",
   "metadata": {
    "id": "BKjIkRAodz1M"
   },
   "source": [
    "### Define Main Training Loop\n",
    "\n",
    "\n",
    "### **Exercise:** Complete Main Training Loop"
   ]
  },
  {
   "cell_type": "code",
   "execution_count": null,
   "metadata": {
    "colab": {
     "base_uri": "https://localhost:8080/",
     "height": 113,
     "referenced_widgets": [
      "247e491413ac47fa9f5d3dcb07ca45ae",
      "3ce44cdec0ca44f58795311b78e012de",
      "2aa520c1816d45108e195a09e3b7e248",
      "9ab8126ae91d4c14a0bdd4f0dfdf056b",
      "a155dc030adc409b8fdc60a51231297b",
      "97cc2c0d7cae4ad399fba0fedea6a3a8",
      "c122e3aea9774992bdfb216659668f74",
      "52727c579cb341feacd988b45f4e55ba",
      "1e55aeb9030d4b019d5d29ebd8f533bd",
      "828cd3cfee444b0799fbad64b59c69ee",
      "2fc6c103eb974536a13a893d50d81113"
     ]
    },
    "id": "HH-54TZydz1M",
    "outputId": "1e6b6726-07c8-4e17-d6f3-74276f328c6a"
   },
   "outputs": [
    {
     "data": {
      "application/vnd.jupyter.widget-view+json": {
       "model_id": "247e491413ac47fa9f5d3dcb07ca45ae",
       "version_major": 2,
       "version_minor": 0
      },
      "text/plain": [
       "  0%|          | 0/200000 [00:00<?, ?it/s]"
      ]
     },
     "metadata": {},
     "output_type": "display_data"
    },
    {
     "name": "stdout",
     "output_type": "stream",
     "text": [
      "episodes:  134, loss:3.12689, val_reward 500.00\n",
      "total steps: 8707\n"
     ]
    }
   ],
   "source": [
    "logs = keras.callbacks.History() # 로그 생성\n",
    "logs.history.update({'pi_loss':[]}) # 로그 업데이트\n",
    "logs.history.update({'ereward':[]}) # 로그 업데이트\n",
    "logs.history.update({'e-steps':[]}) # 로그 업데이트\n",
    "logs.history.update({'vreward':[]}) # 로그 업데이트\n",
    "\n",
    "# variables for simulation \n",
    "num_episodes = 0 # number of episodes simulated\n",
    "val_episodes = 2            # exit condition\n",
    "\n",
    "# variables for episode logging\n",
    "pi_loss = 0.0 # policy loss\n",
    "\n",
    "loss_sum = 0.0 # loss sum\n",
    "epis_steps = 0 # episode steps\n",
    "epis_reward = 0.0 # episode reward\n",
    "eval_reward = -float('inf') # evaluation reward\n",
    "\n",
    "# initialize training variables\n",
    "epsilon = 1.0 # exploration probability\n",
    "next_state = None # next state\n",
    "done = True # done flag\n",
    "\n",
    "pbar = tqdm(range(max_steps), bar_format='{l_bar}{bar:10}{r_bar}{bar:-10b}') # 진행바 생성\n",
    "\n",
    "for sim_steps in pbar: # 시뮬레이션 단계 반복\n",
    "\n",
    "    ### START CODE HERE ###\n",
    "\n",
    "    state = env_reset(env) if done else next_state                          # 현재 상태 가져오기\n",
    "    action = int(agent.policy(state, epsilon, exploring=True))              # e-그리디 정책에 따라 액션 선택 및 정수로 변환\n",
    "    next_state, reward, done = env_step(env, action)                       # 액션 수행 및 결과 관찰\n",
    "\n",
    "    experience = (state, action, next_state, reward, 1.0 - float(done))    # 새로운 경험 패킹\n",
    "    memD.put_experience(experience)                                       # 경험을 리플레이 메모리에 저장\n",
    "\n",
    "    batch = memD.get_batch(batch_size)                                    # 배치 가져오기\n",
    "    step_pi_loss = dqn_train(agent, batch, config)                       # DQN 훈련\n",
    "\n",
    "\n",
    "    ###  END CODE HERE  ###\n",
    "\n",
    "    loss_sum += step_pi_loss                                # accumulate policy loss for a step\n",
    "    epis_reward += reward                                   # accumulate reward for a step\n",
    "    epis_steps += 1                                         # increase the number of steps for an episode\n",
    "\n",
    "    # episode termination conditions\n",
    "    if epis_steps>max_ep_steps: done = True\n",
    "\n",
    "    # summarize episode\n",
    "    if done:\n",
    "        agent.target_update()                               # update target network whenever episode ends\n",
    "        memD.num_episodes += 1                              # increase number of episode simulated\n",
    "        epsilon = epsF.get_epsilon()                        # update decay epsilon value\n",
    "\n",
    "        pi_loss = loss_sum / epis_steps                     # average policy loss for an episode\n",
    "\n",
    "        pbar.set_postfix({'episode':num_episodes, 'loss':step_pi_loss, 'reward':eval_reward, 'steps':epis_steps, 'evaluating':val_episodes})\n",
    "        eval_reward = evaluate_policy(env, agent, 1)        # evaluate policy one time\n",
    "\n",
    "        logs.history['pi_loss'].extend([pi_loss]) # 로그 업데이트\n",
    "        logs.history['ereward'].extend([epis_reward]) # 로그 업데이트\n",
    "        logs.history['e-steps'].extend([epis_steps]) # 로그 업데이트\n",
    "        logs.history['vreward'].extend([eval_reward]) # 로그 업데이트\n",
    "\n",
    "        loss_sum = 0.0 # 손실 합 초기화 \n",
    "        epis_reward = 0.0 # 에피소드 보상 초기화\n",
    "        epis_steps = 0 # 에피소드 단계 초기화\n",
    "        num_episodes += 1 # 에피소드 수 증가\n",
    "\n",
    "    else: pass\n",
    "\n",
    "    pbar.set_postfix({'episode':num_episodes, 'loss':step_pi_loss, 'reward':eval_reward, 'steps':epis_steps}) # 진행바 업데이트\n",
    "\n",
    "    # coditions to stop simulation\n",
    "    if eval_reward > goal_score: # 목표 점수보다 높은 경우\n",
    "        eval_reward = evaluate_policy(env, agent, val_episodes) # evaluate policy multiple times\n",
    "    if eval_reward > goal_score: break # 목표 점수보다 높은 경우 종료\n",
    "    if num_episodes > max_episodes: break # 최대 에피소드보다 많은 경우 종료\n",
    "\n",
    "print('episodes:{0:5d}, loss:{1:7.5f}, val_reward {2:4.2f}'.format(num_episodes, pi_loss, eval_reward)) # 에피소드, 손실, 검증 보상 출력\n",
    "print('total steps:', sim_steps+1) # 총 단계 출력\n"
   ]
  },
  {
   "cell_type": "markdown",
   "metadata": {
    "id": "AbvghgOddz1N"
   },
   "source": [
    "### Plot Training Histories"
   ]
  },
  {
   "cell_type": "code",
   "execution_count": null,
   "metadata": {
    "colab": {
     "base_uri": "https://localhost:8080/",
     "height": 388
    },
    "id": "wojuJnqFdz1N",
    "outputId": "0b803733-9af5-4c9a-9555-9cbec6dd47b3"
   },
   "outputs": [
    {
     "data": {
      "image/png": "[encoded data removed]",
      "text/plain": [
       "<Figure size 1000x400 with 2 Axes>"
      ]
     },
     "metadata": {},
     "output_type": "display_data"
    }
   ],
   "source": [
    "# plot loss and accuracy\n",
    "def plot_graphs(log_history, log_labels, graph_labels, graph_colors=['b-','g-']): # 그래프 플롯 함수\n",
    "    num_graphs = len(log_labels) # 그래프 수 설정\n",
    "    plt.figure(figsize=(5*num_graphs,4)) # 그래프 크기 설정\n",
    "    for i in range(num_graphs): # 그래프 수만큼 반복\n",
    "        plt.subplot(1,num_graphs,i+1) # 서브플롯 설정\n",
    "        plt.plot(log_history[log_labels[i]], graph_colors[i], label=graph_labels[i]) # 그래프 플롯\n",
    "        plt.xlabel('episodes') # x축 레이블 설정\n",
    "        plt.legend() # 범례 설정\n",
    "    plt.show() # 그래프 생성\n",
    "    return # return\n",
    "\n",
    "log_labels    = ['pi_loss', 'vreward'] # 로그 레이블 설정\n",
    "label_strings = ['loss', 'reward'] # 레이블 문자열 설정\n",
    "label_colors  = ['b-', 'g-'] # 레이블 색상 설정\n",
    "plot_graphs(logs.history, log_labels, label_strings, label_colors) # 그래프 플롯"
   ]
  },
  {
   "cell_type": "markdown",
   "metadata": {
    "id": "r-tnEq_pdz1O"
   },
   "source": [
    "### Evaluate the Agent\n",
    "\n",
    "Since a single evaluation try often takes some time, evaluate the agent here to show the progress bar"
   ]
  },
  {
   "cell_type": "code",
   "execution_count": null,
   "metadata": {
    "colab": {
     "base_uri": "https://localhost:8080/",
     "height": 67,
     "referenced_widgets": [
      "febb8684699348de9699a932677e89d0",
      "5dfb6722814b42f5a4eb4aa6c8017da3",
      "8255c25f17de484aaa273896d19d8778",
      "1d120d55e7284eacbbb50855ee52cde9",
      "f41cfee104f843dcabf7a9a8fad78fdd",
      "abe1b1a393734015b7396a639094bc18",
      "aa2f01988e424c5a8841ab41aa23c043",
      "3b6b104ec54d4cfdb96805c64f6be7cd",
      "6fb86122db164bd88df0f960debdc331",
      "8ff86e6460814d6fac5f6733597c8b66",
      "a3940ead8a9c45779e89d1b46bf75e47"
     ]
    },
    "id": "c9Qj3Nfjdz1O",
    "outputId": "68a2a245-4704-4be8-aa3f-58dfe7837999"
   },
   "outputs": [
    {
     "data": {
      "application/vnd.jupyter.widget-view+json": {
       "model_id": "febb8684699348de9699a932677e89d0",
       "version_major": 2,
       "version_minor": 0
      },
      "text/plain": [
       "  0%|          | 0/20 [00:00<?, ?it/s]"
      ]
     },
     "metadata": {},
     "output_type": "display_data"
    },
    {
     "name": "stdout",
     "output_type": "stream",
     "text": [
      "Evaluation Result: 464.45\n"
     ]
    }
   ],
   "source": [
    "evaluate_episodes = 20 # 평가 에피소드 설정\n",
    "sum_episode_rewards = 0.0 # 총 에피소드 보상 초기화\n",
    "pbar = tqdm(range(evaluate_episodes)) # 진행바 생성\n",
    "\n",
    "for i in pbar: # 평가 에피소드만큼\n",
    "    sum_episode_rewards += evaluate_policy(env, agent, 1) # 에이전트 평가\n",
    "\n",
    "env.close() # 환경 닫기\n",
    "\n",
    "print('Evaluation Result:',  sum_episode_rewards/evaluate_episodes) # 평가 결과 출력"
   ]
  },
  {
   "cell_type": "markdown",
   "metadata": {
    "id": "b_5CPODFdz1O"
   },
   "source": [
    "## Show How The Agent Works"
   ]
  },
  {
   "cell_type": "code",
   "execution_count": null,
   "metadata": {
    "colab": {
     "base_uri": "https://localhost:8080/"
    },
    "id": "_a2lre6tdz1O",
    "outputId": "fbd0fc21-9cec-4902-9536-dd15199e3658"
   },
   "outputs": [
    {
     "name": "stdout",
     "output_type": "stream",
     "text": [
      "Sample Total Reward: 500.0\n"
     ]
    }
   ],
   "source": [
    "env = create_env() # 환경 생성\n",
    "env = wrappers.RecordVideo(env, video_folder='./gym-results/', name_prefix=res_prefix) # 비디오 녹화 설정\n",
    "\n",
    "eval_reward = evaluate_policy(env, agent, 1) # 에이전트 평가\n",
    "\n",
    "print('Sample Total Reward:', eval_reward) # 샘플 총 보상 출력\n",
    "\n",
    "env.close() # 환경 닫기"
   ]
  },
  {
   "cell_type": "code",
   "execution_count": null,
   "metadata": {
    "colab": {
     "base_uri": "https://localhost:8080/",
     "height": 233
    },
    "id": "lo7nihBfdz1O",
    "outputId": "2312251d-7609-4d52-fb26-02b45118f43f"
   },
   "outputs": [
    {
     "data": {
      "text/html": [
       "<video width=320 controls><source src=\"data:video/mp4;base64,AAAAIGZ0eXBpc29tAAACAGlzb21pc28yYXZjMW1wNDEAAAAIZnJlZQAAU5ZtZGF0AAACrgYF//+q3EXpvebZSLeWLNgg2SPu73gyNjQgLSBjb3JlIDE1OSByMjk5MSAxNzcxYjU1IC0gSC4yNjQvTVBFRy00IEFWQyBjb2RlYyAtIENvcHlsZWZ0IDIwMDMtMjAxOSAtIGh0dHA6Ly93d3cudmlkZW9sYW4ub3JnL3gyNjQuaHRtbCAtIG9wdGlvbnM6IGNhYmFjPTEgcmVmPTMgZGVibG9jaz0xOjA6MCBhbmFseXNlPTB4MzoweDExMyBtZT1oZXggc3VibWU9NyBwc3k9MSBwc3lfcmQ9MS4wMDowLjAwIG1peGVkX3JlZj0xIG1lX3JhbmdlPTE2IGNocm9tYV9tZT0xIHRyZWxsaXM9MSA4eDhkY3Q9MSBjcW09MCBkZWFkem9uZT0yMSwxMSBmYXN0X3Bza2lwPTEgY2hyb21hX3FwX29mZnNldD0tMiB0aHJlYWRzPTMgbG9va2FoZWFkX3RocmVhZHM9MSBzbGljZWRfdGhyZWFkcz0wIG5yPTAgZGVjaW1hdGU9MSBpbnRlcmxhY2VkPTAgYmx1cmF5X2NvbXBhdD0wIGNvbnN0cmFpbmVkX2ludHJhPTAgYmZyYW1lcz0zIGJfcHlyYW1pZD0yIGJfYWRhcHQ9MSBiX2JpYXM9MCBkaXJlY3Q9MSB3ZWlnaHRiPTEgb3Blbl9nb3A9MCB3ZWlnaHRwPTIga2V5aW50PTI1MCBrZXlpbnRfbWluPTI1IHNjZW5lY3V0PTQwIGludHJhX3JlZnJlc2g9MCByY19sb29rYWhlYWQ9NDAgcmM9Y3JmIG1idHJlZT0xIGNyZj0yMy4wIHFjb21wPTAuNjAgcXBtaW49MCBxcG1heD02OSBxcHN0ZXA9NCBpcF9yYXRpbz0xLjQwIGFxPTE6MS4wMACAAAAB8mWIhAAz//727L4FNf2f0JcRLMXaSnA+KqSAgHc0wAAAAwAAAwAAFgn0I7DkqgN3QAAAHGAFBCwCPCVC2EhH2OlcBtt/yx8b1EKbpUVYHKrHSsD8TQu/qq+DY82BvQz9mcUB8twWia8wJjvZh7A2UsNcnosw/3BfpbdrBk5xags16QVjBL6bNkr8qxOG7Dmy4JUzpxaN03tjqYUiDeVBg3wcob/huG+4HGi/nCukMRcQGg0aYSnhHLi9Qg4dVOyztzdHOB9UGYAw8hw1qL/txlX1sYG6a1gFGPbEffFJsKtcwc3++NisA1hyT89mywTsJI0RJAouZHohkQh1Ku1Gn9G/vM6Am8HZ1rbislrMa/7SzL54XtfRwvCRGhHvxVu5zhWZpJlhxE19JhTHwACOIlK5h7z8+D2VzQGsuZBuZUWQCTxNfR/i3A4HHk8dKLs5DPmmzORWWk0jxMSYrSUJEsbXfhEHHLMbBJMywvm9dcGjRQVjV8+bOMS0WZGJirr15BcNmEx6CcQJWUSaTWvoBbafMs3BzyNTgdx/iLafPWn/YwKypz/pq3+XYR012S19BSJYCZV+J25erzwTa6xVw0xfUcc3jAMAspiwlK3cyxaAm45RUW6Ag61gGiVgAANigEP3gAAAAwAAAwAAAwAAAwBMwQAAAGBBmiRsQz/+nhAAAEV1bS0cA1Vq7c928ELEUc+wkKnpbKbSSv2B/6uiG3wgTt0xLI8oNsYtKek0Oz1gbXGTSdKdeFsrjaBo2hFgQX9FkOff7dj32j2G9ioLcAb76HhKtOwAAAAeQZ5CeIR/AAAWsyyRM2VSc/ztJkfWf8mBbugJlQP/AAAAFgGeYXRH/wAAIsM7n6tztS0JGBRPscAAAAAZAZ5jakf/AAAjvwuuL/RqZEJI3O/tYsZ/gQAAAGZBmmhJqEFomUwIZ//+nhAAABp/wigAJ38AG3y/Aktc8UqWYOEiecP+gPTgxO6JHTdpATk+Cn9X64E6O1Xo3QyMdRtHCkARphxhoP9U7tYk1ew+Bnz5tIV4dbar7923zv9G7lnfFfEAAAAjQZ6GRREsI/8AAAMDL+5DOU43VNHiDER7UZXOO0xkSEDa9tEAAAAdAZ6ldEf/AAAFH9DBzxsJ+AX8UgqD3M8Eq9eA5s0AAAAlAZ6nakf/AAANh5BeL1u7gxVZGkwMpffI8AIPea50u/cG/c1GDwAAAFVBmqxJqEFsmUwIZ//+nhAAABp/wigAJ2NRJQEvDe9/8KKBlEW5qBOBofNCmPEegamM5q05fZbdPh4uu1wSuAKcpUC05ZLlq7eUlDryCJJnJ068v8KAAAAALkGeykUVLCP/AAAIaAangAEOG0tM5JYQcGDxyZbpmLIaBdO6/eY2VwrQBOaYrtkAAAAUAZ7pdEf/AAANNeyUCBlwmtuWmDAAAAAgAZ7rakf/AAANL9uQGo+QzBx3uKVS/VnqM1q4oXdvoTAAAAAkQZrwSahBbJlMCGf//p4QAAADAAdzfhuGgDFdgCF7QZ8pOOOBAAAAF0GfDkUVLCP/AAAIZVuSIcIXrScuzKmhAAAALQGfLXRH/wAADX4QbSZFUPAkgIAJZHvw6KZv74zsUssclvnTEQdw/L+ZYCQHAwAAAA8Bny9qR/8AAAUfNQoAm4AAAAB8QZs0SahBbJlMCGf//p4QAAAaWmXAAaC30ZR2JbeoS4r+BR3g/AMIkuZJ+osPbvo9wqNQkZdqZB+1V3lLTjPIuH4EwG/2vE8LdnKE8PrtM0xYpLelvYmDCOwe7ATblKjKuTe5on9kb4gy0MPyemi+lJE+ug6mkpAii2+99AAAACVBn1JFFSwj/wAAAwM5u/q23nUHnkTAeAvMpXpvLgMVs5tYUUJhAAAAFQGfcXRH/wAADYIbQPF0bGQKIzcHgAAAAB0Bn3NqR/8AAAUfNU+7z4JPyo62c3zL6Ag69C9wIAAAACdBm3hJqEFsmUwIZ//+nhAAAAMBdfd/a6jgyhm4u4/6ksNr54Uy9oEAAAAYQZ+WRRUsI/8AAAhxT9UwX4+nl4Yf8KPgAAAAFQGftXRH/wAAAwC+4n24YQLmuEj8aQAAAA4Bn7dqR/8AAAMAAAMBqQAAAHJBm7xJqEFsmUwIZ//+nhAAAEVFKLQBQa45vSYsRKDrVy7Yrmuy3J53RhYsUPiaWtTLys/ReddYy/o9qtI2LHaC6OzbVklyicO8v98OW7jOiwLKnsX8Q45pwu0cFO1qx3fHygw0TrE+ly9PpjJ8TFLAvBoAAAAeQZ/aRRUsI/8AABa1WFWzxi+ek4vjAaQs6Tu7oVixAAAAGwGf+XRH/wAAI8M+Dnki6qZrNPTqdncd+lHIwAAAACYBn/tqR/8AAAUfl99ZJFUqcUnr9RkcAEKx7e/5cb0phbtLeqn7YQAAAGRBm+BJqEFsmUwIX//+jLAAAEYUyjXSrHITu+SLhA0g3zMSwvSEpyCn0wWSTXQYBLJAP0sOolJjyVYLfLzvkUAj+KtMViqj97SbFZn0mZ9BQNy/gYaBMFgkg51yVluKI36DR8nhAAAAIEGeHkUVLCP/AAAWtVhVizjGiZ/fQb4+3rUyhnMbzFCYAAAAGwGePXRH/wAAI8M+DqcVF1QMNVolYx1FFER+RgAAAC0Bnj9qR/8AACPHxg6w3y6YZZABLFRh4lJqwr0GMrm/hz8qboDnsTXf7MsgfZkAAAA3QZojSahBbJlMCGf//p4QAAAJ/7P4+nOUqyUY0BdN7DnkQBVhzqP6c01Wt28IFlnp7JH9b+qzgAAAABxBnkFFFSwj/wAAAwM4U4L8QqioCqPetge75JuBAAAAEgGeYmpH/wAAAwBFfjix8NZqwAAAAFFBmmdJqEFsmUwIZ//+nhAAAAMDs8OsIfUQoVc+qrDs76NzZBW29DAC1e9uA674tSekf/QQrEK2WI6FVSFHBvSJS0Si6h/dlhn8hX1VO/RrCIEAAAAsQZ6FRRUsI/8AAAMBMau7PTs0L7uEARIBucL+lK383+4V5XTPP0yhQVpaEJkAAAAbAZ6kdEf/AAADAeWKHmSx9rxnkKUnMVdHkoYFAAAAEgGepmpH/wAAAwC6ZqJl8NZywQAAADpBmqtJqEFsmUwIZ//+nhAAAEVFKLQBQa45vNZyDxyPsghn0H7/JKgXJ0COZ2HnjpQzVGo3MqCNZBlQAAAANEGeyUUVLCP/AAAWtVhVL1x989LIf2aAGueMaRb39ytSn9YfhJDD6VCrp12jFcsfxKM6NiwAAAAbAZ7odEf/AAAjrDkFrk8fPxWmp3lv3VZhxf6RAAAAGQGe6mpH/wAABR0+YOJnHIY6jp2d8CEC/bAAAAAXQZrvSahBbJlMCGf//p4QAAADAAADAz4AAAAQQZ8NRRUsI/8AAAMAAAMBBwAAAA4Bnyx0R/8AAAMAAAMBqQAAAA4Bny5qR/8AAAMAAAMBqQAAABdBmzNJqEFsmUwIZ//+nhAAAAMAAAMDPgAAABBBn1FFFSwj/wAAAwAAAwEHAAAADgGfcHRH/wAAAwAAAwGpAAAADgGfcmpH/wAAAwAAAwGpAAAAREGbd0moQWyZTAhf//6MsAAARgL8MQE19UBpQ6wpEEvw7Ed8SEs6QNfXgNsvVaL7eR9KDCE2Y+JIV6YKgavmM728qx6QAAAAHEGflUUVLCP/AAAWvE5swthLCIVdveq/oEcChG0AAAAOAZ+0dEf/AAADAAADAakAAAAdAZ+2akf/AAAjvxV+P33eOaLwoxOreeUebxQ6LKEAAAAlQZu6SahBbJlMCGf//p4QAAAZ31FYrWBpnB5Ww/VtSdf+2gVswQAAADpBn9hFFSwj/wAAFsCfZKnVeRmhie8lYYAbrWJf6Co7HPZUCqmncUpCZr2zmHF7rupB83B7gVBDqmOSAAAAHQGf+WpH/wAAI78VfkGwPEbYU04BYg7pTsiSAdSTAAAAQEGb/kmoQWyZTAhn//6eEAAAQ7phZdYj9RSYetFpGSwE66Tfi0trhDegA5MPxQX9OGe3fDuSM2lIidVqxaJawYAAAAAdQZ4cRRUsI/8AAAMBNeTmzC2FIXpm2OUiRQdmyYEAAAAcAZ47dEf/AAAiuMKavnCIndhJH5o9UljOFEFyAwAAABwBnj1qR/8AACKyNP0gz2Ok9ObmeSFSx9HwGxAQAAAAGkGaIkmoQWyZTAhn//6eEAAAAwAHEViqoKSAAAAAOkGeQEUVLCP/AAAINaaIHhxB6q3lOPcc3EyVGmNb5+F2uh/T3RIWW5PdOUTZ+3V86FmIbbCO8SOSKCEAAAAXAZ5/dEf/AAANNeuHjGyAQvh06k6M/xwAAAAgAZ5hakf/AAANNJ0nODpSJzTLsCUjgDbaeCbFzISVsGEAAABQQZpmSahBbJlMCF///oywAABGAvreAiiUiCBrogE3rMrZkG2d8iEyXcvW98A9zLC7zl8Ysln/VDG67kV/lxTrbhgnyiZqetSU0zGF4TNwc0AAAAAbQZ6ERRUsI/8AABa8Q823FcysmUlDL7RVUjrhAAAADgGeo3RH/wAAAwAAAwGpAAAAGAGepWpH/wAAI78EJxLJaZq4VmspM699XwAAAB5BmqlJqEFsmUwIZ//+nhAAAAMAEtJbWACwVQJ8wj8AAAAQQZ7HRRUsI/8AAAMAAAMBBwAAADgBnuhqR/8AACOuLcipaHwoASW4P72yf+gTs4SvXFLl7duFlgNy8B9UIMqxyg2x9WCWzL/u7hQHXAAAAEpBmu1JqEFsmUwIZ//+nhAAAAn/s/jwlyaqLADiejGNkVTOvZ0nLlgGh9grC/m6PzNbyWatbglShNpA0r9k2rMIAz54YXUnAtwTJwAAAD1BnwtFFSwj/wAAFrMp0lEZZbQAkwKHvHwN/kq5MVP5fRB55DZAxoWZRZ2cB0xFVNJjFIFVShrGYicltx+qAAAAHwGfKnRH/wAAI6v4W3gSnWgjfc+IgXz7c8IGRLdZbMAAAAAXAZ8sakf/AAAjscwJb6lvshVShPX8+4EAAAAXQZsxSahBbJlMCGf//p4QAAADAAADAz8AAAAjQZ9PRRUsI/8AAAMDOXzSuoPMkhQeqhGA2hm+Ah/jIM7h4MEAAAAaAZ9udEf/AAADAeWKHhmoeKtbqZb8x7Qb34MAAAAZAZ9wakf/AAAFHT5g4G3b8T8RGfkotHMduAAAABdBm3VJqEFsmUwIZ//+nhAAAAMAAAMDPwAAABBBn5NFFSwj/wAAAwAAAwEHAAAADgGfsnRH/wAAAwAAAwGpAAAADgGftGpH/wAAAwAAAwGpAAAATkGbuUmoQWyZTAhn//6eEAAAAwOdw6+n8Bcu8gPikgAWLDyyCKJVX3igaaWImGGED+ApHZHQXJc5BE7UlQEtdGPMmzCx2AvNiHj5s5qmoAAAAB5Bn9dFFSwj/wAAAwEt5QtvTUZEuwRwT1S18wuGkBEAAAAOAZ/2dEf/AAADAAADAakAAAAbAZ/4akf/AAAE991rNrM8D/bMCHy5RCYpYSAgAAAANEGb/UmoQWyZTAhn//6eEAAARUUlzOPANWaorSrwEuRUqI+Ynh1tkffvT0+1eRhmbuE6I+EAAAAZQZ4bRRUsI/8AABa1KzdrWl64ooXnAVkj4AAAACMBnjp0R/8AACOr+Ft4FAtvV7xPWb+8O7yhpt0oFJ6xvQQzkwAAAA4BnjxqR/8AAAMAAAMBqQAAABdBmiFJqEFsmUwIZ//+nhAAAAMAAAMDPgAAABBBnl9FFSwj/wAAAwAAAwEHAAAADgGefnRH/wAAAwAAAwGpAAAAJQGeYGpH/wAABRm7i+mmbQGG67H/ZEro3OJBZ8S8G3FdLerI7cAAAAAXQZplSahBbJlMCGf//p4QAAADAAADAz8AAAAQQZ6DRRUsI/8AAAMAAAMBBwAAAA4BnqJ0R/8AAAMAAAMBqQAAAA4BnqRqR/8AAAMAAAMBqQAAADRBmqlJqEFsmUwIZ//+nhAAAEVlbh5/qCRrVABLyupZZCP3IshDowY63kiSGer9onFuoGHHAAAAKkGex0UVLCP/AAAWvEPNtxXNggzWihG5yr6J1SSbMBAlauKTAww+oPh2zQAAABoBnuZ0R/8AAAMAtYucJ0BIxmjvFCj3nPXtuAAAACEBnuhqR/8AACOxzAqlQAlhpxUyH8Htn7r5Wn9g+ESgDJMAAABXQZrtSahBbJlMCGf//p4QAAAaV09QAf0t0pT8QQrNBnlZ3WS551gMWotM3yNCobla21HKeT8HhMGCs/NO8DStapQsdpSGPxU8J5sPlKfkgCxfTvGRknNpAAAAHkGfC0UVLCP/AAAILAy03QSBIfnzXLeAkVlv0OVtwAAAABsBnyp0R/8AAA0uFcKHnzoWBuiyYC8ndYwM7ZgAAAARAZ8sakf/AAADAEN+NZ1MMCEAAAAXQZsxSahBbJlMCGf//p4QAAADAAADAz8AAAATQZ9PRRUsI/8AAAMAK0E+yWlFJQAAABEBn250R/8AAAMAQ1hyDJhgQAAAABEBn3BqR/8AAAMAQ341nUwwIAAAABdBm3VJqEFsmUwIZ//+nhAAAAMAAAMDPwAAAC1Bn5NFFSwj/wAAAwMjrnzQ8mehd5SkHEABqyIOnB49xEyGT18zwqS9aHOP3bMAAAAcAZ+ydEf/AAADAdqKEWQaYAi481RQmPzN7eDZyQAAABwBn7RqR/8AAAT5PmG3ZGee7IW8A/xzo68+FNsxAAAATkGbuUmoQWyZTAhn//6eEAAARUUlzOPAIsHKB1V1T7lVMgM4aJUUSKHk1MdGREOx8uQtFRP7KhUCUt2HFvgl1o4LjP5CGB7lQ2IPJziyIAAAACNBn9dFFSwj/wAAFrUrN2tVvySEv10TNUHGK7pQo8zhZb1jtwAAABsBn/Z0R/8AACOr+Ft4Ep1kWtQm7eR3+74ewxsAAAAZAZ/4akf/AAAFHT5g4G3b8T8RGfkotHMduAAAABdBm/1JqEFsmUwIZ//+nhAAAAMAAAMDPwAAAC9BnhtFFSwj/wAAAwM5u8sekkTmABxT8+gvcmHHLcx0NIdOH4+VrLsWBpEma97ZgAAAABsBnjp0R/8AAAUcW3mW5YkajRHb+jFJ9FvjbMEAAAAZAZ48akf/AAAFHT5g4G3b8T8RGfkotHMduQAAADxBmiFJqEFsmUwIZ//+nhAAAAmoHpY1Tk1eqjYTAAiD4CDuTDPGk+0LmuT4lYpYmXFodZrat2GrkLKKbVEAAAAfQZ5fRRUsI/8AAAMDJTHNo7eWcSO9SznU2ilbR0xAQAAAAA4Bnn50R/8AAAMAAAMBqQAAABsBnmBqR/8AAAT7NNXe24hqgkgb6PDoJHCRk5IAAAAXQZplSahBbJlMCGf//p4QAAADAAADAz8AAAAoQZ6DRRUsI/8AABazR7cNuRuWiywbpBBn4rmAtEVYrYte32cto5tswAAAACIBnqJ0R/8AACPDF2ippav6Yyj8aFiLN7547JAAbLtFx28HAAAAGwGepGpH/wAAI7HMCW+pb7IVXCEZgKzsrqY1swAAADhBmqlJqEFsmUwIZ//+nhAAAEVSJcAMISBdQbj2LJQ45E6oL0uPFwsCTVvnkt5s7GujJHO2QiBqQQAAABlBnsdFFSwj/wAAFrUrN2taXriihecBWSPhAAAALQGe5nRH/wAAI6v4W3gUC29jAhyXHqniaj2DSrmYgBMU5AZXHXVAEE7onhaz3QAAAA4BnuhqR/8AAAMAAAMBqQAAABdBmu1JqEFsmUwIZ//+nhAAAAMAAAMDPwAAABBBnwtFFSwj/wAAAwAAAwEHAAAADgGfKnRH/wAAAwAAAwGpAAAADgGfLGpH/wAAAwAAAwGpAAAALUGbMUmoQWyZTAhn//6eEAAARUUlzOPAF6dZ3f3KeFTWWVtItQYv2N7Y3+pSQQAAABpBn09FFSwj/wAAFrxDzbcVzKyZSUMzrriiZwAAAA4Bn250R/8AAAMAAAMBqQAAABkBn3BqR/8AACOxzAlvq+URtPlnpXs08MaAAAAAR0GbdUmoQWyZTAhn//6eEAAAGd/CKAAnY1KPSDHsRp5Om3+BCbN9LG2pGHYFyFS/iQKYHJjGktKW9yHZmPAeARnQmm3W58VBAAAAHUGfk0UVLCP/AAADAzhNZu1rS9cUU+4YP3nEDztwAAAAGwGfsnRH/wAABRxSabCFOXkUgTTU0ZaZgi5JgAAAAA4Bn7RqR/8AAAMAAAMBqQAAABdBm7lJqEFsmUwIZ//+nhAAAAMAAAMDPgAAABBBn9dFFSwj/wAAAwAAAwEHAAAADgGf9nRH/wAAAwAAAwGpAAAADgGf+GpH/wAAAwAAAwGpAAAAQEGb/UmoQWyZTAhn//6eEAAARUUotAHFKLzXB+PP2wjXD2KuMOQj0ij6hCNRYl9oYOq6TKeTVa2w3KX8F74Y+YEAAAAaQZ4bRRUsI/8AABa8Q823FcysmUlDL7RtyBgAAAAOAZ46dEf/AAADAAADAakAAAAWAZ48akf/AAAjscwJb6lvshngiH4WUQAAABtBmiFJqEFsmUwIZ//+nhAAAAMBYxVeUvMAekAAAAAhQZ5fRRUsI/8AAAMDObNCQ3DsS5zRgxGp5g6aB7ZvZtmAAAAALQGefnRH/wAAI8CZ3elekdrAGDGpA6FV6uvQAjQaPGVYwbwlES3obr7k6Z0tmQAAABoBnmBqR/8AAAMB5c1F1U3BVrCytdsboPbbgAAAAElBmmVJqEFsmUwIZ//+nhAAAAn/s/j6Z0e4AGwIVRvv0TwEisSJ5dDfL03HVVJDls1FuTsgyU+gMSq/WgR1nnedLshWNRgHLbLNAAAAHUGeg0UVLCP/AAADAzm77JXPVbNan/H/hbBRHBbcAAAAGgGeonRH/wAABRxbeZJPdykkh8fe9esYGdsxAAAAEAGepGpH/wAAAwHmf+KAZ8EAAAA0QZqpSahBbJlMCGf//p4QAABFRSmgAJVrdkOgP0cLHFxe6Fwa2m/z+i5TdtZuD1z/O0jpeQAAADBBnsdFFSwj/wAAFrxDzbcWF4MHZwID4/PKaKNTAABO6h6nuQ9M+p8yjwMNZ57X4MEAAAAbAZ7mdEf/AAAE+9HhEeTshmfsPnNRNayKrHJAAAAAHQGe6GpH/wAAI7HMCW+pcXtBC6amKif8EGRM6BAQAAAARkGa7UmoQWyZTAhn//6eEAAACf/hFAATsg4rU1vXDyNBJCJIwVxfmW4mRPPQdL8hn+I/7pVSp7hWfRgLS939SBC1UaAKpVUAAAAeQZ8LRRUsI/8AAAMDObNCQ3Au0ZFt1OwAkqaujhbcAAAALgGfKnRH/wAAI8CZ3elekdsuEAK9H/PDkS5ykoE1uoy6ku/hvbaJsn1wGZSw9mAAAAAeAZ8sakf/AAAFIIHeyt/odT19qcP89zifD/XhwQeDAAAAF0GbMUmoQWyZTAhn//6eEAAAAwAAAwM/AAAAGEGfT0UVLCP/AAADAzm/GAAa7b7fsAA24QAAAA4Bn250R/8AAAMAAAMBqQAAAA4Bn3BqR/8AAAMAAAMBqQAAADdBm3VJqEFsmUwIZ//+nhAAAEVFKLQBPhVsoHKQf7g0rRIgBM9NYXfoSxG8Uk5RZqW7WTmlfSlJAAAAKkGfk0UVLCP/AAAWvEPNtxYXK3CcDAE27PhZJ8eLegsy1Pn7g4luZBY7cAAAABsBn7J0R/8AAAT4XE06rAWqOhgAwqmcF+z+QEAAAAAeAZ+0akf/AAAjscwJb6JciYb8KO7SdfFcaZHnz4EBAAAASUGbuUmoQWyZTAhn//6eEAAAGn/kQQAtgVlXBzod4lgxoqNp/hl/qDgIxVdy65Oy2n0kS0/meeO5zjqADenLswSdnUEoBfFMmOAAAAAcQZ/XRRUsI/8AAAMDOFMKsOF+dEtgLqfrmjGnbwAAABoBn/Z0R/8AAAUcW3mST3cpJIfH3vXrGBnbMQAAAA4Bn/hqR/8AAAMAAAMBqQAAABdBm/1JqEFsmUwIZ//+nhAAAAMAAAMDPwAAABBBnhtFFSwj/wAAAwAAAwEHAAAADgGeOnRH/wAAAwAAAwGpAAAADgGePGpH/wAAAwAAAwGpAAAAQkGaIUmoQWyZTAhn//6eEAAARUUleAJwDhq1GzsmBziMHdMzMqltsqfoyJ05x+Cpyez61gXdsaKd69O4DkLbTIuHHAAAADNBnl9FFSwj/wAAFrxDzbcmgABupB5cb0c6EVw9ehn7C9b7hScVWIDM2USXFmDRjhYvnbgAAAAaAZ5+dEf/AAADALoKTTYQpzH1Zgt0SkQvtuEAAAAdAZ5gakf/AAAjscwJb6lvshVRwDxFMUdHjLGrSAgAAAA6QZplSahBbJlMCGf//p4QAAAJ/7P48JcXriC2zykMCAXCgwW4E546AFEFdm6mghPf6bwMIB6prfSbMQAAABxBnoNFFSwj/wAAAwM4Uwqw4X50S2Aup+uaMaduAAAAGgGeonRH/wAABRxbeZJPdykkh8fe9esYGdsxAAAADgGepGpH/wAAAwAAAwGpAAAAF0GaqUmoQWyZTAhn//6eEAAAAwAAAwM/AAAAI0Gex0UVLCP/AAADAzdxEV5VBkCT7JZqrsbCVQFi9JHjM7ZhAAAAGgGe5nRH/wAAAwHlih4ZqHirW6mW/Me0G9+DAAAAGQGe6GpH/wAABR0+YOBt2/E/ERn5KLRzHbgAAABBQZrtSahBbJlMCGf//p4QAABFvit7UabANLRoalawH8bfVE1X+laC2TY50GNJDCUaH45ifylOnCZkmowdTQWjDjkAAABLQZ8LRRUsI/8AABa8Q823Fcr1zuSdMlhAFXrFEGrxi6XfrpuCxfGaPvkISxY0LPk47CB5nGXoAhGSJhk0Lm3Jz6LPR61Ng5kT7vgwAAAAHAGfKnRH/wAAAwC6Ck02EKcx9Ok5J++CE3rFc9UAAAAdAZ8sakf/AAAjscwJb6lvshDpCrJn3fgFhqzV54MAAAA+QZsxSahBbJlMCF///oywAAAar1u/o1CCbfkIdR1HK8sbj7yWKUCNAISIgBmeRj4dB/7jq6nqdDPIM3+ZMcEAAAAdQZ9PRRUsI/8AAAhsCh5FZqI8jXFBlLwWYZI/hAUAAAAaAZ9udEf/AAANfhLzJY8JksiYbA0H6GIsbJMAAAAOAZ9wakf/AAADAAADAakAAAA1QZt1SahBbJlMCF///oywAABEAvf6ZrJehd8hRTRFPhh9bAMe1FLHKQ1U6S0bVuS0JthO2akAAAAyQZ+TRRUsI/8AABYsTmyoJGlbexgSMc3AX8xj7rDMHtFoq3KMAHPRUDXRYYxw6mj+UfAAAAAWAZ+ydEf/AAAE+9DBg20RIzinBffnwAAAABYBn7RqR/8AACKyKwcTOOGn5CdcoH59AAAAUEGbuEmoQWyZTAhf//6MsAAACcKOnDr5L9sEAATroCXvxyvy2q18O8m1SkDwWjIwwoce4rFafBP5AJWeuKkvSmrpNDV3P3J/ZAwGqzqJacSfAAAAHEGf1kUVLCP/AAADAyRTCrFZyA+LPDKp56hyEQEAAAARAZ/3akf/AAADAAPM++oadcEAAAAcQZv8SahBbJlMCF///oywAAADAAd1GOZc7kNMWAAAABJBnhpFFSwj/wAAAwACawK4fkEAAAAqAZ45dEf/AAADAdnnmc1hYkAFt1edADQpa/oRkMagBBEiMMP2mbcQTe/KAAAADgGeO2pH/wAAAwAAAwGpAAAAGEGaPkmoQWyZTBRMM//+nhAAAAMAAAMDPwAAACMBnl1qR/8AACKuX/s3dNrQAlkWnDZjlnfYoCIHHOTzrAKhZQAAAEdBmkJJ4QpSZTAhn/6eEAAAQ0UotADpGpnxPB5JrTWlsvEwBKiD3vBqbvazW+GbA76jHSSeVGkFlb/DF7/27xuruTaz0fPvgAAAADBBnmBFNEwj/wAAFiVY8tZAAbp5bwwCRhhr0FWYzR2kKXpt6M5mmlVkiokyln8yyoEAAAAmAZ6fdEf/AAAiwzrcAk/CuTqBPnIZOBeYn0K0JDTuLkfhN5KQb0AAAAAfAZ6Bakf/AAANNJ6Zefd2Vm7tFkkrJ1fYlHjnXAi9vQAAABpBmoZJqEFomUwIZ//+nhAAAAMABxQVTK2ZswAAABtBnqRFESwj/wAACBDu+dSHOEokEtN7vnk/hcEAAAAVAZ7DdEf/AAANLhLzJbYGlTLxynC5AAAAFAGexWpH/wAADTSdq2NiRknM3jphAAAAS0GaykmoQWyZTAhn//6eEAAAQ0UotADnpTEeFo2RpZNaa0tl4oKfR0HcE1c2EgFhHU2hKECg1MDU62Utmdhj6Av3+rVxdSRgYQINyQAAAChBnuhFFSwj/wAAFixOoV4Z4aCAJgcALP3NIy83w7LFahOnZsiUzfzAAAAAIAGfB3RH/wAADS4Q55JRDgRiPm3UglSVuCRdUi5rLoMqAAAAFwGfCWpH/wAAIr8aznveCaHHdYqqIUfpAAAAF0GbDkmoQWyZTAhn//6eEAAAAwAAAwM+AAAAGUGfLEUVLCP/AAAIEw4KAFuUg9OtjNIAfMAAAAAOAZ9LdEf/AAADAAADAakAAAAOAZ9Nakf/AAADAAADAakAAABFQZtSSahBbJlMCGf//p4QAABDUUlrgESHLK1lWJJqp8Zs/YT/JyDlA2gu3Rt3ci+8PFSgigwoLdMiLsUEHegCIhHlfKUlAAAAMUGfcEUVLCP/AAAWLE4BrQKH29mFqyADi0CPFXkmOxiy0SG3+gwcWQgqRZteRqEAT4AAAAAhAZ+PdEf/AAAE6DZfNTkT97RrlYIGXy5rUaDp5IPjxY+AAAAAHAGfkWpH/wAAIr8aznveCprS82cCoFPYMHmi3+cAAABFQZuWSahBbJlMCGf//p4QAABBum22UfPUUq1f0lwgCtWEoxy+zl/mhpUoAFJFhWvT6M1n6vpaKoWPVwZUUnzNbCE3IjFgAAAAIEGftEUVLCP/AAADAS3k5smBAxee8Giybci2+d42QmN6AAAAEAGf03RH/wAAAwBDWHigu4EAAAAbAZ/Vakf/AAAE/IHz19TT3yCVvbHRUUIZG7egAAAAFkGb2UmoQWyZTAj//IQAAAMAAAMAwIEAAAAPQZ/3RRUsfwAAAwAAAwGpAAAADgGeGGpH/wAAAwAAAwGpAAABvGWIggAP//73aJ8Cm1pDeoDklcUl20+B/6tncHyP6QMAAAMAAAMAABW3pGWGQnQv8mIAAAV8ALIF2ESEgFLG8KgSqTssz+HmucHRD68PRw2BXk6wXp16YSBJNiDetCYA6SLnv3hYsQobK5GsgX087SYRIiVD4umn4jEkNmP8NRK+kih3JwXCRvCqfEBzLn8JNZ7ez2/uWCQSpbQZzxxvUmLvFMBr18enZuIMFl+upb9DNKrwmyaC+Kd2w1lWJA9xJ8EtMD+z6R4t494e1cNyllLv80xvfXubIWKhQ+ctKMmJ9Fzm9ODEi9HWrkjkOiqfmU7lo+4nin32Ox8z6OMQT4IPyEPTPE5Lkn1rkpYEtlkT83AZX3/lwpuGhCAUGNnmVH9k2vAByzGDk2Yy2KREa7iSqc224yB6Y7GrYGo8wFt7jLoiOjxnmOwJ2/olVSCdcVldMHZV5NnJM+/sT7g7LWB85LwfTikHNrNgny4q8RwIUhXHAISykApdgZsTJtBtO5Q3ozhsO30B1EMhq90bqyP3bLZqXae345vWAKk4KAvZwqjSn3GsVSBXn4DDUJC4HvHxAAADAAADAAATUQAAAEVBmiRsQz/+nhAAAAMDnd11WqmCCFqsAIkhc8liKYxlfpY/JUp4C27vIXSKVJJOU4mae0bS+TIqwKm7eQjsYF03vrW1X6AAAAAZQZ5CeIR/AAADAS2BQ8is7wfFJ5RPWub2bQAAABwBnmF0R/8AAAMB27G4/4pccEL+j1opafvSGJZtAAAADgGeY2pH/wAAAwAAAwGpAAAARkGaaEmoQWiZTAhn//6eEAAAQ0UotADpGkFO7fh+7H8NpQcEsaecB5lU34/HXxTn6H5quMBsNI5g30P/TiHH7JDt+4EiDrgAAAAnQZ6GRREsI/8AABYsQ823FdwPZACxvkCtc8zCOg5DRrzVrsAOsKThAAAAFgGepXRH/wAABR/Qww2FSngkXn7AZ8AAAAAkAZ6nakf/AAAivwQnEtIVYLKk5XHsZE2sjc8pGwOU1oWFc0dNAAAAR0GarEmoQWyZTAhn//6eEAAACanB4C0ACWqwv2W5FVTI4QwvraSiktB88PI0kjSRB5jab3oLqMTD9pGueLnpRLqL0NFkypecAAAAIEGeykUVLCP/AAADAS3hqSEtjL66Afz+qeBZkxCbftvRAAAADgGe6XRH/wAAAwAAAwGpAAAAGwGe62pH/wAAAwHbf9VJfxNx1fZ3GIeGpyY8EQAAABdBmvBJqEFsmUwIZ//+nhAAAAMAAAMDPwAAABJBnw5FFSwj/wAAAwEmKfkAGzAAAAAOAZ8tdEf/AAADAAADAakAAAAOAZ8vakf/AAADAAADAakAAABOQZs0SahBbJlMCGf//p4QAABDRSXM48A1D5uLMhYoR4tAbVO6oHsQ5ZMKtAWirE8QlLpTMCc/EMFsV3meD1yOITSbRzCrEqZ50QoWpBZAAAAALUGfUkUVLCP/AAAWJSs3az45zqbFKPmLQA3WsWVe14z5zyGtzOORf0A3eJHcEAAAABsBn3F0R/8AACLDF1KEUEiHoYwI06I1y8EVwy8AAAAcAZ9zakf/AAADALXmEtPQwLK3x0YkviEkTj9XBQAAABpBm3hJqEFsmUwIZ//+nhAAAAMBbPd+96AVMQAAABJBn5ZFFSwj/wAAAwEmKfkAGzAAAAAOAZ+1dEf/AAADAAADAakAAAAyAZ+3akf/AAAE1Ru2a6G6qgBXnkPPo16+9sRoURLeM/RLkwNCoTGdDC8De02C6nnKY0EAAAA+QZu8SahBbJlMCGf//p4QAABDZWItwEtW1c1VA+LVD3LYTXFJOLC4rsKB7m4s+Wstvqr4qov9GyNGIIPRSNgAAAA0QZ/aRRUsI/8AABYsQ80csgMkgfysgkzz3h6AC57jWBB4XxisEob4Co/LaIWxIo9+uM9eLAAAACEBn/l0R/8AACK4r9xXXlweRKO5/B4dCs0PRgySfUkPbb0AAAAnAZ/7akf/AAAiscwJwWPF5Aa2DQoM7O/I+PDic93vhSGC8yCBZMmwAAAAXUGb4EmoQWyZTAhn//6eEAAAQ0UllPkMLU5+2d+7tLPx/LixME5knczdgA7KRtSLuZcrXghwRlcH8Uuz1eu1L5TgR/+uSy2lHPmdDVXkohM1UEUHCQP2/8QLEpJQCQAAACtBnh5FFSwj/wAAFixDzbbZbFyFsrHJ9RXM/HjLC8wAtSvBgiScj3yd8IWBAAAAIQGePXRH/wAADN4VwoeeBTn/JVu5EALF+9sakg6Yfvj3BAAAABcBnj9qR/8AACK/BCcSyWmauFZrKWWGXQAAADlBmiRJqEFsmUwIZ//+nhAAAAm3v42SVjpm115ISUQNwOYFPJoYQgDeDP+24EdY7ngc5gsiUPRVuZAAAAAlQZ5CRRUsI/8AAAMBKeKt4DIoMyjqkAAWpeg9jJPip0ee0XnggQAAAA4BnmF0R/8AAAMAAAMBqQAAABkBnmNqR/8AAAT5PmDgbdvxPxEZ+Si0cx4IAAAAF0GaaEmoQWyZTAhn//6eEAAAAwAAAwM+AAAAEEGehkUVLCP/AAADAAADAQcAAAAOAZ6ldEf/AAADAAADAakAAAAOAZ6nakf/AAADAAADAakAAABJQZqsSahBbJlMCGf//p4QAABDRSi0AVry5Ob2sjXD17mQqnhDPxFo/5KrxhNHQPVq2gN3vHrLA9fICz5mEngu+50zHK+hzBGhrwAAACJBnspFFSwj/wAAFixDzbcVzYIM1otFg+JJ8hzsS2lB6CqxAAAAHgGe6XRH/wAAIriv3FV7qqyagPfrpQC7TBglJGpk2QAAABYBnutqR/8AACKxzAlvqW+yFVKFrBNxAAAAPkGa8EmoQWyZTAhn//6eEAAAQ1EOLwU2Rc3SmcktPVAQ1VIAEH78+DkCl87lP85WrIdUk2J2YeR4VVVhOnwZAAAAGkGfDkUVLCP/AAAWLEPNtxXMrJlJQy+0bchYAAAADgGfLXRH/wAAAwAAAwGpAAAAJwGfL2pH/wAAIr8EJxLJbOjYL02Cbt97bxf37CYjQDNSFiYrTZ24IQAAAFRBmzRJqEFsmUwIZ//+nhAAAAMBWTat4giful2+sRoQ2FkAKUW7PBtL8tSy1vxMurcGNfAHTSNlsQO4GbouxXwSNpPCziJv/BNhOduu3cR9gE5nffgAAAAoQZ9SRRUsI/8AAAMDG+5BBHhVZNa+1rXmjZ6pqW+dpSTJEEKNgOs/FgAAABsBn3F0R/8AAAMB27GwHi/oOzLAcAE08nszfFkAAAAXAZ9zakf/AAAE+zTVsZMLz+u90DI8apMAAABMQZt4SahBbJlMCGf//p4QAABDRSi0AT88Xbx5NAnVnIk+eeHku610X3iRhcu5sboWYKwJ2DvmqxYeU8Q9cb3qmIhtZIonEQJyMZkcaQAAACJBn5ZFFSwj/wAAFixDzbcWF9kPeiEVAvBJUAMphDyxT29AAAAAFwGftXRH/wAABPhbeZJPdykkYD5HZVJAAAAAIgGft2pH/wAAIrHMCW+i6Jn5CcI2YXgGeCUSRYHnPAqBiFkAAAAXQZu8SahBbJlMCGf//p4QAAADAAADAz4AAAAhQZ/aRRUsI/8AAAMDI3D5+Bt0C2EsN+jc1b8ozSd8UapIAAAAFgGf+XRH/wAABPvQwc62jcNXbzwqJh8AAAAWAZ/7akf/AAAE+T5g4G3b8Ts+sxapIAAAAFNBm+BJqEFsmUwIZ//+nhAAAENFKaAAaUbzoUw4eNXBDeCIikRZci9C3Z4LUb5+CevVjyiNFIzFZM3SPVfo9CmH8BkHD4xp2almXBfc2bFMl2uMgQAAACNBnh5FFSwj/wAAFixDzbcVzFWXqI3+Rrc/eHyBaEx390Sp8QAAABoBnj10R/8AAATYZ8IYbXEem569eS0eZpYSFgAAABYBnj9qR/8AACKxzAlvqW+yFVKFrBNxAAAAQkGaJEmoQWyZTAhn//6eEAAAQ1EOLwU2Rc13/uoaQJWRScAIPNMydB9EgaZZxEADOYc9WjqR22UUfMJefkzk2VJvQAAAABtBnkJFFSwj/wAAFixDzbcVzKyZSUM1GCef+ekAAAAOAZ5hdEf/AAADAAADAakAAAAZAZ5jakf/AAAivwQnEslpmrhWa0dQ2YRnpAAAADdBmmhJqEFsmUwIZ//+nhAAAAm3v42SVjpm115ISUQNwOYBMovlI5RZm8WwgE0T8VLmsLN9G3IkAAAAHEGehkUVLCP/AAADAyRTCrDhfnRLYC6n65oxp4MAAAAcAZ6ldEf/AAADAduxsKrXSJbxn30McmME0i34sAAAAA4BnqdqR/8AAAMAAAMBqQAAAEhBmqxJqEFsmUwIZ//+nhAAAENFJXgCcA4W1DMcbGcVZ1V+A4qSj+88IzKxiLsKBJ6POioasXDnEmnedESjtaGjJPOI7EQoVYAAAAApQZ7KRRUsI/8AABYsQ823Fcr1zuSdF5zUANy0VqbunOz7aBupHUekC3sAAAAaAZ7pdEf/AAAE2GfCGG1xHpuevXktHmaWEhcAAAAaAZ7rakf/AAAivwQnEslpmpbwdz8rHSAQ3oEAAABRQZrwSahBbJlMCGf//p4QAABDviuI9zEpM0AorQ9PobIV6bqXKxsNyFeZAVpRJU/cGATUSp57D4ExMkfuf9jiWYDRu1Aq5YTuAui4EOK2kpvRAAAAGkGfDkUVLCP/AAAWLEPNtxXMrJlJQy+0bchYAAAADgGfLXRH/wAAAwAAAwGpAAAAGAGfL2pH/wAAIr8EJxLJaZq4VmspNCeoIQAAAExBmzRJqEFsmUwIZ//+nhAAABnfg8Fbl9O7i3dIh9D3ot3BteyNNxCCN28Ne7ibf3eKJsMw/khnXHuwKo+zMQMKfvV0R7Xy5i9+syZdAAAAHEGfUkUVLCP/AAAILAoeRWXeTqhmDQyFkCNZJsAAAAAcAZ9xdEf/AAANNeorNAtUH29nrxBMSNabMDpCwQAAAA4Bn3NqR/8AAAMAAAMBqQAAAEhBm3hJqEFsmUwIZ//+nhAAAEFFKLQA6G8m3oylhIgCrzk2GDrgmN/7W9ZUfFd1/F1A0EQIlQ4gPHtvmYpmvvp/Fhsjlf8Fo8EAAAArQZ+WRRUsI/8AABWVWU8JQWzuUAA3UFUtN8GvFttdanisxxU8UD9mKK6ozAAAABUBn7V0R/8AACHDPg542E9Cq85+QsAAAAAbAZ+3akf/AAAE1+NZ0LRNarbGU6d/NDequk2BAAAAQUGbvEmoQWyZTAhn//6eEAAAQVSrTnWEnE7jp/NEFZOgB3v6ANEpqMqTEJG5tv4QncCzG+d2r5wx8/16PSw/pWgQAAAAGUGf2kUVLCP/AAAVnE5swthLC0qcQBPpdnwAAAAOAZ/5dEf/AAADAAADAakAAAAXAZ/7akf/AAAhvxrOe94JtmKq1bVdq3AAAABAQZvgSahBbJlMCF///oywAAAJj72Yu82gcVIPHMf4891/xlwA1UpMfiJ7zma/Ip8SP3/p+jQk6unciXDdlR+DvQAAAB1Bnh5FFSwj/wAAAwMQUwqxWcgPi1enynIU63zP2wAAABsBnj10R/8AAAMB0LGw8Y2QiRUWvMhHAo3T3HAAAAAQAZ4/akf/AAADAAOK/8VvQQAAAFhBmiRJqEFsmUwIX//+jLAAAEIC9/mg528vVjlyHVqKbTUWuAD7wADpuCMjDNhf8gyb5rdSizRUSfP5At/zGiwI5736gEB/AjbNOix+mRtstqUDFExhUOOAAAAAMkGeQkUVLCP/AAAVnE5sqCR1eJnaOmpDLAC1sM9Kz0Z6UnoLrXORhQ6yx73epB8EsFSBAAAAHQGeYXRH/wAABNhnwhhtW20DHXRbWcwHT69UU/aBAAAAGwGeY2pH/wAAIb8aznveIDCzevjkeZqc5PzFwAAAADdBmmdJqEFsmUwIX//+jLAAAAmPvZjGP6WGMJHDB5pqQBpnUuwB9Wh1/6y73jexZymbPop7XeqAAAAAG0GehUUVLCP/AAADAxBTKeEli9LW10tBEN6JwQAAABIBnqZqR/8AAAMB0H/jaDL8RcAAAABNQZqpSahBbJlMFEwz//6eEAAAQUUpoABNKcZLQTr+OPGujxJkxd4Jq9jUbQ94TtsW6cjZOhULGWKvjigpulpSPM4hepqV0ypNLeMNoIEAAAAjAZ7Iakf/AAAhvxrOOwyyQ3wdjr4bMy8uI8xemrjrCEgvmYAAAAAcQZrNSeEKUmUwIZ/+nhAAAAMABseEtbqSKScfMQAAABJBnutFNEwj/wAAAwACGwK4kYEAAAAuAZ8KdEf/AAADALDRSqJABdQB5/zcxF4TEBel6wzA9u4gIYeB8Y1tFLsHMKvQgQAAAA4BnwxqR/8AAAMAAAMBqQAAADtBmxFJqEFomUwIZ//+nhAAAEFFKaAATtsxlLCRAFXsgSDkhnuR1TQh+Rs6OpSQaiENqt6K3CpusScRRQAAABxBny9FESwj/wAAFZVYVYrOP9ihDlqGEQXCup2wAAAAIQGfTnRH/wAAIcM+DaDXDJxsSTrRZptaDxKuFUR7o3p5FQAAACIBn1BqR/8AAAMArtYeuZMtr9Ok5Yjwr/26pRcVsUMZlr8cAAAAPUGbVUmoQWyZTAhn//6eEAAAQVSrbcAI3sq6iQ9+7DinduQHbqC1zCYwDfDm1HcXaCEAgn70sUyYjMq2l0YAAAAlQZ9zRRUsI/8AABWVKzdrVek5hQi3GINYjj51EkuA6wDt3FLkgQAAABcBn5J0R/8AACHDF2ippVPU+8aF6VyOOQAAABkBn5RqR/8AAATWRWDgbdvxPxEZ+Si0cx5JAAAAPUGbmUmoQWyZTAhn//6eEAAAQUUlzOPANWaoqxdRrIqVEf1oFTrk+jLGJQ8hyeNlHTEVgIfEJLvigi942ggAAAAiQZ+3RRUsI/8AABWVKzdrWl64nSngVqgCNsMaRFyjPP0K2AAAACUBn9Z0R/8AACHDF2ipqOjDHnGkD9E12PPbHcdLEyP3NYRIxQeTAAAAEAGf2GpH/wAAAwCxZqFAj4AAAAA8QZvdSahBbJlMCGf//p4QAAAJKB6WNU5mFWbVL02hQpXpLydSusm96whztoA4pX4YTZDV65QYS9aVDEnGAAAAK0Gf+0UVLCP/AAADAwfuOFlTPQcHMQQDt5c3MAypCosIKVGTpjG+P4TieSEAAAAaAZ4adEf/AAAE1YcgtX4+saKlx9716xgZ3HAAAAAbAZ4cakf/AAAE1+CE4lktM1cKz3oaHwCClTKNAAAAN0GaAUmoQWyZTAhn//6eEAAAQWViVqAg635Y6CRVTlc3orSV/asdfTF1DSRLlLRGtr6djSAbsssAAAAkQZ4/RRUsI/8AABWVKzdrWyCtGUF66UhgAF1HkKTUGX7L+ImAAAAAGwGeXnRH/wAAIcMXaKmd8cn4qnJEBnnww7EOOQAAABQBnkBqR/8AAAS341nPe8QCINAlYAAAAElBmkVJqEFsmUwIZ//+nhAAAEFUqz7j/IFvp0cDV1O6lhbAJW8tGVMYBu3/E0YemyACEFArmZU4hVl3az7RoQEB1ibOg5ykGpGVAAAAHUGeY0UVLCP/AAAVlSs3a1peuKKDwjCwOdzHmodtAAAAJgGegnRH/wAAIcMXaKmlq/pjKQw5+ffQjlQAkWBYAax08AsJ6M8kAAAADgGehGpH/wAAAwAAAwGpAAAANEGaiUmoQWyZTAhn//6eEAAAQVSrQf0nyUT/50bO9xf3TFtdiTXHhXeIt1LgAhBQK4deHdEAAAAZQZ6nRRUsI/8AABWVKzdrWl64opZAnXbqSAAAABcBnsZ0R/8AACHDF2ippVPU+8aF6VyOOQAAABABnshqR/8AAAMAGIk8KH+AAAAANUGazUmoQWyZTAhn//6eEAAAQUUlnyNPW7RETXfhsgaVRJU5aK2Tt1MyLihAAc5w0r9kMprRAAAAM0Ge60UVLCP/AAAVnEPNHN9ABBAXziHpOLIOdC/tzoUixRT+diYYMmdKAC+uKkpprXeSjQAAABoBnwp0R/8AAATVhyC1fj6xoqXH3vXrGBnccQAAACABnwxqR/8AACG/BCcSyWzo2C9Tr0v9JiiKgZapYM6swQAAAC1BmxFJqEFsmUwIZ//+nhAAAEFRDi8FNkXNd+XFQAa1lK69Nwyyw/9eEo97qCAAAAAaQZ8vRRUsI/8AABWcQ823FcysmUlDM664ooYAAAAOAZ9OdEf/AAADAAADAakAAAAYAZ9Qakf/AAAhvwQnEslpmrhWaz+VI63oAAAAR0GbVUmoQWyZTAhn//6eEAAACXe/jZpsw9NAAVvoH6YosZadll5lIWJZwtzN4EEp+L6omG8q3K9586FiBN4MmKO9GHZWXzFMAAAAH0Gfc0UVLCP/AAADAxBSUYR+FHhKT6M73wmCTeA/3HEAAAAaAZ+SdEf/AAAE1YcgtX4+saKlx9716xgZ3HEAAAAQAZ+Uakf/AAADAdB/4oBswQAAAE5Bm5lJqEFsmUwIZ//+nhAAAEFFJczjwDx6Ly4inJQLKiPmJ4dcm/Y0u4BHgf2qfI64iyb6hAw8DiiynqnCFmfCAFdpPziN/Sh/rBwKBIAAAAAnQZ+3RRUsI/8AABWVKyniRiwesU3uuIrnGUHI13mOlmMvzmUK3xKMAAAAGgGf1nRH/wAAIav4W3gSnWgfU2lqbbcL7cL3AAAAIAGf2GpH/wAADOSd2/2fo+u6IuGGcbDTZQg5i6nfTYIqAAAAREGb3UmoQWyZTAhf//6MsAAAQhRdSR/OaEFQwO9id0HrWwBYuJaebkX2TkVIP4849/CLHCrWEyCPnLphU40iiz0RFMJPAAAAJUGf+0UVLCP/AAAVlSs3a2EpfdjyK3ktwKR8JIoGG3KHNiPoXycAAAAbAZ4adEf/AAAhwxdir13XujIWg5RqlK8DOhbQAAAAGQGeHGpH/wAABNZFYOBt2/E/ERn5KLRzHkkAAAAqQZoBSahBbJlMCF///oywAABCAvabz77IC/VURswXOrmllmLOyASZVIYVAAAAMkGeP0UVLCP/AAAVnEPNtxXNggzVEt2YAEZBca/MRUlFNhFHCPCPDuSUcqRSyYWYtuOAAAAAGwGeXnRH/wAAAwHEinhOgJGJKHNFeXq6gubEVQAAACABnkBqR/8AACGxzAlvpZNAOkaT9Fcwx2NBEcQm0EOTtgAAAFBBmkNJqEFsmUwUTDP//p4QAAADA4h3mb1TFP9EAECB79rrC0/3iv/6q+SaUvEaHtiANQ1351beg2x6o0K6u/Ll69Eu7Rp2Gi0+dBqYbJ0CFQAAAB0BnmJqR/8AAATJWV+ivrthFD347dOELRMLtS4nbQAAAElBmmdJ4QpSZTAhn/6eEAAAQbpvPjByHShuuDvdOMQh/q3TlUHFss8hQpkVzkZQIA3cSBaS1op7ZHV0iR4kn6j4BJSr8T2mKZ4gAAAAHUGehUU0TCP/AAAVlSs3a1peuKKDwjCwOdzHmodsAAAAKQGepHRH/wAAIcMXaKmwAjCTdztsNl8i4hqgpxRtTBcTAJz7anevRCKhAAAADgGepmpH/wAAAwAAAwGpAAAAQkGaq0moQWiZTAhn//6eEAAAP2p5maw/GETAGPMdrU3hCI5awHApX9zUEoAuO8LkkHcP7RtKGiZscfaxylZRobwUhQAAACxBnslFESwj/wAAFQVYVS9dQH39fjPGAGr2BAl+MwwCC/ey6+kYziwmbeITtgAAABoBnuh0R/8AACCsOQWuTx9+6m44ydiY1W4wIQAAAB8BnupqR/8AAAS2RWDi78hjIOOzKODyGijckajS2iqRAAAAOkGa70moQWyZTAhn//6eEAAAP2p5mYgEnwpk9+UzeLbhsJJWSMwHx6E5wCkcAcVrDFuNbnSr3BmUrYEAAAAhQZ8NRRUsI/8AABUFWFXlkt3LfTyNEDAGXy7/z5mxd2pBAAAAFgGfLHRH/wAAIMM+DnjYT0KsJS7CUEAAAAAZAZ8uakf/AAAEtkVg4mcchjqOnZ3wIQL/cAAAAC1BmzNJqEFsmUwIZ//+nhAAAD9qeZmIBLF0tJqyfz5W1NHilirAgAsM9qDrNaEAAAA0QZ9RRRUsI/8AABUMTmyoJHV4mdo6akMsALWwz0rPRnpSepl1PmGWyEp539lGbBY4VjEWYAAAAB4Bn3B0R/8AAAMBxIp45P7pq3kbz4f92R4dUwC9HTAAAAAdAZ9yakf/AAAgsisHEzuiO192YPlQReQKKqlcgDkAAAA2QZt3SahBbJlMCGf//p4QAAA/Z0qc5+CvRT6l/HJUcZ9+TP/x6JBdg4W3N8s+KmnIct1Ddx/dAAAAJUGflUUVLCP/AAAVDE5sbmPsuYDnMk5//3HNYEwywOyosYER52EAAAAaAZ+0dEf/AAAEtYcgtcnj8BMI4RCG6RsDumAAAAAaAZ+2akf/AAAgsisHEzjhqCchr6AtZQUxAOAAAAArQZu7SahBbJlMCGf//p4QAAA/Z0qc59/iJfc8AtK7/EHQcp0/GBpKLX/rwQAAAB5Bn9lFFSwj/wAAFQxObMLYSwtKniLBcNAcYuC8j4AAAAAOAZ/4dEf/AAADAAADAakAAAAsAZ/6akf/AAAgvxrOOwzg4k0zmABcMOwXdRlpiIurD/fpQGw1TW8Kq5sbpVkAAAA7QZv/SahBbJlMCGf//p4QAAA/Z0p8bugkSos0FiOXEpgYNDOUNI725pACPSWmCO0Zy3Ek9D+oz51lpIAAAAAbQZ4dRRUsI/8AABUMQ823FcysmUlDL7RVUj8hAAAAIwGePHRH/wAABLb+6igBJd8GTs44KP1euzc52pifFgE9jfKBAAAAGAGePmpH/wAAIL8EJxLJaZq4VmspM699eQAAAC5BmiNJqEFsmUwIZ//+nhAAAD9fZHCzO5S3JDoNJlGsPUaEH4euODGBlH6v+7InAAAAKUGeQUUVLCP/AAAVDEPNtxV0Q5OkH4l74fYXDdOMIIsqHuRwJoKaBBdMAAAAGgGeYHRH/wAABLWHILV+PrGipcfe9esYGd0xAAAAHQGeYmpH/wAAIL8EJxLJaZq4VlMfKjt+L62NBJVhAAAAREGaZ0moQWyZTAhn//6eEAAAAwNeocOn8BdTMlHwOEYbxIl5RrBAGfm6WePwJ1OkxHe2kDvTq2XGn7IfXr6PxXdB7kvgAAAAHkGehUUVLCP/AAADARXlC29NRkS7BHBPVLXzC4aR8AAAAA4BnqR0R/8AAAMAAAMBqQAAAB0BnqZqR/8AAASVG6dpXQ07do+xusA9WQs6fyv5sAAAADdBmqtJqEFsmUwIZ//+nhAAAD9e3HtdOD/G5mHyK/fWyZPjEv9pVsLIAmTRCF/PAHb9W35vWWthAAAAMEGeyUUVLCP/AAAVAyu1BcOKAFtM7AfZpQLdiysg3Y4pZoel3Xy7FOVQDtM0GWc8oAAAAB0Bnuh0R/8AACCr+Ft4Ep1oI4gZ0ClVAhzfgiMeUQAAAC8BnupqR/8AACC/BCcSysgnQAC5zYCN8dBV971Q1AWHXATfDrCS4rH5cBDhhBCPrwAAAD5Bmu9JqEFsmUwIZ//+nhAAAAk3v42SVjpmdhBXDqd0cCu5vJ7QPfTq2nNMs3DzSARxbkV7ce4LCpSiX9VpYQAAAB9Bnw1FFSwj/wAAAwL8UGq05bkLA6pl039ykeEh0XTBAAAAGwGfLHRH/wAABLV/C28CU60EcTTU0ZaZgi5VgAAAABABny5qR/8AAASX41nUwCygAAAAQUGbM0moQWyZTAhn//6eEAAAP17ce104P8aatQABx8KU9QU5phIVBxik0l/Mw037f362vMo/o1+guMQBPTNtXQivAAAAJkGfUUUVLCP/AAAVAyu1Bbkcrw1FXOfDZQeAOb8GWZkCCHyA1CSrAAAAIgGfcHRH/wAAIMMXaKmlrKXBDdqS7phvnPfxF1zrwh+JXYAAAAAXAZ9yakf/AAAgvwQnEslpmrhWayllhq0AAAAyQZt3SahBbJlMCGf//p4QAAADAVAFrKuShZnaoEurrzvcEAfEMDt8F4d/qPS1rSmWu7EAAAAdQZ+VRRUsI/8AAAMAbCYPNtxXMsz3Ra9bT7H/dMEAAAAOAZ+0dEf/AAADAAADAakAAAAbAZ+2akf/AAAEqVnH5itkGYhgGYSKen8NQ8XTAAAASUGbu0moQWyZTAhn//6eEAAAP19km02+7/Os0AA6/WNxRggJ5Aw4OdiRwhsU6kK6u6k41JTQjA4kZAqdP9g7Wu/UizSNBqlqjbEAAAAdQZ/ZRRUsI/8AABUFKzdrWl64ooPCMLA53Meah5QAAAAiAZ/4dEf/AAAgwxdoqbADaqUXP0iOAUDZlIu2DrZt/z1ZgAAAAA4Bn/pqR/8AAAMAAAMBqQAAAEdBm/9JqEFsmUwIZ//+nhAAAD9qeYqm5vy7/GLyesJpTn2+iqujGjgekVYBdUb51O7RpwcA0xQk06NW9GlsxO8Aj5n53f9TgAAAAB1Bnh1FFSwj/wAAFQUrN2taXriig8IwsDncx5qHlQAAACEBnjx0R/8AACDDF2ippTJZgbYOG/OJygJcRWM01kVxvpkAAAAOAZ4+akf/AAADAAADAakAAAA0QZojSahBbJlMCGf//p4QAAA/X2RckfM5jAzUfmY9/C9Sy1FUiGS714uoAvyfdC4qkrbcNwAAACtBnkFFFSwj/wAAFQUrN2thKX3bclgALqC4iOAaoHn7H1vMQMsPhuSnmB5QAAAAFgGeYHRH/wAAIMMXaKmlU9T7xoX1YasAAAAZAZ5iakf/AAAEtkVg4G3b8T8RGfkotHMemQAAADVBmmdJqEFsmUwIZ//+nhAAAD9qeYqm5vwTAhlwCCGsqMSYxPQ40yTpQA3IZ8EWydi/XdUrnAAAAB1BnoVFFSwj/wAAFQUrN2taXriig8IwsDncx5qHlAAAACEBnqR0R/8AACDDF2ippS/2Abuez0GOLv+cT3KJHfbJWYEAAAAOAZ6makf/AAADAAADAakAAABEQZqrSahBbJlMCF///oywAABAem9CIcMS5ndUnEMuEClnpnM+/YVXpPQhXq0i+PwJ0Xei5RoAKIKkr4QVDfXx9doPRS0AAAA0QZ7JRRUsI/8AABUFKzDXeiE86JtrgBIlbNVJkeY5epUAyz0jD1Hh3mLNHuMDFcVKGSRPNgAAABcBnuh0R/8AACCr+Ft4Ep1oI4kJxumyNwAAABsBnupqR/8AAAyUnRbYOk/6CteXLrlG5JBDEj8AAAAxQZrvSahBbJlMCF///oywAAA+axsYzM5siWFqdQq6gTLV2id78HUWiNqTftoVjy6fWwAAACRBnw1FFSwj/wAAFHVYVeWS3ct9QHgAE1Oov6SsMPmjDXMeK7EAAAAVAZ8sdEf/AAAfyxsPGNhPQqvOfkbAAAAAGAGfLmpH/wAABJZFYOJnHIY6Mht4WdXKsAAAADFBmzNJqEFsmUwIX//+jLAAAD5rGxjMzmyJYWp1CrqBMtXaIG+LkS+Ez1uxs7TLC/aVAAAAJUGfUUUVLCP/AAAUdVhV5ZLeDwABNUGbNbQIMu0ROuT/wKoUtmAAAAAVAZ9wdEf/AAAfyxsPGNhPQqvOfkbAAAAAGQGfcmpH/wAABJZFYOJnHIY6jp2d8CEDABEAAAAxQZt3SahBbJlMCFf//jhAAADyp7s7NRygQ0LC2PQ6ZBTIzVtGDDb6JJkQ9nte2HVYgQAAABxBn5VFFSwj/wAAFHVYVYrOP9ihGRfhhZisaIA9AAAAIQGftHRH/wAAH8sbDkDXDJ/bLekd+ZFUexx/Tno0U/CTgAAAAA4Bn7ZqR/8AAAMAAAMBqQAAAC9Bm7lJqEFsmUwUTH/8hAAADnml6e+ueiPWO4mvqNvfRM5weQxMtzwy9KbHpVSgEQAAACEBn9hqR/8AAB/H/VaNyJRxEWJLWJHyAUSV1JSPZxZ32L0AAAEmZYiEACv//vZzfAprRzOVLgV292aj5dCS5fsQYPrQAAADAAADAABNxUTOiwpjxNkAAAMAXEAR4LAI8JULYSEfY5YZOCYrsAAukLAbOZ8GuwUXM7daQMb5kUo+ts7q6wdfw7/RDp0h57EgifpUFDVMvNwVjfegK7gTpAjymqGqD/IkmX+47Z1C3gb6z8dnRtKvgykS4ZLVkhHLEE76KkaoKbCLZU8nHXm578Tv7kJLL9Hwuf/TXDCbGiNA4cKgDT5X0orBG5z7o67ySWP0q5dEJtSe1+GZ+NidJZdvPAItf/jiWTrsEwbo7IJ8atskiYPlRoACGLkinRUQAFPfpAbXaftdlnsbWJm64yDla/Qs3dWt0KqACmgAzvfgAAADAAADAAADAFVAAAAaZ21vb3YAAABsbXZoZAAAAAAAAAAAAAAAAAAAA+gAACckAAEAAAEAAAAAAAAAAAAAAAABAAAAAAAAAAAAAAAAAAAAAQAAAAAAAAAAAAAAAAAAQAAAAAAAAAAAAAAAAAAAAAAAAAAAAAAAAAAAAAAAAAIAABmRdHJhawAAAFx0a2hkAAAAAwAAAAAAAAAAAAAAAQAAAAAAACckAAAAAAAAAAAAAAAAAAAAAAABAAAAAAAAAAAAAAAAAAAAAQAAAAAAAAAAAAAAAAAAQAAAAAJYAAABkAAAAAAAJGVkdHMAAAAcZWxzdAAAAAAAAAABAAAnJAAAAgAAAQAAAAAZCW1kaWEAAAAgbWRoZAAAAAAAAAAAAAAAAAAAMgAAAfUAVcQAAAAAAC1oZGxyAAAAAAAAAAB2aWRlAAAAAAAAAAAAAAAAVmlkZW9IYW5kbGVyAAAAGLRtaW5mAAAAFHZtaGQAAAABAAAAAAAAAAAAAAAkZGluZgAAABxkcmVmAAAAAAAAAAEAAAAMdXJsIAAAAAEAABh0c3RibAAAAJhzdHNkAAAAAAAAAAEAAACIYXZjMQAAAAAAAAABAAAAAAAAAAAAAAAAAAAAAAJYAZAASAAAAEgAAAAAAAAAAQAAAAAAAAAAAAAAAAAAAAAAAAAAAAAAAAAAAAAAAAAAABj//wAAADJhdmNDAWQAH//hABlnZAAfrNlAmDPl4QAAAwABAAADAGQPGDGWAQAGaOvjyyLAAAAAGHN0dHMAAAAAAAAAAQAAAfUAAAEAAAAAHHN0c3MAAAAAAAAAAwAAAAEAAAD7AAAB9QAAD4hjdHRzAAAAAAAAAe8AAAABAAACAAAAAAEAAAUAAAAAAQAAAgAAAAABAAAAAAAAAAEAAAEAAAAAAQAABQAAAAABAAACAAAAAAEAAAAAAAAAAQAAAQAAAAABAAAFAAAAAAEAAAIAAAAAAQAAAAAAAAABAAABAAAAAAEAAAUAAAAAAQAAAgAAAAABAAAAAAAAAAEAAAEAAAAAAQAABQAAAAABAAACAAAAAAEAAAAAAAAAAQAAAQAAAAABAAAFAAAAAAEAAAIAAAAAAQAAAAAAAAABAAABAAAAAAEAAAUAAAAAAQAAAgAAAAABAAAAAAAAAAEAAAEAAAAAAQAABQAAAAABAAACAAAAAAEAAAAAAAAAAQAAAQAAAAABAAAEAAAAAAIAAAEAAAAAAQAABQAAAAABAAACAAAAAAEAAAAAAAAAAQAAAQAAAAABAAAFAAAAAAEAAAIAAAAAAQAAAAAAAAABAAABAAAAAAEAAAUAAAAAAQAAAgAAAAABAAAAAAAAAAEAAAEAAAAAAQAABQAAAAABAAACAAAAAAEAAAAAAAAAAQAAAQAAAAABAAAFAAAAAAEAAAIAAAAAAQAAAAAAAAABAAABAAAAAAEAAAQAAAAAAgAAAQAAAAABAAAFAAAAAAEAAAIAAAAAAQAAAAAAAAABAAABAAAAAAEAAAUAAAAAAQAAAgAAAAABAAAAAAAAAAEAAAEAAAAAAQAABQAAAAABAAACAAAAAAEAAAAAAAAAAQAAAQAAAAABAAAEAAAAAAIAAAEAAAAAAQAABQAAAAABAAACAAAAAAEAAAAAAAAAAQAAAQAAAAABAAAFAAAAAAEAAAIAAAAAAQAAAAAAAAABAAABAAAAAAEAAAUAAAAAAQAAAgAAAAABAAAAAAAAAAEAAAEAAAAAAQAABQAAAAABAAACAAAAAAEAAAAAAAAAAQAAAQAAAAABAAAFAAAAAAEAAAIAAAAAAQAAAAAAAAABAAABAAAAAAEAAAUAAAAAAQAAAgAAAAABAAAAAAAAAAEAAAEAAAAAAQAABQAAAAABAAACAAAAAAEAAAAAAAAAAQAAAQAAAAABAAAFAAAAAAEAAAIAAAAAAQAAAAAAAAABAAABAAAAAAEAAAUAAAAAAQAAAgAAAAABAAAAAAAAAAEAAAEAAAAAAQAABQAAAAABAAACAAAAAAEAAAAAAAAAAQAAAQAAAAABAAAFAAAAAAEAAAIAAAAAAQAAAAAAAAABAAABAAAAAAEAAAUAAAAAAQAAAgAAAAABAAAAAAAAAAEAAAEAAAAAAQAABQAAAAABAAACAAAAAAEAAAAAAAAAAQAAAQAAAAABAAAFAAAAAAEAAAIAAAAAAQAAAAAAAAABAAABAAAAAAEAAAUAAAAAAQAAAgAAAAABAAAAAAAAAAEAAAEAAAAAAQAABQAAAAABAAACAAAAAAEAAAAAAAAAAQAAAQAAAAABAAAFAAAAAAEAAAIAAAAAAQAAAAAAAAABAAABAAAAAAEAAAUAAAAAAQAAAgAAAAABAAAAAAAAAAEAAAEAAAAAAQAABQAAAAABAAACAAAAAAEAAAAAAAAAAQAAAQAAAAABAAAFAAAAAAEAAAIAAAAAAQAAAAAAAAABAAABAAAAAAEAAAUAAAAAAQAAAgAAAAABAAAAAAAAAAEAAAEAAAAAAQAABQAAAAABAAACAAAAAAEAAAAAAAAAAQAAAQAAAAABAAAFAAAAAAEAAAIAAAAAAQAAAAAAAAABAAABAAAAAAEAAAUAAAAAAQAAAgAAAAABAAAAAAAAAAEAAAEAAAAAAQAABQAAAAABAAACAAAAAAEAAAAAAAAAAQAAAQAAAAABAAAFAAAAAAEAAAIAAAAAAQAAAAAAAAABAAABAAAAAAEAAAUAAAAAAQAAAgAAAAABAAAAAAAAAAEAAAEAAAAAAQAABQAAAAABAAACAAAAAAEAAAAAAAAAAQAAAQAAAAABAAAFAAAAAAEAAAIAAAAAAQAAAAAAAAABAAABAAAAAAEAAAUAAAAAAQAAAgAAAAABAAAAAAAAAAEAAAEAAAAAAQAABQAAAAABAAACAAAAAAEAAAAAAAAAAQAAAQAAAAABAAAFAAAAAAEAAAIAAAAAAQAAAAAAAAABAAABAAAAAAEAAAUAAAAAAQAAAgAAAAABAAAAAAAAAAEAAAEAAAAAAQAABQAAAAABAAACAAAAAAEAAAAAAAAAAQAAAQAAAAABAAAFAAAAAAEAAAIAAAAAAQAAAAAAAAABAAABAAAAAAEAAAQAAAAAAgAAAQAAAAABAAAFAAAAAAEAAAIAAAAAAQAAAAAAAAABAAABAAAAAAEAAAMAAAAAAQAAAQAAAAABAAAFAAAAAAEAAAIAAAAAAQAAAAAAAAABAAABAAAAAAEAAAUAAAAAAQAAAgAAAAABAAAAAAAAAAEAAAEAAAAAAQAABQAAAAABAAACAAAAAAEAAAAAAAAAAQAAAQAAAAABAAAFAAAAAAEAAAIAAAAAAQAAAAAAAAABAAABAAAAAAEAAAUAAAAAAQAAAgAAAAABAAAAAAAAAAEAAAEAAAAAAQAABQAAAAABAAACAAAAAAEAAAAAAAAAAQAAAQAAAAABAAAEAAAAAAIAAAEAAAAAAQAAAgAAAAABAAAFAAAAAAEAAAIAAAAAAQAAAAAAAAABAAABAAAAAAEAAAUAAAAAAQAAAgAAAAABAAAAAAAAAAEAAAEAAAAAAQAABQAAAAABAAACAAAAAAEAAAAAAAAAAQAAAQAAAAABAAAFAAAAAAEAAAIAAAAAAQAAAAAAAAABAAABAAAAAAEAAAUAAAAAAQAAAgAAAAABAAAAAAAAAAEAAAEAAAAAAQAABQAAAAABAAACAAAAAAEAAAAAAAAAAQAAAQAAAAABAAAFAAAAAAEAAAIAAAAAAQAAAAAAAAABAAABAAAAAAEAAAUAAAAAAQAAAgAAAAABAAAAAAAAAAEAAAEAAAAAAQAABQAAAAABAAACAAAAAAEAAAAAAAAAAQAAAQAAAAABAAAFAAAAAAEAAAIAAAAAAQAAAAAAAAABAAABAAAAAAEAAAUAAAAAAQAAAgAAAAABAAAAAAAAAAEAAAEAAAAAAQAABQAAAAABAAACAAAAAAEAAAAAAAAAAQAAAQAAAAABAAAFAAAAAAEAAAIAAAAAAQAAAAAAAAABAAABAAAAAAEAAAUAAAAAAQAAAgAAAAABAAAAAAAAAAEAAAEAAAAAAQAABQAAAAABAAACAAAAAAEAAAAAAAAAAQAAAQAAAAABAAAFAAAAAAEAAAIAAAAAAQAAAAAAAAABAAABAAAAAAEAAAUAAAAAAQAAAgAAAAABAAAAAAAAAAEAAAEAAAAAAQAABQAAAAABAAACAAAAAAEAAAAAAAAAAQAAAQAAAAABAAAFAAAAAAEAAAIAAAAAAQAAAAAAAAABAAABAAAAAAEAAAUAAAAAAQAAAgAAAAABAAAAAAAAAAEAAAEAAAAAAQAABQAAAAABAAACAAAAAAEAAAAAAAAAAQAAAQAAAAABAAAFAAAAAAEAAAIAAAAAAQAAAAAAAAABAAABAAAAAAEAAAUAAAAAAQAAAgAAAAABAAAAAAAAAAEAAAEAAAAAAQAABQAAAAABAAACAAAAAAEAAAAAAAAAAQAAAQAAAAABAAAFAAAAAAEAAAIAAAAAAQAAAAAAAAABAAABAAAAAAEAAAQAAAAAAgAAAQAAAAABAAADAAAAAAEAAAEAAAAAAQAABQAAAAABAAACAAAAAAEAAAAAAAAAAQAAAQAAAAABAAAFAAAAAAEAAAIAAAAAAQAAAAAAAAABAAABAAAAAAEAAAUAAAAAAQAAAgAAAAABAAAAAAAAAAEAAAEAAAAAAQAABQAAAAABAAACAAAAAAEAAAAAAAAAAQAAAQAAAAABAAAFAAAAAAEAAAIAAAAAAQAAAAAAAAABAAABAAAAAAEAAAUAAAAAAQAAAgAAAAABAAAAAAAAAAEAAAEAAAAAAQAABQAAAAABAAACAAAAAAEAAAAAAAAAAQAAAQAAAAABAAAFAAAAAAEAAAIAAAAAAQAAAAAAAAABAAABAAAAAAEAAAUAAAAAAQAAAgAAAAABAAAAAAAAAAEAAAEAAAAAAQAABQAAAAABAAACAAAAAAEAAAAAAAAAAQAAAQAAAAABAAAFAAAAAAEAAAIAAAAAAQAAAAAAAAABAAABAAAAAAEAAAUAAAAAAQAAAgAAAAABAAAAAAAAAAEAAAEAAAAAAQAABQAAAAABAAACAAAAAAEAAAAAAAAAAQAAAQAAAAABAAAFAAAAAAEAAAIAAAAAAQAAAAAAAAABAAABAAAAAAEAAAMAAAAAAQAAAQAAAAABAAAFAAAAAAEAAAIAAAAAAQAAAAAAAAABAAABAAAAAAEAAAUAAAAAAQAAAgAAAAABAAAAAAAAAAEAAAEAAAAAAQAABQAAAAABAAACAAAAAAEAAAAAAAAAAQAAAQAAAAABAAAFAAAAAAEAAAIAAAAAAQAAAAAAAAABAAABAAAAAAEAAAUAAAAAAQAAAgAAAAABAAAAAAAAAAEAAAEAAAAAAQAABQAAAAABAAACAAAAAAEAAAAAAAAAAQAAAQAAAAABAAAFAAAAAAEAAAIAAAAAAQAAAAAAAAABAAABAAAAAAEAAAUAAAAAAQAAAgAAAAABAAAAAAAAAAEAAAEAAAAAAQAABQAAAAABAAACAAAAAAEAAAAAAAAAAQAAAQAAAAABAAAFAAAAAAEAAAIAAAAAAQAAAAAAAAABAAABAAAAAAEAAAUAAAAAAQAAAgAAAAABAAAAAAAAAAEAAAEAAAAAAQAABQAAAAABAAACAAAAAAEAAAAAAAAAAQAAAQAAAAABAAAFAAAAAAEAAAIAAAAAAQAAAAAAAAABAAABAAAAAAEAAAUAAAAAAQAAAgAAAAABAAAAAAAAAAEAAAEAAAAAAQAABQAAAAABAAACAAAAAAEAAAAAAAAAAQAAAQAAAAABAAAFAAAAAAEAAAIAAAAAAQAAAAAAAAABAAABAAAAAAEAAAUAAAAAAQAAAgAAAAABAAAAAAAAAAEAAAEAAAAAAQAABQAAAAABAAACAAAAAAEAAAAAAAAAAQAAAQAAAAABAAAFAAAAAAEAAAIAAAAAAQAAAAAAAAABAAABAAAAAAEAAAUAAAAAAQAAAgAAAAABAAAAAAAAAAEAAAEAAAAAAQAABQAAAAABAAACAAAAAAEAAAAAAAAAAQAAAQAAAAABAAADAAAAAAEAAAEAAAAAAQAAAgAAAAAcc3RzYwAAAAAAAAABAAAAAQAAAfUAAAABAAAH6HN0c3oAAAAAAAAAAAAAAfUAAASoAAAAZAAAACIAAAAaAAAAHQAAAGoAAAAnAAAAIQAAACkAAABZAAAAMgAAABgAAAAkAAAAKAAAABsAAAAxAAAAEwAAAIAAAAApAAAAGQAAACEAAAArAAAAHAAAABkAAAASAAAAdgAAACIAAAAfAAAAKgAAAGgAAAAkAAAAHwAAADEAAAA7AAAAIAAAABYAAABVAAAAMAAAAB8AAAAWAAAAPgAAADgAAAAfAAAAHQAAABsAAAAUAAAAEgAAABIAAAAbAAAAFAAAABIAAAASAAAASAAAACAAAAASAAAAIQAAACkAAAA+AAAAIQAAAEQAAAAhAAAAIAAAACAAAAAeAAAAPgAAABsAAAAkAAAAVAAAAB8AAAASAAAAHAAAACIAAAAUAAAAPAAAAE4AAABBAAAAIwAAABsAAAAbAAAAJwAAAB4AAAAdAAAAGwAAABQAAAASAAAAEgAAAFIAAAAiAAAAEgAAAB8AAAA4AAAAHQAAACcAAAASAAAAGwAAABQAAAASAAAAKQAAABsAAAAUAAAAEgAAABIAAAA4AAAALgAAAB4AAAAlAAAAWwAAACIAAAAfAAAAFQAAABsAAAAXAAAAFQAAABUAAAAbAAAAMQAAACAAAAAgAAAAUgAAACcAAAAfAAAAHQAAABsAAAAzAAAAHwAAAB0AAABAAAAAIwAAABIAAAAfAAAAGwAAACwAAAAmAAAAHwAAADwAAAAdAAAAMQAAABIAAAAbAAAAFAAAABIAAAASAAAAMQAAAB4AAAASAAAAHQAAAEsAAAAhAAAAHwAAABIAAAAbAAAAFAAAABIAAAASAAAARAAAAB4AAAASAAAAGgAAAB8AAAAlAAAAMQAAAB4AAABNAAAAIQAAAB4AAAAUAAAAOAAAADQAAAAfAAAAIQAAAEoAAAAiAAAAMgAAACIAAAAbAAAAHAAAABIAAAASAAAAOwAAAC4AAAAfAAAAIgAAAE0AAAAgAAAAHgAAABIAAAAbAAAAFAAAABIAAAASAAAARgAAADcAAAAeAAAAIQAAAD4AAAAgAAAAHgAAABIAAAAbAAAAJwAAAB4AAAAdAAAARQAAAE8AAAAgAAAAIQAAAEIAAAAhAAAAHgAAABIAAAA5AAAANgAAABoAAAAaAAAAVAAAACAAAAAVAAAAIAAAABYAAAAuAAAAEgAAABwAAAAnAAAASwAAADQAAAAqAAAAIwAAAB4AAAAfAAAAGQAAABgAAABPAAAALAAAACQAAAAbAAAAGwAAAB0AAAASAAAAEgAAAEkAAAA1AAAAJQAAACAAAABJAAAAJAAAABQAAAAfAAAAGgAAABMAAAASAAABwAAAAEkAAAAdAAAAIAAAABIAAABKAAAAKwAAABoAAAAoAAAASwAAACQAAAASAAAAHwAAABsAAAAWAAAAEgAAABIAAABSAAAAMQAAAB8AAAAgAAAAHgAAABYAAAASAAAANgAAAEIAAAA4AAAAJQAAACsAAABhAAAALwAAACUAAAAbAAAAPQAAACkAAAASAAAAHQAAABsAAAAUAAAAEgAAABIAAABNAAAAJgAAACIAAAAaAAAAQgAAAB4AAAASAAAAKwAAAFgAAAAsAAAAHwAAABsAAABQAAAAJgAAABsAAAAmAAAAGwAAACUAAAAaAAAAGgAAAFcAAAAnAAAAHgAAABoAAABGAAAAHwAAABIAAAAdAAAAOwAAACAAAAAgAAAAEgAAAEwAAAAtAAAAHgAAAB4AAABVAAAAHgAAABIAAAAcAAAAUAAAACAAAAAgAAAAEgAAAEwAAAAvAAAAGQAAAB8AAABFAAAAHQAAABIAAAAbAAAARAAAACEAAAAfAAAAFAAAAFwAAAA2AAAAIQAAAB8AAAA7AAAAHwAAABYAAABRAAAAJwAAACAAAAAWAAAAMgAAABIAAAA/AAAAIAAAACUAAAAmAAAAQQAAACkAAAAbAAAAHQAAAEEAAAAmAAAAKQAAABQAAABAAAAALwAAAB4AAAAfAAAAOwAAACgAAAAfAAAAGAAAAE0AAAAhAAAAKgAAABIAAAA4AAAAHQAAABsAAAAUAAAAOQAAADcAAAAeAAAAJAAAADEAAAAeAAAAEgAAABwAAABLAAAAIwAAAB4AAAAUAAAAUgAAACsAAAAeAAAAJAAAAEgAAAApAAAAHwAAAB0AAAAuAAAANgAAAB8AAAAkAAAAVAAAACEAAABNAAAAIQAAAC0AAAASAAAARgAAADAAAAAeAAAAIwAAAD4AAAAlAAAAGgAAAB0AAAAxAAAAOAAAACIAAAAhAAAAOgAAACkAAAAeAAAAHgAAAC8AAAAiAAAAEgAAADAAAAA/AAAAHwAAACcAAAAcAAAAMgAAAC0AAAAeAAAAIQAAAEgAAAAiAAAAEgAAACEAAAA7AAAANAAAACEAAAAzAAAAQgAAACMAAAAfAAAAFAAAAEUAAAAqAAAAJgAAABsAAAA2AAAAIQAAABIAAAAfAAAATQAAACEAAAAmAAAAEgAAAEsAAAAhAAAAJQAAABIAAAA4AAAALwAAABoAAAAdAAAAOQAAACEAAAAlAAAAEgAAAEgAAAA4AAAAGwAAAB8AAAA1AAAAKAAAABkAAAAcAAAANQAAACkAAAAZAAAAHQAAADUAAAAgAAAAJQAAABIAAAAzAAAAJQAAASoAAAAUc3RjbwAAAAAAAAABAAAAMAAAAGJ1ZHRhAAAAWm1ldGEAAAAAAAAAIWhkbHIAAAAAAAAAAG1kaXJhcHBsAAAAAAAAAAAAAAAALWlsc3QAAAAlqXRvbwAAAB1kYXRhAAAAAQAAAABMYXZmNTguMjkuMTAw\"></video>"
      ],
      "text/plain": [
       "<IPython.core.display.HTML object>"
      ]
     },
     "execution_count": 58,
     "metadata": {},
     "output_type": "execute_result"
    }
   ],
   "source": [
    "from IPython.display import HTML # IPython 디스플레이에서 HTML 가져오기\n",
    "from base64 import b64encode # base64에서 b64encode 가져오기\n",
    "\n",
    "def show_video(video_path, video_width = 320): # 비디오 표시 함수\n",
    "  video_file = open(video_path, \"r+b\").read() # 비디오 파일 열기\n",
    "  video_url = f\"data:video/mp4;base64,{b64encode(video_file).decode()}\" # 비디오 URL 설정\n",
    "  return HTML(f\"\"\"<video width={video_width} controls><source src=\"{video_url}\"></video>\"\"\") # HTML 반환\n",
    "\n",
    "show_video('./gym-results/' + res_prefix + '-episode-0.mp4') # 비디오 표시"
   ]
  },
  {
   "cell_type": "markdown",
   "metadata": {
    "id": "7pywcSDydz1P"
   },
   "source": [
    "(c) 2024 SW Lee"
   ]
  }
 ],
 "metadata": {
  "accelerator": "GPU",
  "colab": {
   "gpuType": "T4",
   "provenance": []
  },
  "kernelspec": {
   "display_name": "Python 3",
   "name": "python3"
  },
  "language_info": {
   "codemirror_mode": {
    "name": "ipython",
    "version": 3
   },
   "file_extension": ".py",
   "mimetype": "text/x-python",
   "name": "python",
   "nbconvert_exporter": "python",
   "pygments_lexer": "ipython3",
   "version": "3.9.16"
  },
  "orig_nbformat": 4,
  "vscode": {
   "interpreter": {
    "hash": "71930d9c743a2c2f7d41567bb1e631f1d30be1b0f7ff3429fb86acce8edbed56"
   }
  },
  "widgets": {
   "application/vnd.jupyter.widget-state+json": {
    "1d120d55e7284eacbbb50855ee52cde9": {
     "model_module": "@jupyter-widgets/controls",
     "model_module_version": "1.5.0",
     "model_name": "HTMLModel",
     "state": {
      "_dom_classes": [],
      "_model_module": "@jupyter-widgets/controls",
      "_model_module_version": "1.5.0",
      "_model_name": "HTMLModel",
      "_view_count": null,
      "_view_module": "@jupyter-widgets/controls",
      "_view_module_version": "1.5.0",
      "_view_name": "HTMLView",
      "description": "",
      "description_tooltip": null,
      "layout": "IPY_MODEL_8ff86e6460814d6fac5f6733597c8b66",
      "placeholder": "​",
      "style": "IPY_MODEL_a3940ead8a9c45779e89d1b46bf75e47",
      "value": " 20/20 [00:35&lt;00:00,  1.85s/it]"
     }
    },
    "1e55aeb9030d4b019d5d29ebd8f533bd": {
     "model_module": "@jupyter-widgets/controls",
     "model_module_version": "1.5.0",
     "model_name": "ProgressStyleModel",
     "state": {
      "_model_module": "@jupyter-widgets/controls",
      "_model_module_version": "1.5.0",
      "_model_name": "ProgressStyleModel",
      "_view_count": null,
      "_view_module": "@jupyter-widgets/base",
      "_view_module_version": "1.2.0",
      "_view_name": "StyleView",
      "bar_color": null,
      "description_width": ""
     }
    },
    "247e491413ac47fa9f5d3dcb07ca45ae": {
     "model_module": "@jupyter-widgets/controls",
     "model_module_version": "1.5.0",
     "model_name": "HBoxModel",
     "state": {
      "_dom_classes": [],
      "_model_module": "@jupyter-widgets/controls",
      "_model_module_version": "1.5.0",
      "_model_name": "HBoxModel",
      "_view_count": null,
      "_view_module": "@jupyter-widgets/controls",
      "_view_module_version": "1.5.0",
      "_view_name": "HBoxView",
      "box_style": "",
      "children": [
       "IPY_MODEL_3ce44cdec0ca44f58795311b78e012de",
       "IPY_MODEL_2aa520c1816d45108e195a09e3b7e248",
       "IPY_MODEL_9ab8126ae91d4c14a0bdd4f0dfdf056b"
      ],
      "layout": "IPY_MODEL_a155dc030adc409b8fdc60a51231297b"
     }
    },
    "2aa520c1816d45108e195a09e3b7e248": {
     "model_module": "@jupyter-widgets/controls",
     "model_module_version": "1.5.0",
     "model_name": "FloatProgressModel",
     "state": {
      "_dom_classes": [],
      "_model_module": "@jupyter-widgets/controls",
      "_model_module_version": "1.5.0",
      "_model_name": "FloatProgressModel",
      "_view_count": null,
      "_view_module": "@jupyter-widgets/controls",
      "_view_module_version": "1.5.0",
      "_view_name": "ProgressView",
      "bar_style": "danger",
      "description": "",
      "description_tooltip": null,
      "layout": "IPY_MODEL_52727c579cb341feacd988b45f4e55ba",
      "max": 200000,
      "min": 0,
      "orientation": "horizontal",
      "style": "IPY_MODEL_1e55aeb9030d4b019d5d29ebd8f533bd",
      "value": 8706
     }
    },
    "2fc6c103eb974536a13a893d50d81113": {
     "model_module": "@jupyter-widgets/controls",
     "model_module_version": "1.5.0",
     "model_name": "DescriptionStyleModel",
     "state": {
      "_model_module": "@jupyter-widgets/controls",
      "_model_module_version": "1.5.0",
      "_model_name": "DescriptionStyleModel",
      "_view_count": null,
      "_view_module": "@jupyter-widgets/base",
      "_view_module_version": "1.2.0",
      "_view_name": "StyleView",
      "description_width": ""
     }
    },
    "3b6b104ec54d4cfdb96805c64f6be7cd": {
     "model_module": "@jupyter-widgets/base",
     "model_module_version": "1.2.0",
     "model_name": "LayoutModel",
     "state": {
      "_model_module": "@jupyter-widgets/base",
      "_model_module_version": "1.2.0",
      "_model_name": "LayoutModel",
      "_view_count": null,
      "_view_module": "@jupyter-widgets/base",
      "_view_module_version": "1.2.0",
      "_view_name": "LayoutView",
      "align_content": null,
      "align_items": null,
      "align_self": null,
      "border": null,
      "bottom": null,
      "display": null,
      "flex": null,
      "flex_flow": null,
      "grid_area": null,
      "grid_auto_columns": null,
      "grid_auto_flow": null,
      "grid_auto_rows": null,
      "grid_column": null,
      "grid_gap": null,
      "grid_row": null,
      "grid_template_areas": null,
      "grid_template_columns": null,
      "grid_template_rows": null,
      "height": null,
      "justify_content": null,
      "justify_items": null,
      "left": null,
      "margin": null,
      "max_height": null,
      "max_width": null,
      "min_height": null,
      "min_width": null,
      "object_fit": null,
      "object_position": null,
      "order": null,
      "overflow": null,
      "overflow_x": null,
      "overflow_y": null,
      "padding": null,
      "right": null,
      "top": null,
      "visibility": null,
      "width": null
     }
    },
    "3ce44cdec0ca44f58795311b78e012de": {
     "model_module": "@jupyter-widgets/controls",
     "model_module_version": "1.5.0",
     "model_name": "HTMLModel",
     "state": {
      "_dom_classes": [],
      "_model_module": "@jupyter-widgets/controls",
      "_model_module_version": "1.5.0",
      "_model_name": "HTMLModel",
      "_view_count": null,
      "_view_module": "@jupyter-widgets/controls",
      "_view_module_version": "1.5.0",
      "_view_name": "HTMLView",
      "description": "",
      "description_tooltip": null,
      "layout": "IPY_MODEL_97cc2c0d7cae4ad399fba0fedea6a3a8",
      "placeholder": "​",
      "style": "IPY_MODEL_c122e3aea9774992bdfb216659668f74",
      "value": ""
     }
    },
    "52727c579cb341feacd988b45f4e55ba": {
     "model_module": "@jupyter-widgets/base",
     "model_module_version": "1.2.0",
     "model_name": "LayoutModel",
     "state": {
      "_model_module": "@jupyter-widgets/base",
      "_model_module_version": "1.2.0",
      "_model_name": "LayoutModel",
      "_view_count": null,
      "_view_module": "@jupyter-widgets/base",
      "_view_module_version": "1.2.0",
      "_view_name": "LayoutView",
      "align_content": null,
      "align_items": null,
      "align_self": null,
      "border": null,
      "bottom": null,
      "display": null,
      "flex": null,
      "flex_flow": null,
      "grid_area": null,
      "grid_auto_columns": null,
      "grid_auto_flow": null,
      "grid_auto_rows": null,
      "grid_column": null,
      "grid_gap": null,
      "grid_row": null,
      "grid_template_areas": null,
      "grid_template_columns": null,
      "grid_template_rows": null,
      "height": null,
      "justify_content": null,
      "justify_items": null,
      "left": null,
      "margin": null,
      "max_height": null,
      "max_width": null,
      "min_height": null,
      "min_width": null,
      "object_fit": null,
      "object_position": null,
      "order": null,
      "overflow": null,
      "overflow_x": null,
      "overflow_y": null,
      "padding": null,
      "right": null,
      "top": null,
      "visibility": null,
      "width": null
     }
    },
    "5dfb6722814b42f5a4eb4aa6c8017da3": {
     "model_module": "@jupyter-widgets/controls",
     "model_module_version": "1.5.0",
     "model_name": "HTMLModel",
     "state": {
      "_dom_classes": [],
      "_model_module": "@jupyter-widgets/controls",
      "_model_module_version": "1.5.0",
      "_model_name": "HTMLModel",
      "_view_count": null,
      "_view_module": "@jupyter-widgets/controls",
      "_view_module_version": "1.5.0",
      "_view_name": "HTMLView",
      "description": "",
      "description_tooltip": null,
      "layout": "IPY_MODEL_abe1b1a393734015b7396a639094bc18",
      "placeholder": "​",
      "style": "IPY_MODEL_aa2f01988e424c5a8841ab41aa23c043",
      "value": "100%"
     }
    },
    "6fb86122db164bd88df0f960debdc331": {
     "model_module": "@jupyter-widgets/controls",
     "model_module_version": "1.5.0",
     "model_name": "ProgressStyleModel",
     "state": {
      "_model_module": "@jupyter-widgets/controls",
      "_model_module_version": "1.5.0",
      "_model_name": "ProgressStyleModel",
      "_view_count": null,
      "_view_module": "@jupyter-widgets/base",
      "_view_module_version": "1.2.0",
      "_view_name": "StyleView",
      "bar_color": null,
      "description_width": ""
     }
    },
    "8255c25f17de484aaa273896d19d8778": {
     "model_module": "@jupyter-widgets/controls",
     "model_module_version": "1.5.0",
     "model_name": "FloatProgressModel",
     "state": {
      "_dom_classes": [],
      "_model_module": "@jupyter-widgets/controls",
      "_model_module_version": "1.5.0",
      "_model_name": "FloatProgressModel",
      "_view_count": null,
      "_view_module": "@jupyter-widgets/controls",
      "_view_module_version": "1.5.0",
      "_view_name": "ProgressView",
      "bar_style": "success",
      "description": "",
      "description_tooltip": null,
      "layout": "IPY_MODEL_3b6b104ec54d4cfdb96805c64f6be7cd",
      "max": 20,
      "min": 0,
      "orientation": "horizontal",
      "style": "IPY_MODEL_6fb86122db164bd88df0f960debdc331",
      "value": 20
     }
    },
    "828cd3cfee444b0799fbad64b59c69ee": {
     "model_module": "@jupyter-widgets/base",
     "model_module_version": "1.2.0",
     "model_name": "LayoutModel",
     "state": {
      "_model_module": "@jupyter-widgets/base",
      "_model_module_version": "1.2.0",
      "_model_name": "LayoutModel",
      "_view_count": null,
      "_view_module": "@jupyter-widgets/base",
      "_view_module_version": "1.2.0",
      "_view_name": "LayoutView",
      "align_content": null,
      "align_items": null,
      "align_self": null,
      "border": null,
      "bottom": null,
      "display": null,
      "flex": null,
      "flex_flow": null,
      "grid_area": null,
      "grid_auto_columns": null,
      "grid_auto_flow": null,
      "grid_auto_rows": null,
      "grid_column": null,
      "grid_gap": null,
      "grid_row": null,
      "grid_template_areas": null,
      "grid_template_columns": null,
      "grid_template_rows": null,
      "height": null,
      "justify_content": null,
      "justify_items": null,
      "left": null,
      "margin": null,
      "max_height": null,
      "max_width": null,
      "min_height": null,
      "min_width": null,
      "object_fit": null,
      "object_position": null,
      "order": null,
      "overflow": null,
      "overflow_x": null,
      "overflow_y": null,
      "padding": null,
      "right": null,
      "top": null,
      "visibility": null,
      "width": null
     }
    },
    "8ff86e6460814d6fac5f6733597c8b66": {
     "model_module": "@jupyter-widgets/base",
     "model_module_version": "1.2.0",
     "model_name": "LayoutModel",
     "state": {
      "_model_module": "@jupyter-widgets/base",
      "_model_module_version": "1.2.0",
      "_model_name": "LayoutModel",
      "_view_count": null,
      "_view_module": "@jupyter-widgets/base",
      "_view_module_version": "1.2.0",
      "_view_name": "LayoutView",
      "align_content": null,
      "align_items": null,
      "align_self": null,
      "border": null,
      "bottom": null,
      "display": null,
      "flex": null,
      "flex_flow": null,
      "grid_area": null,
      "grid_auto_columns": null,
      "grid_auto_flow": null,
      "grid_auto_rows": null,
      "grid_column": null,
      "grid_gap": null,
      "grid_row": null,
      "grid_template_areas": null,
      "grid_template_columns": null,
      "grid_template_rows": null,
      "height": null,
      "justify_content": null,
      "justify_items": null,
      "left": null,
      "margin": null,
      "max_height": null,
      "max_width": null,
      "min_height": null,
      "min_width": null,
      "object_fit": null,
      "object_position": null,
      "order": null,
      "overflow": null,
      "overflow_x": null,
      "overflow_y": null,
      "padding": null,
      "right": null,
      "top": null,
      "visibility": null,
      "width": null
     }
    },
    "97cc2c0d7cae4ad399fba0fedea6a3a8": {
     "model_module": "@jupyter-widgets/base",
     "model_module_version": "1.2.0",
     "model_name": "LayoutModel",
     "state": {
      "_model_module": "@jupyter-widgets/base",
      "_model_module_version": "1.2.0",
      "_model_name": "LayoutModel",
      "_view_count": null,
      "_view_module": "@jupyter-widgets/base",
      "_view_module_version": "1.2.0",
      "_view_name": "LayoutView",
      "align_content": null,
      "align_items": null,
      "align_self": null,
      "border": null,
      "bottom": null,
      "display": null,
      "flex": null,
      "flex_flow": null,
      "grid_area": null,
      "grid_auto_columns": null,
      "grid_auto_flow": null,
      "grid_auto_rows": null,
      "grid_column": null,
      "grid_gap": null,
      "grid_row": null,
      "grid_template_areas": null,
      "grid_template_columns": null,
      "grid_template_rows": null,
      "height": null,
      "justify_content": null,
      "justify_items": null,
      "left": null,
      "margin": null,
      "max_height": null,
      "max_width": null,
      "min_height": null,
      "min_width": null,
      "object_fit": null,
      "object_position": null,
      "order": null,
      "overflow": null,
      "overflow_x": null,
      "overflow_y": null,
      "padding": null,
      "right": null,
      "top": null,
      "visibility": null,
      "width": null
     }
    },
    "9ab8126ae91d4c14a0bdd4f0dfdf056b": {
     "model_module": "@jupyter-widgets/controls",
     "model_module_version": "1.5.0",
     "model_name": "HTMLModel",
     "state": {
      "_dom_classes": [],
      "_model_module": "@jupyter-widgets/controls",
      "_model_module_version": "1.5.0",
      "_model_name": "HTMLModel",
      "_view_count": null,
      "_view_module": "@jupyter-widgets/controls",
      "_view_module_version": "1.5.0",
      "_view_name": "HTMLView",
      "description": "",
      "description_tooltip": null,
      "layout": "IPY_MODEL_828cd3cfee444b0799fbad64b59c69ee",
      "placeholder": "​",
      "style": "IPY_MODEL_2fc6c103eb974536a13a893d50d81113",
      "value": "  4%|▍         | 8706/200000 [13:32&lt;4:30:50, 11.77it/s, episode=134, loss=24.8, reward=500, steps=0]"
     }
    },
    "a155dc030adc409b8fdc60a51231297b": {
     "model_module": "@jupyter-widgets/base",
     "model_module_version": "1.2.0",
     "model_name": "LayoutModel",
     "state": {
      "_model_module": "@jupyter-widgets/base",
      "_model_module_version": "1.2.0",
      "_model_name": "LayoutModel",
      "_view_count": null,
      "_view_module": "@jupyter-widgets/base",
      "_view_module_version": "1.2.0",
      "_view_name": "LayoutView",
      "align_content": null,
      "align_items": null,
      "align_self": null,
      "border": null,
      "bottom": null,
      "display": null,
      "flex": null,
      "flex_flow": null,
      "grid_area": null,
      "grid_auto_columns": null,
      "grid_auto_flow": null,
      "grid_auto_rows": null,
      "grid_column": null,
      "grid_gap": null,
      "grid_row": null,
      "grid_template_areas": null,
      "grid_template_columns": null,
      "grid_template_rows": null,
      "height": null,
      "justify_content": null,
      "justify_items": null,
      "left": null,
      "margin": null,
      "max_height": null,
      "max_width": null,
      "min_height": null,
      "min_width": null,
      "object_fit": null,
      "object_position": null,
      "order": null,
      "overflow": null,
      "overflow_x": null,
      "overflow_y": null,
      "padding": null,
      "right": null,
      "top": null,
      "visibility": null,
      "width": null
     }
    },
    "a3940ead8a9c45779e89d1b46bf75e47": {
     "model_module": "@jupyter-widgets/controls",
     "model_module_version": "1.5.0",
     "model_name": "DescriptionStyleModel",
     "state": {
      "_model_module": "@jupyter-widgets/controls",
      "_model_module_version": "1.5.0",
      "_model_name": "DescriptionStyleModel",
      "_view_count": null,
      "_view_module": "@jupyter-widgets/base",
      "_view_module_version": "1.2.0",
      "_view_name": "StyleView",
      "description_width": ""
     }
    },
    "aa2f01988e424c5a8841ab41aa23c043": {
     "model_module": "@jupyter-widgets/controls",
     "model_module_version": "1.5.0",
     "model_name": "DescriptionStyleModel",
     "state": {
      "_model_module": "@jupyter-widgets/controls",
      "_model_module_version": "1.5.0",
      "_model_name": "DescriptionStyleModel",
      "_view_count": null,
      "_view_module": "@jupyter-widgets/base",
      "_view_module_version": "1.2.0",
      "_view_name": "StyleView",
      "description_width": ""
     }
    },
    "abe1b1a393734015b7396a639094bc18": {
     "model_module": "@jupyter-widgets/base",
     "model_module_version": "1.2.0",
     "model_name": "LayoutModel",
     "state": {
      "_model_module": "@jupyter-widgets/base",
      "_model_module_version": "1.2.0",
      "_model_name": "LayoutModel",
      "_view_count": null,
      "_view_module": "@jupyter-widgets/base",
      "_view_module_version": "1.2.0",
      "_view_name": "LayoutView",
      "align_content": null,
      "align_items": null,
      "align_self": null,
      "border": null,
      "bottom": null,
      "display": null,
      "flex": null,
      "flex_flow": null,
      "grid_area": null,
      "grid_auto_columns": null,
      "grid_auto_flow": null,
      "grid_auto_rows": null,
      "grid_column": null,
      "grid_gap": null,
      "grid_row": null,
      "grid_template_areas": null,
      "grid_template_columns": null,
      "grid_template_rows": null,
      "height": null,
      "justify_content": null,
      "justify_items": null,
      "left": null,
      "margin": null,
      "max_height": null,
      "max_width": null,
      "min_height": null,
      "min_width": null,
      "object_fit": null,
      "object_position": null,
      "order": null,
      "overflow": null,
      "overflow_x": null,
      "overflow_y": null,
      "padding": null,
      "right": null,
      "top": null,
      "visibility": null,
      "width": null
     }
    },
    "c122e3aea9774992bdfb216659668f74": {
     "model_module": "@jupyter-widgets/controls",
     "model_module_version": "1.5.0",
     "model_name": "DescriptionStyleModel",
     "state": {
      "_model_module": "@jupyter-widgets/controls",
      "_model_module_version": "1.5.0",
      "_model_name": "DescriptionStyleModel",
      "_view_count": null,
      "_view_module": "@jupyter-widgets/base",
      "_view_module_version": "1.2.0",
      "_view_name": "StyleView",
      "description_width": ""
     }
    },
    "f41cfee104f843dcabf7a9a8fad78fdd": {
     "model_module": "@jupyter-widgets/base",
     "model_module_version": "1.2.0",
     "model_name": "LayoutModel",
     "state": {
      "_model_module": "@jupyter-widgets/base",
      "_model_module_version": "1.2.0",
      "_model_name": "LayoutModel",
      "_view_count": null,
      "_view_module": "@jupyter-widgets/base",
      "_view_module_version": "1.2.0",
      "_view_name": "LayoutView",
      "align_content": null,
      "align_items": null,
      "align_self": null,
      "border": null,
      "bottom": null,
      "display": null,
      "flex": null,
      "flex_flow": null,
      "grid_area": null,
      "grid_auto_columns": null,
      "grid_auto_flow": null,
      "grid_auto_rows": null,
      "grid_column": null,
      "grid_gap": null,
      "grid_row": null,
      "grid_template_areas": null,
      "grid_template_columns": null,
      "grid_template_rows": null,
      "height": null,
      "justify_content": null,
      "justify_items": null,
      "left": null,
      "margin": null,
      "max_height": null,
      "max_width": null,
      "min_height": null,
      "min_width": null,
      "object_fit": null,
      "object_position": null,
      "order": null,
      "overflow": null,
      "overflow_x": null,
      "overflow_y": null,
      "padding": null,
      "right": null,
      "top": null,
      "visibility": null,
      "width": null
     }
    },
    "febb8684699348de9699a932677e89d0": {
     "model_module": "@jupyter-widgets/controls",
     "model_module_version": "1.5.0",
     "model_name": "HBoxModel",
     "state": {
      "_dom_classes": [],
      "_model_module": "@jupyter-widgets/controls",
      "_model_module_version": "1.5.0",
      "_model_name": "HBoxModel",
      "_view_count": null,
      "_view_module": "@jupyter-widgets/controls",
      "_view_module_version": "1.5.0",
      "_view_name": "HBoxView",
      "box_style": "",
      "children": [
       "IPY_MODEL_5dfb6722814b42f5a4eb4aa6c8017da3",
       "IPY_MODEL_8255c25f17de484aaa273896d19d8778",
       "IPY_MODEL_1d120d55e7284eacbbb50855ee52cde9"
      ],
      "layout": "IPY_MODEL_f41cfee104f843dcabf7a9a8fad78fdd"
     }
    }
   }
  }
 },
 "nbformat": 4,
 "nbformat_minor": 0
}
