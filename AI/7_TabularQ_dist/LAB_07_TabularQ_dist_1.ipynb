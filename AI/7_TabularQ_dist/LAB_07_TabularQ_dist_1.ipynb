{
 "cells": [
  {
   "cell_type": "markdown",
   "metadata": {
    "id": "KgZcH2gbZQn9"
   },
   "source": [
    "AI Programming - SW Lee"
   ]
  },
  {
   "cell_type": "markdown",
   "metadata": {
    "id": "3m-CUffwbJky"
   },
   "source": []
  },
  {
   "cell_type": "markdown",
   "metadata": {
    "id": "NcejT59TZQn_"
   },
   "source": [
    "# Lab 07: Tabular Q Learning\n",
    "## Exercise: Frozen Lake, Taxi"
   ]
  },
  {
   "cell_type": "markdown",
   "metadata": {
    "id": "UbDyVOIeZQoA"
   },
   "source": [
    "### Prepare Library Packages"
   ]
  },
  {
   "cell_type": "code",
   "execution_count": null,
   "metadata": {
    "colab": {
     "base_uri": "https://localhost:8080/"
    },
    "id": "P49m4JqBZQoA",
    "outputId": "b418df7c-1f4d-4dd6-ea3b-4a64ba21d6d9"
   },
   "outputs": [
    {
     "name": "stdout",
     "output_type": "stream",
     "text": [
      "Requirement already satisfied: gymnasium in /usr/local/lib/python3.10/dist-packages (1.0.0)\n",
      "Requirement already satisfied: numpy>=1.21.0 in /usr/local/lib/python3.10/dist-packages (from gymnasium) (1.26.4)\n",
      "Requirement already satisfied: cloudpickle>=1.2.0 in /usr/local/lib/python3.10/dist-packages (from gymnasium) (3.1.0)\n",
      "Requirement already satisfied: typing-extensions>=4.3.0 in /usr/local/lib/python3.10/dist-packages (from gymnasium) (4.12.2)\n",
      "Requirement already satisfied: farama-notifications>=0.0.1 in /usr/local/lib/python3.10/dist-packages (from gymnasium) (0.0.4)\n"
     ]
    }
   ],
   "source": [
    "# Check if this code runs in Colab\n",
    "RunningInCOLAB = 'google.colab' in str(get_ipython()) # Colab에서 실행중인지 확인\n",
    "\n",
    "if RunningInCOLAB: # Colab에서 실행중이라면\n",
    "    !pip install gymnasium # gymnasium 설치\n",
    "    from tqdm.notebook import tqdm # Colab에서는 tqdm.notebook을 사용 \n",
    "else:\n",
    "    from tqdm import tqdm # 로컬 환경에서는 tqdm을 사용"
   ]
  },
  {
   "cell_type": "code",
   "execution_count": null,
   "metadata": {
    "id": "cCxMbYiRZQoC"
   },
   "outputs": [],
   "source": [
    "import numpy as np # numpy 라이브러리 임포트\n",
    "import matplotlib.pyplot as plt # matplotlib 라이브러리 임포트\n",
    "import gymnasium as gym # gymnasium 라이브러리 임포트\n",
    "from gymnasium import wrappers # gymnasium.wrappers 라이브러리 임포트"
   ]
  },
  {
   "cell_type": "code",
   "execution_count": null,
   "metadata": {
    "colab": {
     "base_uri": "https://localhost:8080/",
     "height": 35
    },
    "id": "Z56s5HK5ZQoC",
    "outputId": "f23a6608-0954-4aa5-f15e-27604f88d2aa"
   },
   "outputs": [
    {
     "data": {
      "application/vnd.google.colaboratory.intrinsic+json": {
       "type": "string"
      },
      "text/plain": [
       "'1.0.0'"
      ]
     },
     "execution_count": 31,
     "metadata": {},
     "output_type": "execute_result"
    }
   ],
   "source": [
    "gym.__version__ # gymnasium 버전 확인"
   ]
  },
  {
   "cell_type": "markdown",
   "metadata": {
    "id": "6mlmol4iZQoE"
   },
   "source": [
    "### Select Environment"
   ]
  },
  {
   "cell_type": "markdown",
   "metadata": {
    "id": "K3gIWylYZQoE"
   },
   "source": [
    "**Frozen Lake**<br>\n",
    "https://gymnasium.farama.org/environments/toy_text/frozen_lake/\n",
    "\n",
    "\n",
    "**Taxi**<br>\n",
    "https://gymnasium.farama.org/environments/toy_text/taxi/\n",
    "\n",
    "**Blackjack**<br>\n",
    "https://gymnasium.farama.org/environments/toy_text/blackjack/"
   ]
  },
  {
   "cell_type": "code",
   "execution_count": null,
   "metadata": {
    "id": "iIh7yBNyZQoE"
   },
   "outputs": [],
   "source": [
    "# select evironment\n",
    "# Text Game:    0 for FrozenLake 4x4, 1 for Taxi, 2 for Blackjack\n",
    "\n",
    "SELECT_ENV = 1 # 환경 선택"
   ]
  },
  {
   "cell_type": "code",
   "execution_count": null,
   "metadata": {
    "id": "KcuLN8NNZQoF"
   },
   "outputs": [],
   "source": [
    "if SELECT_ENV == 0: # Frozen Lake\n",
    "    env_name, res_prefix = 'FrozenLake-v1', 'lak4' # 환경 이름과 결과 파일명 설정\n",
    "    max_episodes, max_ep_steps, goal_score = 3000, 500, 0.8 # 최대 에피소드 수, 최대 에피소드 단계 수, 목표 점수 설정\n",
    "    val_ep_num, lr_rate, discount_rate = 20, 0.8, 0.95 # 검증 에피소드 수, 학습률, 할인율 설정 \n",
    "elif SELECT_ENV == 1: # Taxi\n",
    "    env_name, res_prefix = 'Taxi-v3', 'taxi' # 환경 이름과 결과 파일명 설정\n",
    "    max_episodes, max_ep_steps, goal_score = 1000, 500, 8.0 # 최대 에피소드 수, 최대 에피소드 단계 수, 목표 점수 설정\n",
    "    val_ep_num, lr_rate, discount_rate = 20, 0.8, 0.95 # 검증 에피소드 수, 학습률, 할인율 설정\n",
    "elif SELECT_ENV == 2: # Blackjack\n",
    "    env_name, res_prefix = 'Blackjack-v1', 'blkj' # 환경 이름과 결과 파일명 설정\n",
    "    max_episodes, max_ep_steps, goal_score = 5000, 10, -0.05 # 최대 에피소드 수, 최대 에피소드 단계 수, 목표 점수 설정\n",
    "    val_ep_num, lr_rate, discount_rate = 1000, 0.1, 0.95 # 검증 에피소드 수, 학습률, 할인율 설정\n",
    "else: assert False, 'environment selection error' # 환경 선택 오류\n",
    "\n",
    "def create_env(): # 환경 생성 함수\n",
    "    if   SELECT_ENV == 0: # Forzen Lake\n",
    "        env = gym.make(env_name, desc=None, map_name='4x4', is_slippery=True, render_mode='rgb_array') # 환경 생성\n",
    "    elif   SELECT_ENV == 1: # Taxi \n",
    "        env = gym.make(env_name, render_mode='rgb_array') # 환경 생성\n",
    "    elif   SELECT_ENV == 2: # Blackjack \n",
    "        env = gym.make(env_name, natural=False, sab=False, render_mode='rgb_array') # 환경 생성\n",
    "    else: pass # 환경 선택 오류\n",
    "    return env # 환경 반환"
   ]
  },
  {
   "cell_type": "code",
   "execution_count": null,
   "metadata": {
    "id": "Hvp0RVmFZQoF"
   },
   "outputs": [],
   "source": [
    "def env_reset(env): # 환경 초기화 함수\n",
    "    observation = env.reset() # 환경 초기화\n",
    "    obs = observation[0] if type(observation)==tuple else observation # 관찰값 설정\n",
    "    if SELECT_ENV == 2: # Blackjack\n",
    "        state = obs[0] + 32 * obs[2] + 64 * obs[1] # 상태 설정\n",
    "    else: state = obs # 상태 설정\n",
    "    return state # 상태 반환\n",
    "\n",
    "def env_step(env, action): # 환경 단계 함수\n",
    "    observation = env.step(action) # 환경 단계\n",
    "    if SELECT_ENV == 2: # Blackjack\n",
    "        state = observation[0][0] + 32 * observation[0][2] + 64 * observation[0][1] # 상태 설정\n",
    "    else: state = observation[0] # 상태 설정\n",
    "    reward = observation[1] # 보상 설정\n",
    "    done = observation[2] or observation[3] if len(observation)>4 else observation[2] # 종료 여부 설정 \n",
    "    return state, reward, done # 상태, 보상, 종료 여부 반환"
   ]
  },
  {
   "cell_type": "code",
   "execution_count": null,
   "metadata": {
    "id": "OJTqT4eyZQoG"
   },
   "outputs": [],
   "source": [
    "env = create_env() # 환경 생성\n",
    "state = env_reset(env) # 환경 초기화\n",
    "state, reward, done = env_step(env, env.action_space.sample()) # 환경 단계"
   ]
  },
  {
   "cell_type": "markdown",
   "metadata": {
    "id": "eMox6GD0ZQoG"
   },
   "source": [
    "### Check and Show Environment Variables"
   ]
  },
  {
   "cell_type": "code",
   "execution_count": null,
   "metadata": {
    "id": "O4UQpmZ2ZQoG"
   },
   "outputs": [],
   "source": [
    "action_shape = env.action_space.shape # 행동 공간 모양 설정\n",
    "action_space_type = type(env.action_space) # 행동 공간 타입 설정\n",
    "\n",
    "if action_space_type==gym.spaces.discrete.Discrete: # 행동 공간 타입이 이산형일 경우\n",
    "    actn_space = 'DISCRETE' # 행동 공간 설정\n",
    "    action_shape = (1,) # 행동 모양 설정\n",
    "    action_dims = 1 # 행동 차원 설정\n",
    "    action_range = env.action_space.n # 행동 범위 설정\n",
    "    num_actions = action_range  # number of actions is action range for DISCRETE actions\n",
    "    action_batch_shape = (None, action_range) # 행동 배치 모양 설정\n",
    "elif action_space_type==gym.spaces.box.Box: # 행동 공간 타입이 상자형일 경우\n",
    "    actn_space = 'CONTINUOUS' # 행동 공간 설정\n",
    "    action_dims = action_shape[0] # 행동 차원 설정\n",
    "    actn_uppr_bound = env.action_space.high[0] # 행동 상한 설정 \n",
    "    actn_lowr_bound = env.action_space.low[0] # 행동 하한 설정\n",
    "    action_range = (actn_uppr_bound - actn_lowr_bound) # x0.5 for tanh output\n",
    "    action_batch_shape = tuple([None]+[x for x in action_shape]) # 행동 배치 모양 설정\n",
    "    num_actions = action_dims   # number of actions is action dimension for CONTINUOUS actions\n",
    "else: assert False, 'other action space type are not supported'\n",
    "\n",
    "observation_space_type = type(env.observation_space) # 관찰 공간 타입 설정\n",
    "observation_shape = env.observation_space.shape # 관찰 공간 모양 설정\n",
    "\n",
    "if observation_space_type==gym.spaces.discrete.Discrete: # 관찰 공간 타입이 이산형일 경우\n",
    "    observation_shape = (1,) # 관찰 공간 모양 설정\n",
    "    num_states = env.observation_space.n # 상태 수 설정\n",
    "elif observation_space_type==gym.spaces.box.Box: # 관찰 공간 타입이 상자형일 경우\n",
    "    num_states = observation_shape[0] # 상태 수 설정 \n",
    "elif observation_space_type==gym.spaces.tuple.Tuple: # 관찰 공간 타입이 튜플형일 경우\n",
    "    observation_shape = tuple([x.n for x in env.observation_space]) # 관찰 공간 모양 설정 \n",
    "    num_states = np.prod(observation_shape) # 상태 수 설정 \n",
    "else: print('observation space type error') # 관찰 공간 타입 오류\n",
    "\n",
    "if SELECT_ENV == 2: # Blackjack\n",
    "    state_shape = (1,) # 상태 모양 설정 \n",
    "    state_batch_shape = (None,1) # 상태 배치 모양 설정\n",
    "else:\n",
    "    state_shape = observation_shape # 상태 모양 설정\n",
    "    state_batch_shape = tuple([None]+[x for x in observation_shape]) # 상태 배치 모양 설정\n",
    "\n",
    "value_shape = (1,) # 가치 모양 설정\n",
    "num_values = 1 # 가치 수 설정"
   ]
  },
  {
   "cell_type": "code",
   "execution_count": null,
   "metadata": {
    "colab": {
     "base_uri": "https://localhost:8080/"
    },
    "id": "wN-kPOC_ZQoH",
    "outputId": "f449e54e-5fc4-43ae-903d-d5d7ec64e62c"
   },
   "outputs": [
    {
     "name": "stdout",
     "output_type": "stream",
     "text": [
      "Action space  <class 'gymnasium.spaces.discrete.Discrete'>\n",
      "Action shape  (1,)\n",
      "Action dimensions  1\n",
      "Action range  6\n",
      "Action batch shape  (None, 6)\n",
      "Observation space  <class 'gymnasium.spaces.discrete.Discrete'>\n",
      "Observation shape  (1,)\n",
      "Size of State Space  500\n",
      "State shape  (1,)\n",
      "State batch shape  (None, 1)\n",
      "Vallue shape  (1,)\n",
      "Value dimensions  1\n"
     ]
    }
   ],
   "source": [
    "print('Action space ', action_space_type) # 행동 공간 출력\n",
    "print('Action shape ', action_shape) # 행동 모양 출력\n",
    "print('Action dimensions ', action_dims) # 행동 차원 출력\n",
    "print('Action range ', action_range) # 행동 범위 출력\n",
    "if action_space_type==gym.spaces.box.Box: # 행동 공간 타입이 상자형일 경우\n",
    "    print('Max Value of Action ', actn_uppr_bound) # 행동 상한 출력\n",
    "    print('Min Value of Action ', actn_lowr_bound) # 행동 하한 출력\n",
    "else: pass # 그 외의 경우\n",
    "print('Action batch shape ', action_batch_shape) # 행동 배치 모양 출력\n",
    "\n",
    "print('Observation space ', observation_space_type) # 관찰 공간 출력\n",
    "print('Observation shape ', observation_shape) # 관찰 공간 모양 출력\n",
    "print('Size of State Space ', num_states) # 상태 공간 크기 출력\n",
    "print('State shape ', state_shape) # 상태 모양 출력\n",
    "print('State batch shape ', state_batch_shape) # 상태 배치 모양 출력\n",
    "\n",
    "print('Vallue shape ', value_shape) # 가치 모양 출력\n",
    "print('Value dimensions ', num_values) # 가치 차원 출력"
   ]
  },
  {
   "cell_type": "markdown",
   "metadata": {
    "id": "d4CjRJoLZQoH"
   },
   "source": [
    "### Define and Initialize The Agent\n",
    "### **Exercise:** Define Q-table (Numpy)"
   ]
  },
  {
   "cell_type": "code",
   "execution_count": null,
   "metadata": {
    "colab": {
     "base_uri": "https://localhost:8080/"
    },
    "id": "OQ9qPHIXZQoH",
    "outputId": "568e6198-1469-47d7-a9b1-9315f62cf34d"
   },
   "outputs": [
    {
     "name": "stdout",
     "output_type": "stream",
     "text": [
      "(500, 6)\n"
     ]
    }
   ],
   "source": [
    "### START CODE HERE ###\n",
    "\n",
    "Q_table = np.zeros((num_states, action_range))  # define q-table\n",
    "\n",
    "###  END CODE HERE  ###\n",
    "\n",
    "print(Q_table.shape) # Q 테이블 모양 출력"
   ]
  },
  {
   "cell_type": "markdown",
   "metadata": {
    "id": "6JEcEMHBZQoI"
   },
   "source": [
    "### Define and Initialize Hyperparameters"
   ]
  },
  {
   "cell_type": "code",
   "execution_count": 39,
   "metadata": {
    "id": "Ma9L6lNcZQoI"
   },
   "outputs": [],
   "source": [
    "total_episodes = max_episodes   # Total episodes\n",
    "max_steps = max_ep_steps        # Max steps per episode\n",
    "learning_rate = lr_rate         # Learning rate\n",
    "gamma = discount_rate           # Discounting rate\n",
    "val_episodes = val_ep_num       # number of validation episodes\n"
   ]
  },
  {
   "cell_type": "markdown",
   "metadata": {
    "id": "xHDAjGzKZQoI"
   },
   "source": [
    "### Define Epsilon Function\n",
    "\n",
    "This is an example of exponential decay epsilon function. One of easist epsilon decay functions is simply to multiply 0.9. You can define your own epsilon function."
   ]
  },
  {
   "cell_type": "code",
   "execution_count": null,
   "metadata": {
    "id": "tdkyxg6FZQoI"
   },
   "outputs": [],
   "source": [
    "# Exploration parameters for epsilon greedy strategy\n",
    "class Epsilon: # 엡실론 클래스\n",
    "    def __init__(self, max_steps):          # initialize epsilon\n",
    "        self.explore_start = 1.0            # exploration probability at start\n",
    "        self.explore_stop = 0.01            # minimum exploration probability\n",
    "        self.decay_rate = 20.0/max_steps    # exponential decay rate for exploration prob (4.6 ~ max_step = 0.01)\n",
    "        self.steps = 0\n",
    "\n",
    "    def get_epsilon(self): # 엡실론 반환 함수\n",
    "        eps = (self.explore_stop # calculate new epsilon\n",
    "            + (self.explore_start - self.explore_stop) * np.exp(-self.decay_rate * self.steps)) # 새 엡실론 계산\n",
    "        self.steps += 1 # 엡실론 증가\n",
    "        return eps # 엡실론 반환"
   ]
  },
  {
   "cell_type": "markdown",
   "metadata": {
    "id": "21RjccLcZQoI"
   },
   "source": [
    "### Learning Procedures\n",
    "\n",
    "Q-learning is an off-policy TD control algorithm.\n",
    "\n",
    "$$ Q(s_t, a_t) \\leftarrow Q(s_t, a_t) + \\alpha (r_{t} + \\gamma \\max_{a} Q(s_{t+1},a) - Q(s_t,a_t) ) $$\n",
    "\n",
    "The target policy $\\pi$ is greedy w.r.t. $Q(s,a)$\n",
    "\n",
    "$$ \\pi (s_{t}) = \\arg \\max_{a^\\prime} Q(s_{t},a^\\prime) $$\n",
    "\n",
    "### **Exercise:** Define Training Loop and Evaluation Loop"
   ]
  },
  {
   "cell_type": "code",
   "execution_count": null,
   "metadata": {
    "id": "dIdDMLf0ZQoI"
   },
   "outputs": [],
   "source": [
    "def evaluate_policy(env, qtable, num_average, images=None): # 정책 평가 함수\n",
    "\n",
    "    total_reward = 0.0 # 총 보상 초기화\n",
    "    total_steps = 0  # 총 단계 초기화\n",
    "    episodes_to_play = num_average # 평균을 내기 위한 에피소드 수\n",
    "    for _ in range(episodes_to_play):                   # Play n episode and take the average\n",
    "        state = env_reset(env) # reset the environment\n",
    "        if images!=None: images.append(env.render()) # 환경 렌더링\n",
    "        done = False # 종료 여부 초기화\n",
    "        episode_reward = 0.0 # 에피소드 보상 초기화\n",
    "        while not done: # 종료되지 않을 때까지\n",
    "\n",
    "            ### START CODE HERE ###\n",
    "            \n",
    "            action = np.argmax(qtable[state, :])            # get an action from q-table\n",
    "            next_state, reward, done = env_step(env, action)  # take action and observe outcomes\n",
    "\n",
    "            ###  END CODE HERE  ###\n",
    "\n",
    "            if images!=None: images.append(env.render()) # 환경 렌더링\n",
    "            state = next_state                          # update state\n",
    "            episode_reward += reward # 에피소드 보상 증가\n",
    "            total_steps += 1 # 총 단계 증가 \n",
    "        total_reward += episode_reward # 총 보상 증가\n",
    "    average_reward = total_reward / episodes_to_play    # take the average reward of evaluations\n",
    "    average_steps = total_steps / episodes_to_play      # take the average steps of evaluations\n",
    "\n",
    "    return average_reward, average_steps, images # 평균 보상, 평균 단계, 이미지 반환\n"
   ]
  },
  {
   "cell_type": "code",
   "execution_count": null,
   "metadata": {
    "colab": {
     "base_uri": "https://localhost:8080/",
     "height": 67,
     "referenced_widgets": [
      "755669586ac2409c867424623180d87f",
      "b105807d8f1b4359bceb9065fbfdf627",
      "a72a5361e2bb41cf800051886407e2e3",
      "6400a7a09b1b4e8097c335f848685f4b",
      "1da90275ee6c4d109d02c015df7cb782",
      "5907a12e83004c5a8dce8c8a81d4f461",
      "c7f2bdc9eae647e0a8ac62dae1b2a076",
      "9c7d24a44f7f458fa2273ec45cb41303",
      "877c2a280bdf47bba994448515ff6c06",
      "d6a43b0f13184c7183ee1ca2d08ab35d",
      "e7b3df7322d14a8baf39682091e18a82"
     ]
    },
    "id": "CQUsWQRZZQoJ",
    "outputId": "32757721-0303-4782-ded1-e4d39801c04c"
   },
   "outputs": [
    {
     "data": {
      "application/vnd.jupyter.widget-view+json": {
       "model_id": "755669586ac2409c867424623180d87f",
       "version_major": 2,
       "version_minor": 0
      },
      "text/plain": [
       "  0%|          | 0/1000 [00:00<?, ?it/s]"
      ]
     },
     "metadata": {},
     "output_type": "display_data"
    },
    {
     "name": "stdout",
     "output_type": "stream",
     "text": [
      "episodes:  597, final_reward 9.10\n"
     ]
    }
   ],
   "source": [
    "history = {'rewards' : []}                          # logs of rewards\n",
    "epsF = Epsilon(total_episodes)                      # generate epsilon object\n",
    "\n",
    "pbar = tqdm(range(total_episodes), bar_format='{l_bar}{bar:10}{r_bar}{bar:-10b}') # 프로그레스 바 설정\n",
    "\n",
    "for episodes in pbar: # 에피소드 반복\n",
    "\n",
    "    # initialize variables for a new episode\n",
    "    epis_rewards = 0                                # episode reward\n",
    "    epis_steps = 0                                  # steps for an episode\n",
    "    done = False                                    # episode end flag\n",
    "\n",
    "    state = env_reset(env)                          # Reset the environment\n",
    "\n",
    "    epsilon = epsF.get_epsilon()                    # get new epsilon value\n",
    "\n",
    "    while not done:                                 # simulate to the terminal state of the episode\n",
    "\n",
    "        ### START CODE HERE ###\n",
    "\n",
    "        explore_probability = np.random.uniform(0, 1)    # get a random number for exploration decision\n",
    "        if explore_probability > epsilon:\n",
    "            action = np.argmax(Q_table[state, :])        # exploitation: choose the action with max Q-value\n",
    "        else:\n",
    "            action = np.random.randint(0, action_range)  # exploration: choose a random action\n",
    "\n",
    "        next_state, reward, done = env_step(env, action)  # take the action to environment and observe outcomes\n",
    "\n",
    "        # Q-learning update\n",
    "        td_target = reward + gamma * np.max(Q_table[next_state, :]) # 계산된 TD 타겟\n",
    "        Q_table[state, action] += learning_rate * (td_target - Q_table[state, action]) # Q 테이블 업데이트\n",
    "\n",
    "        ### END CODE HERE ###\n",
    "\n",
    "        epis_rewards += reward                      # accumulate rewards to calculate the episode reward\n",
    "        state = next_state                          # set state for the next state\n",
    "\n",
    "        if epis_steps > max_steps: break            # if run too much : finish episode\n",
    "        else: epis_steps += 1\n",
    "\n",
    "    # evaluate the policy\n",
    "    eval_reward, eval_steps, _ = evaluate_policy(env, Q_table, val_episodes) # evaluate the policy\n",
    "\n",
    "    history['rewards'].append(eval_reward) # 보상 기록\n",
    "\n",
    "    pbar.set_postfix({'reward':eval_reward, 'steps':eval_steps}) # 프로그레스 바 업데이트\n",
    "\n",
    "    if eval_reward>goal_score: break                # exit if convergence\n",
    "\n",
    "print('episodes:{0:5d}, final_reward {1:4.2f}'.format(episodes, eval_reward)) # 최종 보상 출력"
   ]
  },
  {
   "cell_type": "markdown",
   "metadata": {
    "id": "ObLpxeaKZQoJ"
   },
   "source": [
    "### Plot Training Histories"
   ]
  },
  {
   "cell_type": "code",
   "execution_count": null,
   "metadata": {
    "colab": {
     "base_uri": "https://localhost:8080/",
     "height": 388
    },
    "id": "0Gl6-T0eZQoJ",
    "outputId": "774b593f-431f-49bb-c953-3ffcdbd3a517"
   },
   "outputs": [
    {
     "data": {
      "image/png": "[encoded data removed]",
      "text/plain": [
       "<Figure size 500x400 with 1 Axes>"
      ]
     },
     "metadata": {},
     "output_type": "display_data"
    }
   ],
   "source": [
    "# plot loss and accuracy\n",
    "def plot_graphs(log_history, log_labels, graph_labels, graph_colors=['b-','g-']): # 그래프 플로팅 함수\n",
    "    num_graphs = len(log_labels) # 그래프 수\n",
    "    plt.figure(figsize=(5*num_graphs,4)) # 그래프 크기 설정\n",
    "    for i in range(num_graphs): # 그래프 반복\n",
    "        plt.subplot(1,num_graphs,i+1) # 서브플롯 설정\n",
    "        plt.plot(log_history[log_labels[i]], graph_colors[i], label=graph_labels[i]) # 그래프 플로팅\n",
    "        plt.xlabel('episodes') # x축 레이블 설정\n",
    "        plt.legend() # 범례 설정\n",
    "    plt.show() # 그래프\n",
    "    return\n",
    "\n",
    "log_labels    = ['rewards'] # 로그 레이블 설정\n",
    "label_strings = ['reward'] # 레이블 문자열 설정\n",
    "label_colors  = ['g-'] # 레이블 색상 설정\n",
    "plot_graphs(history, log_labels, label_strings, label_colors) # 그래프 플로팅"
   ]
  },
  {
   "cell_type": "markdown",
   "metadata": {
    "id": "2t5mGxlJZQoJ"
   },
   "source": [
    "### Evaluate the Agent\n",
    "\n",
    "Evaluate the agent here to show the performance"
   ]
  },
  {
   "cell_type": "code",
   "execution_count": null,
   "metadata": {
    "colab": {
     "base_uri": "https://localhost:8080/",
     "height": 67,
     "referenced_widgets": [
      "e8e8a0fcc0794c13b15a864d2303f892",
      "e9ebb4d78b844058890f57904f61a596",
      "5316b9e4f55940219c827c8a9c7e7e18",
      "41784fac45b44c17902c434b1fca1026",
      "533c1eb82e0d4e8da992dea85f7d476d",
      "3241ef2d74b04fdcbebacb65b7f7fe46",
      "53589ec8f47b40509c086664b3a57a96",
      "b96ae6a8d1964b6e96847823b17e9bd3",
      "357f38c3ac134f79abc05d141e5f1501",
      "f6d1661519be4b70ae82c168ed07515d",
      "b6b55dd8ff89474c99d62109f3762842"
     ]
    },
    "id": "7RXgoO_-ZQoK",
    "outputId": "2d4d5f78-5f72-4f16-aaaf-ca430eb6e527"
   },
   "outputs": [
    {
     "data": {
      "application/vnd.jupyter.widget-view+json": {
       "model_id": "e8e8a0fcc0794c13b15a864d2303f892",
       "version_major": 2,
       "version_minor": 0
      },
      "text/plain": [
       "  0%|          | 0/20 [00:00<?, ?it/s]"
      ]
     },
     "metadata": {},
     "output_type": "display_data"
    },
    {
     "name": "stdout",
     "output_type": "stream",
     "text": [
      "Evaluation Result: -22.75\n"
     ]
    }
   ],
   "source": [
    "evaluate_episodes = 20 # 평가 에피소드 수\n",
    "sum_episode_rewards = 0.0 # 총 에피소드 보상 초기화\n",
    "pbar = tqdm(range(evaluate_episodes)) # 프로그레스 바 설정\n",
    "\n",
    "for i in pbar: # 반복\n",
    "    rewards, _, _ = evaluate_policy(env, Q_table, 1) # 정책 평가\n",
    "    sum_episode_rewards += rewards # 총 에피소드 보상 증가\n",
    "\n",
    "env.close() # 환경 종료\n",
    "\n",
    "print('Evaluation Result:',  sum_episode_rewards/evaluate_episodes) # 평가 결과 출력"
   ]
  },
  {
   "cell_type": "markdown",
   "metadata": {
    "id": "fifj3d-OZQoK"
   },
   "source": [
    "## See How The Agent Works"
   ]
  },
  {
   "cell_type": "code",
   "execution_count": null,
   "metadata": {
    "colab": {
     "base_uri": "https://localhost:8080/"
    },
    "id": "75ggEz0mZQoK",
    "outputId": "a9b4a8e6-568e-40ac-e9d7-fa7a6f4d9f36"
   },
   "outputs": [
    {
     "name": "stdout",
     "output_type": "stream",
     "text": [
      "Sample Total Reward: 5.0\n"
     ]
    }
   ],
   "source": [
    "env = create_env() # 환경 생성\n",
    "\n",
    "if SELECT_ENV != 2: # Blackjack\n",
    "    env = wrappers.RecordVideo(env, video_folder='./gym-results/', name_prefix=res_prefix) # 비디오 레코딩 설정\n",
    "    eval_reward, _, _ = evaluate_policy(env, Q_table, 1) # 정책 평가\n",
    "else:\n",
    "    ims = [] # 이미지 초기화\n",
    "    eval_reward, _, ims = evaluate_policy(env, Q_table, 1, ims) # 정책 평가\n",
    "\n",
    "print('Sample Total Reward:', eval_reward) # 샘플 총 보상 출력\n",
    "\n",
    "env.close() # 환경 종료"
   ]
  },
  {
   "cell_type": "code",
   "execution_count": null,
   "metadata": {
    "colab": {
     "base_uri": "https://localhost:8080/",
     "height": 224
    },
    "id": "_tPx4WxBZQoK",
    "outputId": "435cc923-040b-43cc-feff-e3eaf56b1fce"
   },
   "outputs": [
    {
     "data": {
      "text/html": [
       "<video width=320 controls><source src=\"data:video/mp4;base64,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\"></video>"
      ],
      "text/plain": [
       "<IPython.core.display.HTML object>"
      ]
     },
     "metadata": {},
     "output_type": "display_data"
    }
   ],
   "source": [
    "from IPython.display import HTML, display # HTML, display 라이브러리 임포트\n",
    "from base64 import b64encode # b64encode 라이브러리 임포트\n",
    "\n",
    "def show_video(video_path, video_width = 320): # 비디오 표시 함수\n",
    "    video_file = open(video_path, \"r+b\").read() # 비디오 파일 읽기\n",
    "    video_url = f\"data:video/mp4;base64,{b64encode(video_file).decode()}\" # 비디오 URL 설정\n",
    "    return HTML(f\"\"\"<video width={video_width} controls><source src=\"{video_url}\"></video>\"\"\") # 비디오 출력\n",
    "\n",
    "if SELECT_ENV==2: # Blackjack\n",
    "    for i in range(len(ims)): # 이미지 반복\n",
    "        plt.figure(figsize=(3,3)) # 그림 크기 설정\n",
    "        plt.imshow(ims[i]) # 이미지 출력\n",
    "        plt.show() # 그림 출력\n",
    "else:\n",
    "    display(show_video('./gym-results/' + res_prefix + '-episode-0.mp4')) # 비디오 표시"
   ]
  },
  {
   "cell_type": "markdown",
   "metadata": {
    "id": "mVXi7vetZQoK"
   },
   "source": [
    "(c) 2024 SW Lee"
   ]
  }
 ],
 "metadata": {
  "colab": {
   "provenance": []
  },
  "kernelspec": {
   "display_name": "tf2",
   "language": "python",
   "name": "python3"
  },
  "language_info": {
   "codemirror_mode": {
    "name": "ipython",
    "version": 3
   },
   "file_extension": ".py",
   "mimetype": "text/x-python",
   "name": "python",
   "nbconvert_exporter": "python",
   "pygments_lexer": "ipython3",
   "version": "3.9.16"
  },
  "orig_nbformat": 4,
  "vscode": {
   "interpreter": {
    "hash": "71930d9c743a2c2f7d41567bb1e631f1d30be1b0f7ff3429fb86acce8edbed56"
   }
  },
  "widgets": {
   "application/vnd.jupyter.widget-state+json": {
    "1da90275ee6c4d109d02c015df7cb782": {
     "model_module": "@jupyter-widgets/base",
     "model_module_version": "1.2.0",
     "model_name": "LayoutModel",
     "state": {
      "_model_module": "@jupyter-widgets/base",
      "_model_module_version": "1.2.0",
      "_model_name": "LayoutModel",
      "_view_count": null,
      "_view_module": "@jupyter-widgets/base",
      "_view_module_version": "1.2.0",
      "_view_name": "LayoutView",
      "align_content": null,
      "align_items": null,
      "align_self": null,
      "border": null,
      "bottom": null,
      "display": null,
      "flex": null,
      "flex_flow": null,
      "grid_area": null,
      "grid_auto_columns": null,
      "grid_auto_flow": null,
      "grid_auto_rows": null,
      "grid_column": null,
      "grid_gap": null,
      "grid_row": null,
      "grid_template_areas": null,
      "grid_template_columns": null,
      "grid_template_rows": null,
      "height": null,
      "justify_content": null,
      "justify_items": null,
      "left": null,
      "margin": null,
      "max_height": null,
      "max_width": null,
      "min_height": null,
      "min_width": null,
      "object_fit": null,
      "object_position": null,
      "order": null,
      "overflow": null,
      "overflow_x": null,
      "overflow_y": null,
      "padding": null,
      "right": null,
      "top": null,
      "visibility": null,
      "width": null
     }
    },
    "3241ef2d74b04fdcbebacb65b7f7fe46": {
     "model_module": "@jupyter-widgets/base",
     "model_module_version": "1.2.0",
     "model_name": "LayoutModel",
     "state": {
      "_model_module": "@jupyter-widgets/base",
      "_model_module_version": "1.2.0",
      "_model_name": "LayoutModel",
      "_view_count": null,
      "_view_module": "@jupyter-widgets/base",
      "_view_module_version": "1.2.0",
      "_view_name": "LayoutView",
      "align_content": null,
      "align_items": null,
      "align_self": null,
      "border": null,
      "bottom": null,
      "display": null,
      "flex": null,
      "flex_flow": null,
      "grid_area": null,
      "grid_auto_columns": null,
      "grid_auto_flow": null,
      "grid_auto_rows": null,
      "grid_column": null,
      "grid_gap": null,
      "grid_row": null,
      "grid_template_areas": null,
      "grid_template_columns": null,
      "grid_template_rows": null,
      "height": null,
      "justify_content": null,
      "justify_items": null,
      "left": null,
      "margin": null,
      "max_height": null,
      "max_width": null,
      "min_height": null,
      "min_width": null,
      "object_fit": null,
      "object_position": null,
      "order": null,
      "overflow": null,
      "overflow_x": null,
      "overflow_y": null,
      "padding": null,
      "right": null,
      "top": null,
      "visibility": null,
      "width": null
     }
    },
    "357f38c3ac134f79abc05d141e5f1501": {
     "model_module": "@jupyter-widgets/controls",
     "model_module_version": "1.5.0",
     "model_name": "ProgressStyleModel",
     "state": {
      "_model_module": "@jupyter-widgets/controls",
      "_model_module_version": "1.5.0",
      "_model_name": "ProgressStyleModel",
      "_view_count": null,
      "_view_module": "@jupyter-widgets/base",
      "_view_module_version": "1.2.0",
      "_view_name": "StyleView",
      "bar_color": null,
      "description_width": ""
     }
    },
    "41784fac45b44c17902c434b1fca1026": {
     "model_module": "@jupyter-widgets/controls",
     "model_module_version": "1.5.0",
     "model_name": "HTMLModel",
     "state": {
      "_dom_classes": [],
      "_model_module": "@jupyter-widgets/controls",
      "_model_module_version": "1.5.0",
      "_model_name": "HTMLModel",
      "_view_count": null,
      "_view_module": "@jupyter-widgets/controls",
      "_view_module_version": "1.5.0",
      "_view_name": "HTMLView",
      "description": "",
      "description_tooltip": null,
      "layout": "IPY_MODEL_f6d1661519be4b70ae82c168ed07515d",
      "placeholder": "​",
      "style": "IPY_MODEL_b6b55dd8ff89474c99d62109f3762842",
      "value": " 20/20 [00:00&lt;00:00, 346.53it/s]"
     }
    },
    "5316b9e4f55940219c827c8a9c7e7e18": {
     "model_module": "@jupyter-widgets/controls",
     "model_module_version": "1.5.0",
     "model_name": "FloatProgressModel",
     "state": {
      "_dom_classes": [],
      "_model_module": "@jupyter-widgets/controls",
      "_model_module_version": "1.5.0",
      "_model_name": "FloatProgressModel",
      "_view_count": null,
      "_view_module": "@jupyter-widgets/controls",
      "_view_module_version": "1.5.0",
      "_view_name": "ProgressView",
      "bar_style": "success",
      "description": "",
      "description_tooltip": null,
      "layout": "IPY_MODEL_b96ae6a8d1964b6e96847823b17e9bd3",
      "max": 20,
      "min": 0,
      "orientation": "horizontal",
      "style": "IPY_MODEL_357f38c3ac134f79abc05d141e5f1501",
      "value": 20
     }
    },
    "533c1eb82e0d4e8da992dea85f7d476d": {
     "model_module": "@jupyter-widgets/base",
     "model_module_version": "1.2.0",
     "model_name": "LayoutModel",
     "state": {
      "_model_module": "@jupyter-widgets/base",
      "_model_module_version": "1.2.0",
      "_model_name": "LayoutModel",
      "_view_count": null,
      "_view_module": "@jupyter-widgets/base",
      "_view_module_version": "1.2.0",
      "_view_name": "LayoutView",
      "align_content": null,
      "align_items": null,
      "align_self": null,
      "border": null,
      "bottom": null,
      "display": null,
      "flex": null,
      "flex_flow": null,
      "grid_area": null,
      "grid_auto_columns": null,
      "grid_auto_flow": null,
      "grid_auto_rows": null,
      "grid_column": null,
      "grid_gap": null,
      "grid_row": null,
      "grid_template_areas": null,
      "grid_template_columns": null,
      "grid_template_rows": null,
      "height": null,
      "justify_content": null,
      "justify_items": null,
      "left": null,
      "margin": null,
      "max_height": null,
      "max_width": null,
      "min_height": null,
      "min_width": null,
      "object_fit": null,
      "object_position": null,
      "order": null,
      "overflow": null,
      "overflow_x": null,
      "overflow_y": null,
      "padding": null,
      "right": null,
      "top": null,
      "visibility": null,
      "width": null
     }
    },
    "53589ec8f47b40509c086664b3a57a96": {
     "model_module": "@jupyter-widgets/controls",
     "model_module_version": "1.5.0",
     "model_name": "DescriptionStyleModel",
     "state": {
      "_model_module": "@jupyter-widgets/controls",
      "_model_module_version": "1.5.0",
      "_model_name": "DescriptionStyleModel",
      "_view_count": null,
      "_view_module": "@jupyter-widgets/base",
      "_view_module_version": "1.2.0",
      "_view_name": "StyleView",
      "description_width": ""
     }
    },
    "5907a12e83004c5a8dce8c8a81d4f461": {
     "model_module": "@jupyter-widgets/base",
     "model_module_version": "1.2.0",
     "model_name": "LayoutModel",
     "state": {
      "_model_module": "@jupyter-widgets/base",
      "_model_module_version": "1.2.0",
      "_model_name": "LayoutModel",
      "_view_count": null,
      "_view_module": "@jupyter-widgets/base",
      "_view_module_version": "1.2.0",
      "_view_name": "LayoutView",
      "align_content": null,
      "align_items": null,
      "align_self": null,
      "border": null,
      "bottom": null,
      "display": null,
      "flex": null,
      "flex_flow": null,
      "grid_area": null,
      "grid_auto_columns": null,
      "grid_auto_flow": null,
      "grid_auto_rows": null,
      "grid_column": null,
      "grid_gap": null,
      "grid_row": null,
      "grid_template_areas": null,
      "grid_template_columns": null,
      "grid_template_rows": null,
      "height": null,
      "justify_content": null,
      "justify_items": null,
      "left": null,
      "margin": null,
      "max_height": null,
      "max_width": null,
      "min_height": null,
      "min_width": null,
      "object_fit": null,
      "object_position": null,
      "order": null,
      "overflow": null,
      "overflow_x": null,
      "overflow_y": null,
      "padding": null,
      "right": null,
      "top": null,
      "visibility": null,
      "width": null
     }
    },
    "6400a7a09b1b4e8097c335f848685f4b": {
     "model_module": "@jupyter-widgets/controls",
     "model_module_version": "1.5.0",
     "model_name": "HTMLModel",
     "state": {
      "_dom_classes": [],
      "_model_module": "@jupyter-widgets/controls",
      "_model_module_version": "1.5.0",
      "_model_name": "HTMLModel",
      "_view_count": null,
      "_view_module": "@jupyter-widgets/controls",
      "_view_module_version": "1.5.0",
      "_view_name": "HTMLView",
      "description": "",
      "description_tooltip": null,
      "layout": "IPY_MODEL_d6a43b0f13184c7183ee1ca2d08ab35d",
      "placeholder": "​",
      "style": "IPY_MODEL_e7b3df7322d14a8baf39682091e18a82",
      "value": " 60%|█████▉    | 597/1000 [00:50&lt;00:12, 33.26it/s, reward=9.1, steps=11.9]"
     }
    },
    "755669586ac2409c867424623180d87f": {
     "model_module": "@jupyter-widgets/controls",
     "model_module_version": "1.5.0",
     "model_name": "HBoxModel",
     "state": {
      "_dom_classes": [],
      "_model_module": "@jupyter-widgets/controls",
      "_model_module_version": "1.5.0",
      "_model_name": "HBoxModel",
      "_view_count": null,
      "_view_module": "@jupyter-widgets/controls",
      "_view_module_version": "1.5.0",
      "_view_name": "HBoxView",
      "box_style": "",
      "children": [
       "IPY_MODEL_b105807d8f1b4359bceb9065fbfdf627",
       "IPY_MODEL_a72a5361e2bb41cf800051886407e2e3",
       "IPY_MODEL_6400a7a09b1b4e8097c335f848685f4b"
      ],
      "layout": "IPY_MODEL_1da90275ee6c4d109d02c015df7cb782"
     }
    },
    "877c2a280bdf47bba994448515ff6c06": {
     "model_module": "@jupyter-widgets/controls",
     "model_module_version": "1.5.0",
     "model_name": "ProgressStyleModel",
     "state": {
      "_model_module": "@jupyter-widgets/controls",
      "_model_module_version": "1.5.0",
      "_model_name": "ProgressStyleModel",
      "_view_count": null,
      "_view_module": "@jupyter-widgets/base",
      "_view_module_version": "1.2.0",
      "_view_name": "StyleView",
      "bar_color": null,
      "description_width": ""
     }
    },
    "9c7d24a44f7f458fa2273ec45cb41303": {
     "model_module": "@jupyter-widgets/base",
     "model_module_version": "1.2.0",
     "model_name": "LayoutModel",
     "state": {
      "_model_module": "@jupyter-widgets/base",
      "_model_module_version": "1.2.0",
      "_model_name": "LayoutModel",
      "_view_count": null,
      "_view_module": "@jupyter-widgets/base",
      "_view_module_version": "1.2.0",
      "_view_name": "LayoutView",
      "align_content": null,
      "align_items": null,
      "align_self": null,
      "border": null,
      "bottom": null,
      "display": null,
      "flex": null,
      "flex_flow": null,
      "grid_area": null,
      "grid_auto_columns": null,
      "grid_auto_flow": null,
      "grid_auto_rows": null,
      "grid_column": null,
      "grid_gap": null,
      "grid_row": null,
      "grid_template_areas": null,
      "grid_template_columns": null,
      "grid_template_rows": null,
      "height": null,
      "justify_content": null,
      "justify_items": null,
      "left": null,
      "margin": null,
      "max_height": null,
      "max_width": null,
      "min_height": null,
      "min_width": null,
      "object_fit": null,
      "object_position": null,
      "order": null,
      "overflow": null,
      "overflow_x": null,
      "overflow_y": null,
      "padding": null,
      "right": null,
      "top": null,
      "visibility": null,
      "width": null
     }
    },
    "a72a5361e2bb41cf800051886407e2e3": {
     "model_module": "@jupyter-widgets/controls",
     "model_module_version": "1.5.0",
     "model_name": "FloatProgressModel",
     "state": {
      "_dom_classes": [],
      "_model_module": "@jupyter-widgets/controls",
      "_model_module_version": "1.5.0",
      "_model_name": "FloatProgressModel",
      "_view_count": null,
      "_view_module": "@jupyter-widgets/controls",
      "_view_module_version": "1.5.0",
      "_view_name": "ProgressView",
      "bar_style": "danger",
      "description": "",
      "description_tooltip": null,
      "layout": "IPY_MODEL_9c7d24a44f7f458fa2273ec45cb41303",
      "max": 1000,
      "min": 0,
      "orientation": "horizontal",
      "style": "IPY_MODEL_877c2a280bdf47bba994448515ff6c06",
      "value": 597
     }
    },
    "b105807d8f1b4359bceb9065fbfdf627": {
     "model_module": "@jupyter-widgets/controls",
     "model_module_version": "1.5.0",
     "model_name": "HTMLModel",
     "state": {
      "_dom_classes": [],
      "_model_module": "@jupyter-widgets/controls",
      "_model_module_version": "1.5.0",
      "_model_name": "HTMLModel",
      "_view_count": null,
      "_view_module": "@jupyter-widgets/controls",
      "_view_module_version": "1.5.0",
      "_view_name": "HTMLView",
      "description": "",
      "description_tooltip": null,
      "layout": "IPY_MODEL_5907a12e83004c5a8dce8c8a81d4f461",
      "placeholder": "​",
      "style": "IPY_MODEL_c7f2bdc9eae647e0a8ac62dae1b2a076",
      "value": ""
     }
    },
    "b6b55dd8ff89474c99d62109f3762842": {
     "model_module": "@jupyter-widgets/controls",
     "model_module_version": "1.5.0",
     "model_name": "DescriptionStyleModel",
     "state": {
      "_model_module": "@jupyter-widgets/controls",
      "_model_module_version": "1.5.0",
      "_model_name": "DescriptionStyleModel",
      "_view_count": null,
      "_view_module": "@jupyter-widgets/base",
      "_view_module_version": "1.2.0",
      "_view_name": "StyleView",
      "description_width": ""
     }
    },
    "b96ae6a8d1964b6e96847823b17e9bd3": {
     "model_module": "@jupyter-widgets/base",
     "model_module_version": "1.2.0",
     "model_name": "LayoutModel",
     "state": {
      "_model_module": "@jupyter-widgets/base",
      "_model_module_version": "1.2.0",
      "_model_name": "LayoutModel",
      "_view_count": null,
      "_view_module": "@jupyter-widgets/base",
      "_view_module_version": "1.2.0",
      "_view_name": "LayoutView",
      "align_content": null,
      "align_items": null,
      "align_self": null,
      "border": null,
      "bottom": null,
      "display": null,
      "flex": null,
      "flex_flow": null,
      "grid_area": null,
      "grid_auto_columns": null,
      "grid_auto_flow": null,
      "grid_auto_rows": null,
      "grid_column": null,
      "grid_gap": null,
      "grid_row": null,
      "grid_template_areas": null,
      "grid_template_columns": null,
      "grid_template_rows": null,
      "height": null,
      "justify_content": null,
      "justify_items": null,
      "left": null,
      "margin": null,
      "max_height": null,
      "max_width": null,
      "min_height": null,
      "min_width": null,
      "object_fit": null,
      "object_position": null,
      "order": null,
      "overflow": null,
      "overflow_x": null,
      "overflow_y": null,
      "padding": null,
      "right": null,
      "top": null,
      "visibility": null,
      "width": null
     }
    },
    "c7f2bdc9eae647e0a8ac62dae1b2a076": {
     "model_module": "@jupyter-widgets/controls",
     "model_module_version": "1.5.0",
     "model_name": "DescriptionStyleModel",
     "state": {
      "_model_module": "@jupyter-widgets/controls",
      "_model_module_version": "1.5.0",
      "_model_name": "DescriptionStyleModel",
      "_view_count": null,
      "_view_module": "@jupyter-widgets/base",
      "_view_module_version": "1.2.0",
      "_view_name": "StyleView",
      "description_width": ""
     }
    },
    "d6a43b0f13184c7183ee1ca2d08ab35d": {
     "model_module": "@jupyter-widgets/base",
     "model_module_version": "1.2.0",
     "model_name": "LayoutModel",
     "state": {
      "_model_module": "@jupyter-widgets/base",
      "_model_module_version": "1.2.0",
      "_model_name": "LayoutModel",
      "_view_count": null,
      "_view_module": "@jupyter-widgets/base",
      "_view_module_version": "1.2.0",
      "_view_name": "LayoutView",
      "align_content": null,
      "align_items": null,
      "align_self": null,
      "border": null,
      "bottom": null,
      "display": null,
      "flex": null,
      "flex_flow": null,
      "grid_area": null,
      "grid_auto_columns": null,
      "grid_auto_flow": null,
      "grid_auto_rows": null,
      "grid_column": null,
      "grid_gap": null,
      "grid_row": null,
      "grid_template_areas": null,
      "grid_template_columns": null,
      "grid_template_rows": null,
      "height": null,
      "justify_content": null,
      "justify_items": null,
      "left": null,
      "margin": null,
      "max_height": null,
      "max_width": null,
      "min_height": null,
      "min_width": null,
      "object_fit": null,
      "object_position": null,
      "order": null,
      "overflow": null,
      "overflow_x": null,
      "overflow_y": null,
      "padding": null,
      "right": null,
      "top": null,
      "visibility": null,
      "width": null
     }
    },
    "e7b3df7322d14a8baf39682091e18a82": {
     "model_module": "@jupyter-widgets/controls",
     "model_module_version": "1.5.0",
     "model_name": "DescriptionStyleModel",
     "state": {
      "_model_module": "@jupyter-widgets/controls",
      "_model_module_version": "1.5.0",
      "_model_name": "DescriptionStyleModel",
      "_view_count": null,
      "_view_module": "@jupyter-widgets/base",
      "_view_module_version": "1.2.0",
      "_view_name": "StyleView",
      "description_width": ""
     }
    },
    "e8e8a0fcc0794c13b15a864d2303f892": {
     "model_module": "@jupyter-widgets/controls",
     "model_module_version": "1.5.0",
     "model_name": "HBoxModel",
     "state": {
      "_dom_classes": [],
      "_model_module": "@jupyter-widgets/controls",
      "_model_module_version": "1.5.0",
      "_model_name": "HBoxModel",
      "_view_count": null,
      "_view_module": "@jupyter-widgets/controls",
      "_view_module_version": "1.5.0",
      "_view_name": "HBoxView",
      "box_style": "",
      "children": [
       "IPY_MODEL_e9ebb4d78b844058890f57904f61a596",
       "IPY_MODEL_5316b9e4f55940219c827c8a9c7e7e18",
       "IPY_MODEL_41784fac45b44c17902c434b1fca1026"
      ],
      "layout": "IPY_MODEL_533c1eb82e0d4e8da992dea85f7d476d"
     }
    },
    "e9ebb4d78b844058890f57904f61a596": {
     "model_module": "@jupyter-widgets/controls",
     "model_module_version": "1.5.0",
     "model_name": "HTMLModel",
     "state": {
      "_dom_classes": [],
      "_model_module": "@jupyter-widgets/controls",
      "_model_module_version": "1.5.0",
      "_model_name": "HTMLModel",
      "_view_count": null,
      "_view_module": "@jupyter-widgets/controls",
      "_view_module_version": "1.5.0",
      "_view_name": "HTMLView",
      "description": "",
      "description_tooltip": null,
      "layout": "IPY_MODEL_3241ef2d74b04fdcbebacb65b7f7fe46",
      "placeholder": "​",
      "style": "IPY_MODEL_53589ec8f47b40509c086664b3a57a96",
      "value": "100%"
     }
    },
    "f6d1661519be4b70ae82c168ed07515d": {
     "model_module": "@jupyter-widgets/base",
     "model_module_version": "1.2.0",
     "model_name": "LayoutModel",
     "state": {
      "_model_module": "@jupyter-widgets/base",
      "_model_module_version": "1.2.0",
      "_model_name": "LayoutModel",
      "_view_count": null,
      "_view_module": "@jupyter-widgets/base",
      "_view_module_version": "1.2.0",
      "_view_name": "LayoutView",
      "align_content": null,
      "align_items": null,
      "align_self": null,
      "border": null,
      "bottom": null,
      "display": null,
      "flex": null,
      "flex_flow": null,
      "grid_area": null,
      "grid_auto_columns": null,
      "grid_auto_flow": null,
      "grid_auto_rows": null,
      "grid_column": null,
      "grid_gap": null,
      "grid_row": null,
      "grid_template_areas": null,
      "grid_template_columns": null,
      "grid_template_rows": null,
      "height": null,
      "justify_content": null,
      "justify_items": null,
      "left": null,
      "margin": null,
      "max_height": null,
      "max_width": null,
      "min_height": null,
      "min_width": null,
      "object_fit": null,
      "object_position": null,
      "order": null,
      "overflow": null,
      "overflow_x": null,
      "overflow_y": null,
      "padding": null,
      "right": null,
      "top": null,
      "visibility": null,
      "width": null
     }
    }
   }
  }
 },
 "nbformat": 4,
 "nbformat_minor": 0
}
