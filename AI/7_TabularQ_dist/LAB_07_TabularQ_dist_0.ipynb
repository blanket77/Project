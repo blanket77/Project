{
 "cells": [
  {
   "cell_type": "markdown",
   "metadata": {
    "id": "KgZcH2gbZQn9"
   },
   "source": [
    "AI Programming - SW Lee"
   ]
  },
  {
   "cell_type": "markdown",
   "metadata": {
    "id": "3m-CUffwbJky"
   },
   "source": []
  },
  {
   "cell_type": "markdown",
   "metadata": {
    "id": "NcejT59TZQn_"
   },
   "source": [
    "# Lab 07: Tabular Q Learning\n",
    "## Exercise: Frozen Lake, Taxi"
   ]
  },
  {
   "cell_type": "markdown",
   "metadata": {
    "id": "UbDyVOIeZQoA"
   },
   "source": [
    "### Prepare Library Packages"
   ]
  },
  {
   "cell_type": "code",
   "execution_count": 1,
   "metadata": {
    "colab": {
     "base_uri": "https://localhost:8080/"
    },
    "id": "P49m4JqBZQoA",
    "outputId": "689045d6-0ac1-4c61-ba65-977090ebca80"
   },
   "outputs": [
    {
     "name": "stdout",
     "output_type": "stream",
     "text": [
      "Collecting gymnasium\n",
      "  Downloading gymnasium-1.0.0-py3-none-any.whl.metadata (9.5 kB)\n",
      "Requirement already satisfied: numpy>=1.21.0 in /usr/local/lib/python3.10/dist-packages (from gymnasium) (1.26.4)\n",
      "Requirement already satisfied: cloudpickle>=1.2.0 in /usr/local/lib/python3.10/dist-packages (from gymnasium) (3.1.0)\n",
      "Requirement already satisfied: typing-extensions>=4.3.0 in /usr/local/lib/python3.10/dist-packages (from gymnasium) (4.12.2)\n",
      "Collecting farama-notifications>=0.0.1 (from gymnasium)\n",
      "  Downloading Farama_Notifications-0.0.4-py3-none-any.whl.metadata (558 bytes)\n",
      "Downloading gymnasium-1.0.0-py3-none-any.whl (958 kB)\n",
      "\u001b[2K   \u001b[90m━━━━━━━━━━━━━━━━━━━━━━━━━━━━━━━━━━━━━━━━\u001b[0m \u001b[32m958.1/958.1 kB\u001b[0m \u001b[31m10.3 MB/s\u001b[0m eta \u001b[36m0:00:00\u001b[0m\n",
      "\u001b[?25hDownloading Farama_Notifications-0.0.4-py3-none-any.whl (2.5 kB)\n",
      "Installing collected packages: farama-notifications, gymnasium\n",
      "Successfully installed farama-notifications-0.0.4 gymnasium-1.0.0\n"
     ]
    }
   ],
   "source": [
    "# Check if this code runs in Colab\n",
    "RunningInCOLAB = 'google.colab' in str(get_ipython()) # Colab에서 실행중인지 확인\n",
    "\n",
    "if RunningInCOLAB: # Colab에서 실행중이라면\n",
    "    !pip install gymnasium # gymnasium 설치\n",
    "    from tqdm.notebook import tqdm # Colab에서는 tqdm.notebook을 사용\n",
    "else:\n",
    "    from tqdm import tqdm # 로컬 환경에서는 tqdm을 사용"
   ]
  },
  {
   "cell_type": "code",
   "execution_count": null,
   "metadata": {
    "id": "cCxMbYiRZQoC"
   },
   "outputs": [],
   "source": [
    "import numpy as np # numpy 라이브러리 \n",
    "import matplotlib.pyplot as plt # matplotlib 라이브러리 \n",
    "import gymnasium as gym # gymnasium 라이브러리 \n",
    "from gymnasium import wrappers # gymnasium.wrappers 라이브러리 "
   ]
  },
  {
   "cell_type": "code",
   "execution_count": 3,
   "metadata": {
    "colab": {
     "base_uri": "https://localhost:8080/",
     "height": 35
    },
    "id": "Z56s5HK5ZQoC",
    "outputId": "d88d524e-92d3-4496-f64c-87b0fc43d64a"
   },
   "outputs": [
    {
     "data": {
      "application/vnd.google.colaboratory.intrinsic+json": {
       "type": "string"
      },
      "text/plain": [
       "'1.0.0'"
      ]
     },
     "execution_count": 3,
     "metadata": {},
     "output_type": "execute_result"
    }
   ],
   "source": [
    "gym.__version__ # gymnasium 버전 확인"
   ]
  },
  {
   "cell_type": "markdown",
   "metadata": {
    "id": "6mlmol4iZQoE"
   },
   "source": [
    "### Select Environment"
   ]
  },
  {
   "cell_type": "markdown",
   "metadata": {
    "id": "K3gIWylYZQoE"
   },
   "source": [
    "**Frozen Lake**<br>\n",
    "https://gymnasium.farama.org/environments/toy_text/frozen_lake/\n",
    "\n",
    "\n",
    "**Taxi**<br>\n",
    "https://gymnasium.farama.org/environments/toy_text/taxi/\n",
    "\n",
    "**Blackjack**<br>\n",
    "https://gymnasium.farama.org/environments/toy_text/blackjack/"
   ]
  },
  {
   "cell_type": "code",
   "execution_count": 4,
   "metadata": {
    "id": "iIh7yBNyZQoE"
   },
   "outputs": [],
   "source": [
    "# select evironment\n",
    "# Text Game:    0 for FrozenLake 4x4, 1 for Taxi, 2 for Blackjack\n",
    "\n",
    "SELECT_ENV = 0 # 환경 선택"
   ]
  },
  {
   "cell_type": "code",
   "execution_count": 5,
   "metadata": {
    "id": "KcuLN8NNZQoF"
   },
   "outputs": [],
   "source": [
    "if SELECT_ENV == 0: # Frozen Lake\n",
    "    env_name, res_prefix = 'FrozenLake-v1', 'lak4' # 환경 이름과 결과 파일명 설정\n",
    "    max_episodes, max_ep_steps, goal_score = 3000, 500, 0.8 # 최대 에피소드 수, 최대 에피소드 단계 수, 목표 점수 설정\n",
    "    val_ep_num, lr_rate, discount_rate = 20, 0.8, 0.95 # 검증 에피소드 수, 학습률, 할인율 설정\n",
    "elif SELECT_ENV == 1: # Taxi\n",
    "    env_name, res_prefix = 'Taxi-v3', 'taxi' # 환경 이름과 결과 파일명 설정\n",
    "    max_episodes, max_ep_steps, goal_score = 1000, 500, 8.0 # 최대 에피소드 수, 최대 에피소드 단계 수, 목표 점수 설정\n",
    "    val_ep_num, lr_rate, discount_rate = 20, 0.8, 0.95 # 검증 에피소드 수, 학습률, 할인율 설정\n",
    "elif SELECT_ENV == 2: # Blackjack\n",
    "    env_name, res_prefix = 'Blackjack-v1', 'blkj' # 환경 이름과 결과 파일명 설정\n",
    "    max_episodes, max_ep_steps, goal_score = 5000, 10, -0.05 # 최대 에피소드 수, 최대 에피소드 단계 수, 목표 점수 설정\n",
    "    val_ep_num, lr_rate, discount_rate = 1000, 0.1, 0.95 # 검증 에피소드 수, 학습률, 할인율 설정\n",
    "else: assert False, 'environment selection error' # 환경 선택 오류\n",
    "\n",
    "def create_env(): # 환경 생성 함수\n",
    "    if   SELECT_ENV == 0: # Forzen Lake\n",
    "        env = gym.make(env_name, desc=None, map_name='4x4', is_slippery=True, render_mode='rgb_array') # 환경 생성\n",
    "    elif   SELECT_ENV == 1: # Taxi\n",
    "        env = gym.make(env_name, render_mode='rgb_array') # 환경 생성\n",
    "    elif   SELECT_ENV == 2: # Blackjack\n",
    "        env = gym.make(env_name, natural=False, sab=False, render_mode='rgb_array') # 환경 생성\n",
    "    else: pass # 환경 선택 오류\n",
    "    return env # 환경 반환"
   ]
  },
  {
   "cell_type": "code",
   "execution_count": 6,
   "metadata": {
    "id": "Hvp0RVmFZQoF"
   },
   "outputs": [],
   "source": [
    "def env_reset(env): # 환경 초기화 함수\n",
    "    observation = env.reset() # 환경 초기화\n",
    "    obs = observation[0] if type(observation)==tuple else observation # 관찰값 설정\n",
    "    if SELECT_ENV == 2: # Blackjack\n",
    "        state = obs[0] + 32 * obs[2] + 64 * obs[1] # 상태 설정\n",
    "    else: state = obs # 상태 설정\n",
    "    return state # 상태 반환\n",
    "\n",
    "def env_step(env, action): # 환경 단계 함수\n",
    "    observation = env.step(action) # 환경 단계\n",
    "    if SELECT_ENV == 2: # Blackjack\n",
    "        state = observation[0][0] + 32 * observation[0][2] + 64 * observation[0][1] # 상태 설정\n",
    "    else: state = observation[0] # 상태 설정\n",
    "    reward = observation[1] # 보상 설정\n",
    "    done = observation[2] or observation[3] if len(observation)>4 else observation[2] # 종료 여부 설정\n",
    "    return state, reward, done # 상태, 보상, 종료 여부 반환"
   ]
  },
  {
   "cell_type": "code",
   "execution_count": 7,
   "metadata": {
    "id": "OJTqT4eyZQoG"
   },
   "outputs": [],
   "source": [
    "env = create_env() # 환경 생성\n",
    "state = env_reset(env) # 환경 초기화\n",
    "state, reward, done = env_step(env, env.action_space.sample()) # 환경 단계"
   ]
  },
  {
   "cell_type": "markdown",
   "metadata": {
    "id": "eMox6GD0ZQoG"
   },
   "source": [
    "### Check and Show Environment Variables"
   ]
  },
  {
   "cell_type": "code",
   "execution_count": 8,
   "metadata": {
    "id": "O4UQpmZ2ZQoG"
   },
   "outputs": [],
   "source": [
    "action_shape = env.action_space.shape # 행동 공간 모양 설정\n",
    "action_space_type = type(env.action_space) # 행동 공간 타입 설정\n",
    "\n",
    "if action_space_type==gym.spaces.discrete.Discrete: # 행동 공간 타입이 이산형일 경우\n",
    "    actn_space = 'DISCRETE' # 행동 공간 설정\n",
    "    action_shape = (1,) # 행동 모양 설정\n",
    "    action_dims = 1 # 행동 차원 설정\n",
    "    action_range = env.action_space.n # 행동 범위 설정\n",
    "    num_actions = action_range  # number of actions is action range for DISCRETE actions\n",
    "    action_batch_shape = (None, action_range) # 행동 배치 모양 설정\n",
    "elif action_space_type==gym.spaces.box.Box: # 행동 공간 타입이 상자형일 경우\n",
    "    actn_space = 'CONTINUOUS' # 행동 공간 설정\n",
    "    action_dims = action_shape[0] # 행동 차원 설정\n",
    "    actn_uppr_bound = env.action_space.high[0] # 행동 상한 설정\n",
    "    actn_lowr_bound = env.action_space.low[0] # 행동 하한 설정\n",
    "    action_range = (actn_uppr_bound - actn_lowr_bound) # x0.5 for tanh output\n",
    "    action_batch_shape = tuple([None]+[x for x in action_shape]) # 행동 배치 모양 설정\n",
    "    num_actions = action_dims   # number of actions is action dimension for CONTINUOUS actions\n",
    "else: assert False, 'other action space type are not supported'\n",
    "\n",
    "observation_space_type = type(env.observation_space) # 관찰 공간 타입 설정\n",
    "observation_shape = env.observation_space.shape # 관찰 공간 모양 설정\n",
    "\n",
    "if observation_space_type==gym.spaces.discrete.Discrete: # 관찰 공간 타입이 이산형일 경우\n",
    "    observation_shape = (1,) # 관찰 공간 모양 설정\n",
    "    num_states = env.observation_space.n # 상태 수 설정\n",
    "elif observation_space_type==gym.spaces.box.Box: # 관찰 공간 타입이 상자형일 경우\n",
    "    num_states = observation_shape[0] # 상태 수 설정\n",
    "elif observation_space_type==gym.spaces.tuple.Tuple: # 관찰 공간 타입이 튜플형일 경우\n",
    "    observation_shape = tuple([x.n for x in env.observation_space]) # 관찰 공간 모양 설정\n",
    "    num_states = np.prod(observation_shape) # 상태 수 설정\n",
    "else: print('observation space type error') # 관찰 공간 타입 오류\n",
    "\n",
    "if SELECT_ENV == 2: # Blackjack\n",
    "    state_shape = (1,) # 상태 모양 설정\n",
    "    state_batch_shape = (None,1) # 상태 배치 모양 설정\n",
    "else:\n",
    "    state_shape = observation_shape # 상태 모양 설정\n",
    "    state_batch_shape = tuple([None]+[x for x in observation_shape]) # 상태 배치 모양 설정\n",
    "\n",
    "value_shape = (1,) # 가치 모양 설정\n",
    "num_values = 1 # 가치 수 설정"
   ]
  },
  {
   "cell_type": "code",
   "execution_count": 9,
   "metadata": {
    "colab": {
     "base_uri": "https://localhost:8080/"
    },
    "id": "wN-kPOC_ZQoH",
    "outputId": "3233fb3d-75fb-44f7-8aad-e3b74deb4ced"
   },
   "outputs": [
    {
     "name": "stdout",
     "output_type": "stream",
     "text": [
      "Action space  <class 'gymnasium.spaces.discrete.Discrete'>\n",
      "Action shape  (1,)\n",
      "Action dimensions  1\n",
      "Action range  4\n",
      "Action batch shape  (None, 4)\n",
      "Observation space  <class 'gymnasium.spaces.discrete.Discrete'>\n",
      "Observation shape  (1,)\n",
      "Size of State Space  16\n",
      "State shape  (1,)\n",
      "State batch shape  (None, 1)\n",
      "Vallue shape  (1,)\n",
      "Value dimensions  1\n"
     ]
    }
   ],
   "source": [
    "print('Action space ', action_space_type) # 행동 공간 출력\n",
    "print('Action shape ', action_shape) # 행동 모양 출력\n",
    "print('Action dimensions ', action_dims) # 행동 차원 출력\n",
    "print('Action range ', action_range) # 행동 범위 출력\n",
    "if action_space_type==gym.spaces.box.Box: # 행동 공간 타입이 상자형일 경우\n",
    "    print('Max Value of Action ', actn_uppr_bound) # 행동 상한 출력\n",
    "    print('Min Value of Action ', actn_lowr_bound) # 행동 하한 출력\n",
    "else: pass # 그 외의 경우\n",
    "print('Action batch shape ', action_batch_shape) # 행동 배치 모양 출력\n",
    "\n",
    "print('Observation space ', observation_space_type) # 관찰 공간 출력\n",
    "print('Observation shape ', observation_shape) # 관찰 공간 모양 출력\n",
    "print('Size of State Space ', num_states) # 상태 공간 크기 출력\n",
    "print('State shape ', state_shape) # 상태 모양 출력\n",
    "print('State batch shape ', state_batch_shape) # 상태 배치 모양 출력\n",
    "\n",
    "print('Vallue shape ', value_shape) # 가치 모양 출력\n",
    "print('Value dimensions ', num_values) # 가치 차원 출력"
   ]
  },
  {
   "cell_type": "markdown",
   "metadata": {
    "id": "d4CjRJoLZQoH"
   },
   "source": [
    "### Define and Initialize The Agent\n",
    "### **Exercise:** Define Q-table (Numpy)"
   ]
  },
  {
   "cell_type": "code",
   "execution_count": null,
   "metadata": {
    "colab": {
     "base_uri": "https://localhost:8080/"
    },
    "id": "OQ9qPHIXZQoH",
    "outputId": "88e08976-7c36-4f94-c72b-5e971b18326c"
   },
   "outputs": [
    {
     "name": "stdout",
     "output_type": "stream",
     "text": [
      "(16, 4)\n"
     ]
    }
   ],
   "source": [
    "### START CODE HERE ###\n",
    "## Q-table은 상태 수 x 행동 수 크기의 2차원 배열로 초기화\n",
    "Q_table = np.zeros((num_states, action_range))  # define q-table\n",
    "\n",
    "###  END CODE HERE  ###\n",
    "\n",
    "print(Q_table.shape) # Q 테이블 모양 출력"
   ]
  },
  {
   "cell_type": "markdown",
   "metadata": {
    "id": "6JEcEMHBZQoI"
   },
   "source": [
    "### Define and Initialize Hyperparameters"
   ]
  },
  {
   "cell_type": "code",
   "execution_count": null,
   "metadata": {
    "id": "Ma9L6lNcZQoI"
   },
   "outputs": [],
   "source": [
    "total_episodes = max_episodes   # Total episodes\n",
    "max_steps = max_ep_steps        # Max steps per episode\n",
    "learning_rate = lr_rate         # Learning rate\n",
    "gamma = discount_rate           # Discounting ratess\n",
    "val_episodes = val_ep_num       # number of validation episodes\n"
   ]
  },
  {
   "cell_type": "markdown",
   "metadata": {
    "id": "xHDAjGzKZQoI"
   },
   "source": [
    "### Define Epsilon Function\n",
    "\n",
    "This is an example of exponential decay epsilon function. One of easist epsilon decay functions is simply to multiply 0.9. You can define your own epsilon function."
   ]
  },
  {
   "cell_type": "code",
   "execution_count": null,
   "metadata": {
    "id": "tdkyxg6FZQoI"
   },
   "outputs": [],
   "source": [
    "# Exploration parameters for epsilon greedy strategy\n",
    "\n",
    "# 여기 앱실론은 어떤 행동을 선택할지 결정하는 확률을 나타낸다..\n",
    "class Epsilon: # 엡실론 클래스\n",
    "    def __init__(self, max_steps):          # initialize epsilon\n",
    "        self.explore_start = 1.0            # exploration probability at start\n",
    "        self.explore_stop = 0.01            # minimum exploration probability\n",
    "        self.decay_rate = 20.0/max_steps    # exponential decay rate for exploration prob (4.6 ~ max_step = 0.01)\n",
    "        self.steps = 0\n",
    "\n",
    "    def get_epsilon(self): # 엡실론 반환 함수\n",
    "        eps = (self.explore_stop # calculate new epsilon\n",
    "            + (self.explore_start - self.explore_stop) * np.exp(-self.decay_rate * self.steps)) # 새 엡실론 계산\n",
    "        self.steps += 1 # 엡실론 증가\n",
    "        return eps # 엡실론 반환"
   ]
  },
  {
   "cell_type": "markdown",
   "metadata": {
    "id": "21RjccLcZQoI"
   },
   "source": [
    "### Learning Procedures\n",
    "\n",
    "Q-learning is an off-policy TD control algorithm.\n",
    "\n",
    "$$ Q(s_t, a_t) \\leftarrow Q(s_t, a_t) + \\alpha (r_{t} + \\gamma \\max_{a} Q(s_{t+1},a) - Q(s_t,a_t) ) $$\n",
    "\n",
    "The target policy $\\pi$ is greedy w.r.t. $Q(s,a)$\n",
    "\n",
    "$$ \\pi (s_{t}) = \\arg \\max_{a^\\prime} Q(s_{t},a^\\prime) $$\n",
    "\n",
    "### **Exercise:** Define Training Loop and Evaluation Loop"
   ]
  },
  {
   "cell_type": "code",
   "execution_count": 13,
   "metadata": {
    "id": "dIdDMLf0ZQoI"
   },
   "outputs": [],
   "source": [
    "def evaluate_policy(env, qtable, num_average, images=None): # 정책 평가 함수\n",
    "\n",
    "    total_reward = 0.0 # 총 보상 초기화\n",
    "    total_steps = 0  # 총 단계 초기화\n",
    "    episodes_to_play = num_average # 평균을 내기 위한 에피소드 수\n",
    "    for _ in range(episodes_to_play):                   # Play n episode and take the average\n",
    "        state = env_reset(env) # reset the environment\n",
    "        if images!=None: images.append(env.render()) # 환경 렌더링\n",
    "        done = False # 종료 여부 초기화\n",
    "        episode_reward = 0.0 # 에피소드 보상 초기화\n",
    "        while not done: # 종료되지 않을 때까지\n",
    "\n",
    "            ### START CODE HERE ###\n",
    "\n",
    "            action = np.argmax(qtable[state, :])            # get an action from q-table\n",
    "            next_state, reward, done = env_step(env, action)  # take action and observe outcomes\n",
    "\n",
    "            ###  END CODE HERE  ###\n",
    "\n",
    "            if images!=None: images.append(env.render()) # 환경 렌더링\n",
    "            state = next_state                          # update state\n",
    "            episode_reward += reward # 에피소드 보상 증가\n",
    "            total_steps += 1 # 총 단계 증가\n",
    "        total_reward += episode_reward # 총 보상 증가\n",
    "    average_reward = total_reward / episodes_to_play    # take the average reward of evaluations\n",
    "    average_steps = total_steps / episodes_to_play      # take the average steps of evaluations\n",
    "\n",
    "    return average_reward, average_steps, images # 평균 보상, 평균 단계, 이미지 반환\n"
   ]
  },
  {
   "cell_type": "code",
   "execution_count": 14,
   "metadata": {
    "colab": {
     "base_uri": "https://localhost:8080/",
     "height": 67,
     "referenced_widgets": [
      "d0858e60ceff4fe6929e98fc739093e9",
      "1972d7d4c78d4afa97337d55859fc316",
      "411be68ce8e54163818fce71de62fba0",
      "0943ac94767145b4a388fbccc143f818",
      "86349c4de9c1473d9be0ce8a8aabbbec",
      "ea3522ffcbfd406fb724d10607fb9ae5",
      "c3fe4177a2b24312879b1e850a34bd53",
      "cf9b4f4e66314e6d94be7de53df1438d",
      "63c055a0942b458aae5ac6fb02da5fe9",
      "2ec20d1f642a47c395fa0e838a72a03a",
      "2f477bf2731c453a9fe0f988f2a88956"
     ]
    },
    "id": "CQUsWQRZZQoJ",
    "outputId": "7c6ff67f-5caa-46d6-b3db-dff81e70f9cd"
   },
   "outputs": [
    {
     "data": {
      "application/vnd.jupyter.widget-view+json": {
       "model_id": "d0858e60ceff4fe6929e98fc739093e9",
       "version_major": 2,
       "version_minor": 0
      },
      "text/plain": [
       "  0%|          | 0/3000 [00:00<?, ?it/s]"
      ]
     },
     "metadata": {},
     "output_type": "display_data"
    },
    {
     "name": "stdout",
     "output_type": "stream",
     "text": [
      "episodes:  187, final_reward 0.90\n"
     ]
    }
   ],
   "source": [
    "history = {'rewards' : []}                          # logs of rewards\n",
    "epsF = Epsilon(total_episodes)                      # generate epsilon object\n",
    "\n",
    "pbar = tqdm(range(total_episodes), bar_format='{l_bar}{bar:10}{r_bar}{bar:-10b}') # 프로그레스 바 설정\n",
    "\n",
    "for episodes in pbar: # 에피소드 반복\n",
    "\n",
    "    # initialize variables for a new episode\n",
    "    epis_rewards = 0                                # episode reward\n",
    "    epis_steps = 0                                  # steps for an episode\n",
    "    done = False                                    # episode end flag\n",
    "\n",
    "    state = env_reset(env)                          # Reset the environment\n",
    "\n",
    "    epsilon = epsF.get_epsilon()                    # get new epsilon value\n",
    "\n",
    "    while not done:                                 # simulate to the terminal state of the episode\n",
    "\n",
    "        ### START CODE HERE ###\n",
    "\n",
    "        explore_probability = np.random.uniform(0, 1)    # get a random number for exploration decision\n",
    "        if explore_probability > epsilon:\n",
    "            action = np.argmax(Q_table[state, :])        # exploitation: choose the action with max Q-value\n",
    "        else:\n",
    "            action = np.random.randint(0, action_range)  # exploration: choose a random action\n",
    "\n",
    "        next_state, reward, done = env_step(env, action)  # take the action to environment and observe outcomes\n",
    "\n",
    "        # Q-learning update\n",
    "        td_target = reward + gamma * np.max(Q_table[next_state, :]) # 계산된 TD 타겟\n",
    "        Q_table[state, action] += learning_rate * (td_target - Q_table[state, action]) # Q 테이블 업데이트\n",
    "\n",
    "        ### END CODE HERE ###\n",
    "\n",
    "        epis_rewards += reward                      # accumulate rewards to calculate the episode reward\n",
    "        state = next_state                          # set state for the next state\n",
    "\n",
    "        if epis_steps > max_steps: break            # if run too much : finish episode\n",
    "        else: epis_steps += 1\n",
    "\n",
    "    # evaluate the policy\n",
    "    eval_reward, eval_steps, _ = evaluate_policy(env, Q_table, val_episodes) # evaluate the policy\n",
    "\n",
    "    history['rewards'].append(eval_reward) # 보상 기록\n",
    "\n",
    "    pbar.set_postfix({'reward':eval_reward, 'steps':eval_steps}) # 프로그레스 바 업데이트\n",
    "\n",
    "    if eval_reward>goal_score: break                # exit if convergence\n",
    "\n",
    "print('episodes:{0:5d}, final_reward {1:4.2f}'.format(episodes, eval_reward)) # 최종 보상 출력"
   ]
  },
  {
   "cell_type": "markdown",
   "metadata": {
    "id": "ObLpxeaKZQoJ"
   },
   "source": [
    "### Plot Training Histories"
   ]
  },
  {
   "cell_type": "code",
   "execution_count": 15,
   "metadata": {
    "colab": {
     "base_uri": "https://localhost:8080/",
     "height": 388
    },
    "id": "0Gl6-T0eZQoJ",
    "outputId": "21e09fdc-4ffb-4dc9-baf5-e9b8c7a50719"
   },
   "outputs": [
    {
     "data": {
      "image/png": "[encoded data removed]",
      "text/plain": [
       "<Figure size 500x400 with 1 Axes>"
      ]
     },
     "metadata": {},
     "output_type": "display_data"
    }
   ],
   "source": [
    "# plot loss and accuracy\n",
    "def plot_graphs(log_history, log_labels, graph_labels, graph_colors=['b-','g-']): # 그래프 플로팅 함수\n",
    "    num_graphs = len(log_labels) # 그래프 수\n",
    "    plt.figure(figsize=(5*num_graphs,4)) # 그래프 크기 설정\n",
    "    for i in range(num_graphs): # 그래프 반복\n",
    "        plt.subplot(1,num_graphs,i+1) # 서브플롯 설정\n",
    "        plt.plot(log_history[log_labels[i]], graph_colors[i], label=graph_labels[i]) # 그래프 플로팅\n",
    "        plt.xlabel('episodes') # x축 레이블 설정\n",
    "        plt.legend() # 범례 설정\n",
    "    plt.show() # 그래프\n",
    "    return\n",
    "\n",
    "log_labels    = ['rewards'] # 로그 레이블 설정\n",
    "label_strings = ['reward'] # 레이블 문자열 설정\n",
    "label_colors  = ['g-'] # 레이블 색상 설정\n",
    "plot_graphs(history, log_labels, label_strings, label_colors) # 그래프 플로팅"
   ]
  },
  {
   "cell_type": "markdown",
   "metadata": {
    "id": "2t5mGxlJZQoJ"
   },
   "source": [
    "### Evaluate the Agent\n",
    "\n",
    "Evaluate the agent here to show the performance"
   ]
  },
  {
   "cell_type": "code",
   "execution_count": null,
   "metadata": {
    "colab": {
     "base_uri": "https://localhost:8080/",
     "height": 67,
     "referenced_widgets": [
      "51dbf9e24b5642e885ce262382b01d79",
      "1b034ea746bf4ba9ac221afa6f3c7eb7",
      "90ad858ef926480d8461aa9d038c46d9",
      "88e728635aa44442a3036581cd04b44b",
      "d0382f49a3164542b0587e765289a683",
      "248cd5a315b546198c379a31c446ebf4",
      "4a39240508a34c96b95734f00373993c",
      "3dfbc0e61d774f1f9c69d5973c9f92ec",
      "502041711d1e41c78fb5b766fbc33032",
      "5ce5f8bdcc56434a912c5415bc4dda59",
      "be872e34d991430f952947746d0f67b1"
     ]
    },
    "id": "7RXgoO_-ZQoK",
    "outputId": "d77759ab-e046-4642-895c-b18713d3b6de"
   },
   "outputs": [
    {
     "data": {
      "application/vnd.jupyter.widget-view+json": {
       "model_id": "51dbf9e24b5642e885ce262382b01d79",
       "version_major": 2,
       "version_minor": 0
      },
      "text/plain": [
       "  0%|          | 0/20 [00:00<?, ?it/s]"
      ]
     },
     "metadata": {},
     "output_type": "display_data"
    },
    {
     "name": "stdout",
     "output_type": "stream",
     "text": [
      "Evaluation Result: 0.6\n"
     ]
    }
   ],
   "source": [
    "evaluate_episodes = 20 # 평가 에피소드 수\n",
    "sum_episode_rewards = 0.0 # 총 에피소드 보상 초기화\n",
    "pbar = tqdm(range(evaluate_episodes)) # 프로그레스 바 설정\n",
    "\n",
    "for i in pbar: # 반복\n",
    "    rewards, _, _ = evaluate_policy(env, Q_table, 1) # 정책 평가\n",
    "    sum_episode_rewards += rewards # 총 에피소드 보상 증가\n",
    "\n",
    "env.close() # 환경 종료\n",
    "\n",
    "print('Evaluation Result:',  sum_episode_rewards/evaluate_episodes) # 평가 결과 출력"
   ]
  },
  {
   "cell_type": "markdown",
   "metadata": {
    "id": "fifj3d-OZQoK"
   },
   "source": [
    "## See How The Agent Works"
   ]
  },
  {
   "cell_type": "code",
   "execution_count": 17,
   "metadata": {
    "colab": {
     "base_uri": "https://localhost:8080/"
    },
    "id": "75ggEz0mZQoK",
    "outputId": "8b7235cb-4551-4ed2-e720-7a13aa3bc9cc"
   },
   "outputs": [
    {
     "name": "stdout",
     "output_type": "stream",
     "text": [
      "Sample Total Reward: 1.0\n"
     ]
    }
   ],
   "source": [
    "env = create_env() # 환경 생성\n",
    "\n",
    "if SELECT_ENV != 2: # Blackjack\n",
    "    env = wrappers.RecordVideo(env, video_folder='./gym-results/', name_prefix=res_prefix) # 비디오 레코딩 설정\n",
    "    eval_reward, _, _ = evaluate_policy(env, Q_table, 1) # 정책 평가\n",
    "else:\n",
    "    ims = [] # 이미지 초기화\n",
    "    eval_reward, _, ims = evaluate_policy(env, Q_table, 1, ims) # 정책 평가\n",
    "\n",
    "print('Sample Total Reward:', eval_reward) # 샘플 총 보상 출력\n",
    "\n",
    "env.close() # 환경 종료"
   ]
  },
  {
   "cell_type": "code",
   "execution_count": 18,
   "metadata": {
    "colab": {
     "base_uri": "https://localhost:8080/",
     "height": 340
    },
    "id": "_tPx4WxBZQoK",
    "outputId": "fc82e170-5e51-416d-8a6f-122f7389604a"
   },
   "outputs": [
    {
     "data": {
      "text/html": [
       "<video width=320 controls><source src=\"data:video/mp4;base64,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\"></video>"
      ],
      "text/plain": [
       "<IPython.core.display.HTML object>"
      ]
     },
     "metadata": {},
     "output_type": "display_data"
    }
   ],
   "source": [
    "from IPython.display import HTML, display # HTML, display 라이브러리 임포트\n",
    "from base64 import b64encode # b64encode 라이브러리 임포트\n",
    "\n",
    "def show_video(video_path, video_width = 320): # 비디오 표시 함수\n",
    "    video_file = open(video_path, \"r+b\").read() # 비디오 파일 읽기\n",
    "    video_url = f\"data:video/mp4;base64,{b64encode(video_file).decode()}\" # 비디오 URL 설정\n",
    "    return HTML(f\"\"\"<video width={video_width} controls><source src=\"{video_url}\"></video>\"\"\") # 비디오 출력\n",
    "\n",
    "if SELECT_ENV==2: # Blackjack\n",
    "    for i in range(len(ims)): # 이미지 반복\n",
    "        plt.figure(figsize=(3,3)) # 그림 크기 설정\n",
    "        plt.imshow(ims[i]) # 이미지 출력\n",
    "        plt.show() # 그림 출력\n",
    "else:\n",
    "    display(show_video('./gym-results/' + res_prefix + '-episode-0.mp4')) # 비디오 표시"
   ]
  },
  {
   "cell_type": "markdown",
   "metadata": {
    "id": "mVXi7vetZQoK"
   },
   "source": [
    "(c) 2024 SW Lee"
   ]
  }
 ],
 "metadata": {
  "colab": {
   "provenance": []
  },
  "kernelspec": {
   "display_name": "tf2",
   "language": "python",
   "name": "python3"
  },
  "language_info": {
   "codemirror_mode": {
    "name": "ipython",
    "version": 3
   },
   "file_extension": ".py",
   "mimetype": "text/x-python",
   "name": "python",
   "nbconvert_exporter": "python",
   "pygments_lexer": "ipython3",
   "version": "3.9.16"
  },
  "orig_nbformat": 4,
  "vscode": {
   "interpreter": {
    "hash": "71930d9c743a2c2f7d41567bb1e631f1d30be1b0f7ff3429fb86acce8edbed56"
   }
  },
  "widgets": {
   "application/vnd.jupyter.widget-state+json": {
    "0943ac94767145b4a388fbccc143f818": {
     "model_module": "@jupyter-widgets/controls",
     "model_module_version": "1.5.0",
     "model_name": "HTMLModel",
     "state": {
      "_dom_classes": [],
      "_model_module": "@jupyter-widgets/controls",
      "_model_module_version": "1.5.0",
      "_model_name": "HTMLModel",
      "_view_count": null,
      "_view_module": "@jupyter-widgets/controls",
      "_view_module_version": "1.5.0",
      "_view_name": "HTMLView",
      "description": "",
      "description_tooltip": null,
      "layout": "IPY_MODEL_2ec20d1f642a47c395fa0e838a72a03a",
      "placeholder": "​",
      "style": "IPY_MODEL_2f477bf2731c453a9fe0f988f2a88956",
      "value": "  6%|▌         | 187/3000 [00:05&lt;02:32, 18.43it/s, reward=0.9, steps=38.9]"
     }
    },
    "1972d7d4c78d4afa97337d55859fc316": {
     "model_module": "@jupyter-widgets/controls",
     "model_module_version": "1.5.0",
     "model_name": "HTMLModel",
     "state": {
      "_dom_classes": [],
      "_model_module": "@jupyter-widgets/controls",
      "_model_module_version": "1.5.0",
      "_model_name": "HTMLModel",
      "_view_count": null,
      "_view_module": "@jupyter-widgets/controls",
      "_view_module_version": "1.5.0",
      "_view_name": "HTMLView",
      "description": "",
      "description_tooltip": null,
      "layout": "IPY_MODEL_ea3522ffcbfd406fb724d10607fb9ae5",
      "placeholder": "​",
      "style": "IPY_MODEL_c3fe4177a2b24312879b1e850a34bd53",
      "value": ""
     }
    },
    "1b034ea746bf4ba9ac221afa6f3c7eb7": {
     "model_module": "@jupyter-widgets/controls",
     "model_module_version": "1.5.0",
     "model_name": "HTMLModel",
     "state": {
      "_dom_classes": [],
      "_model_module": "@jupyter-widgets/controls",
      "_model_module_version": "1.5.0",
      "_model_name": "HTMLModel",
      "_view_count": null,
      "_view_module": "@jupyter-widgets/controls",
      "_view_module_version": "1.5.0",
      "_view_name": "HTMLView",
      "description": "",
      "description_tooltip": null,
      "layout": "IPY_MODEL_248cd5a315b546198c379a31c446ebf4",
      "placeholder": "​",
      "style": "IPY_MODEL_4a39240508a34c96b95734f00373993c",
      "value": "100%"
     }
    },
    "248cd5a315b546198c379a31c446ebf4": {
     "model_module": "@jupyter-widgets/base",
     "model_module_version": "1.2.0",
     "model_name": "LayoutModel",
     "state": {
      "_model_module": "@jupyter-widgets/base",
      "_model_module_version": "1.2.0",
      "_model_name": "LayoutModel",
      "_view_count": null,
      "_view_module": "@jupyter-widgets/base",
      "_view_module_version": "1.2.0",
      "_view_name": "LayoutView",
      "align_content": null,
      "align_items": null,
      "align_self": null,
      "border": null,
      "bottom": null,
      "display": null,
      "flex": null,
      "flex_flow": null,
      "grid_area": null,
      "grid_auto_columns": null,
      "grid_auto_flow": null,
      "grid_auto_rows": null,
      "grid_column": null,
      "grid_gap": null,
      "grid_row": null,
      "grid_template_areas": null,
      "grid_template_columns": null,
      "grid_template_rows": null,
      "height": null,
      "justify_content": null,
      "justify_items": null,
      "left": null,
      "margin": null,
      "max_height": null,
      "max_width": null,
      "min_height": null,
      "min_width": null,
      "object_fit": null,
      "object_position": null,
      "order": null,
      "overflow": null,
      "overflow_x": null,
      "overflow_y": null,
      "padding": null,
      "right": null,
      "top": null,
      "visibility": null,
      "width": null
     }
    },
    "2ec20d1f642a47c395fa0e838a72a03a": {
     "model_module": "@jupyter-widgets/base",
     "model_module_version": "1.2.0",
     "model_name": "LayoutModel",
     "state": {
      "_model_module": "@jupyter-widgets/base",
      "_model_module_version": "1.2.0",
      "_model_name": "LayoutModel",
      "_view_count": null,
      "_view_module": "@jupyter-widgets/base",
      "_view_module_version": "1.2.0",
      "_view_name": "LayoutView",
      "align_content": null,
      "align_items": null,
      "align_self": null,
      "border": null,
      "bottom": null,
      "display": null,
      "flex": null,
      "flex_flow": null,
      "grid_area": null,
      "grid_auto_columns": null,
      "grid_auto_flow": null,
      "grid_auto_rows": null,
      "grid_column": null,
      "grid_gap": null,
      "grid_row": null,
      "grid_template_areas": null,
      "grid_template_columns": null,
      "grid_template_rows": null,
      "height": null,
      "justify_content": null,
      "justify_items": null,
      "left": null,
      "margin": null,
      "max_height": null,
      "max_width": null,
      "min_height": null,
      "min_width": null,
      "object_fit": null,
      "object_position": null,
      "order": null,
      "overflow": null,
      "overflow_x": null,
      "overflow_y": null,
      "padding": null,
      "right": null,
      "top": null,
      "visibility": null,
      "width": null
     }
    },
    "2f477bf2731c453a9fe0f988f2a88956": {
     "model_module": "@jupyter-widgets/controls",
     "model_module_version": "1.5.0",
     "model_name": "DescriptionStyleModel",
     "state": {
      "_model_module": "@jupyter-widgets/controls",
      "_model_module_version": "1.5.0",
      "_model_name": "DescriptionStyleModel",
      "_view_count": null,
      "_view_module": "@jupyter-widgets/base",
      "_view_module_version": "1.2.0",
      "_view_name": "StyleView",
      "description_width": ""
     }
    },
    "3dfbc0e61d774f1f9c69d5973c9f92ec": {
     "model_module": "@jupyter-widgets/base",
     "model_module_version": "1.2.0",
     "model_name": "LayoutModel",
     "state": {
      "_model_module": "@jupyter-widgets/base",
      "_model_module_version": "1.2.0",
      "_model_name": "LayoutModel",
      "_view_count": null,
      "_view_module": "@jupyter-widgets/base",
      "_view_module_version": "1.2.0",
      "_view_name": "LayoutView",
      "align_content": null,
      "align_items": null,
      "align_self": null,
      "border": null,
      "bottom": null,
      "display": null,
      "flex": null,
      "flex_flow": null,
      "grid_area": null,
      "grid_auto_columns": null,
      "grid_auto_flow": null,
      "grid_auto_rows": null,
      "grid_column": null,
      "grid_gap": null,
      "grid_row": null,
      "grid_template_areas": null,
      "grid_template_columns": null,
      "grid_template_rows": null,
      "height": null,
      "justify_content": null,
      "justify_items": null,
      "left": null,
      "margin": null,
      "max_height": null,
      "max_width": null,
      "min_height": null,
      "min_width": null,
      "object_fit": null,
      "object_position": null,
      "order": null,
      "overflow": null,
      "overflow_x": null,
      "overflow_y": null,
      "padding": null,
      "right": null,
      "top": null,
      "visibility": null,
      "width": null
     }
    },
    "411be68ce8e54163818fce71de62fba0": {
     "model_module": "@jupyter-widgets/controls",
     "model_module_version": "1.5.0",
     "model_name": "FloatProgressModel",
     "state": {
      "_dom_classes": [],
      "_model_module": "@jupyter-widgets/controls",
      "_model_module_version": "1.5.0",
      "_model_name": "FloatProgressModel",
      "_view_count": null,
      "_view_module": "@jupyter-widgets/controls",
      "_view_module_version": "1.5.0",
      "_view_name": "ProgressView",
      "bar_style": "danger",
      "description": "",
      "description_tooltip": null,
      "layout": "IPY_MODEL_cf9b4f4e66314e6d94be7de53df1438d",
      "max": 3000,
      "min": 0,
      "orientation": "horizontal",
      "style": "IPY_MODEL_63c055a0942b458aae5ac6fb02da5fe9",
      "value": 187
     }
    },
    "4a39240508a34c96b95734f00373993c": {
     "model_module": "@jupyter-widgets/controls",
     "model_module_version": "1.5.0",
     "model_name": "DescriptionStyleModel",
     "state": {
      "_model_module": "@jupyter-widgets/controls",
      "_model_module_version": "1.5.0",
      "_model_name": "DescriptionStyleModel",
      "_view_count": null,
      "_view_module": "@jupyter-widgets/base",
      "_view_module_version": "1.2.0",
      "_view_name": "StyleView",
      "description_width": ""
     }
    },
    "502041711d1e41c78fb5b766fbc33032": {
     "model_module": "@jupyter-widgets/controls",
     "model_module_version": "1.5.0",
     "model_name": "ProgressStyleModel",
     "state": {
      "_model_module": "@jupyter-widgets/controls",
      "_model_module_version": "1.5.0",
      "_model_name": "ProgressStyleModel",
      "_view_count": null,
      "_view_module": "@jupyter-widgets/base",
      "_view_module_version": "1.2.0",
      "_view_name": "StyleView",
      "bar_color": null,
      "description_width": ""
     }
    },
    "51dbf9e24b5642e885ce262382b01d79": {
     "model_module": "@jupyter-widgets/controls",
     "model_module_version": "1.5.0",
     "model_name": "HBoxModel",
     "state": {
      "_dom_classes": [],
      "_model_module": "@jupyter-widgets/controls",
      "_model_module_version": "1.5.0",
      "_model_name": "HBoxModel",
      "_view_count": null,
      "_view_module": "@jupyter-widgets/controls",
      "_view_module_version": "1.5.0",
      "_view_name": "HBoxView",
      "box_style": "",
      "children": [
       "IPY_MODEL_1b034ea746bf4ba9ac221afa6f3c7eb7",
       "IPY_MODEL_90ad858ef926480d8461aa9d038c46d9",
       "IPY_MODEL_88e728635aa44442a3036581cd04b44b"
      ],
      "layout": "IPY_MODEL_d0382f49a3164542b0587e765289a683"
     }
    },
    "5ce5f8bdcc56434a912c5415bc4dda59": {
     "model_module": "@jupyter-widgets/base",
     "model_module_version": "1.2.0",
     "model_name": "LayoutModel",
     "state": {
      "_model_module": "@jupyter-widgets/base",
      "_model_module_version": "1.2.0",
      "_model_name": "LayoutModel",
      "_view_count": null,
      "_view_module": "@jupyter-widgets/base",
      "_view_module_version": "1.2.0",
      "_view_name": "LayoutView",
      "align_content": null,
      "align_items": null,
      "align_self": null,
      "border": null,
      "bottom": null,
      "display": null,
      "flex": null,
      "flex_flow": null,
      "grid_area": null,
      "grid_auto_columns": null,
      "grid_auto_flow": null,
      "grid_auto_rows": null,
      "grid_column": null,
      "grid_gap": null,
      "grid_row": null,
      "grid_template_areas": null,
      "grid_template_columns": null,
      "grid_template_rows": null,
      "height": null,
      "justify_content": null,
      "justify_items": null,
      "left": null,
      "margin": null,
      "max_height": null,
      "max_width": null,
      "min_height": null,
      "min_width": null,
      "object_fit": null,
      "object_position": null,
      "order": null,
      "overflow": null,
      "overflow_x": null,
      "overflow_y": null,
      "padding": null,
      "right": null,
      "top": null,
      "visibility": null,
      "width": null
     }
    },
    "63c055a0942b458aae5ac6fb02da5fe9": {
     "model_module": "@jupyter-widgets/controls",
     "model_module_version": "1.5.0",
     "model_name": "ProgressStyleModel",
     "state": {
      "_model_module": "@jupyter-widgets/controls",
      "_model_module_version": "1.5.0",
      "_model_name": "ProgressStyleModel",
      "_view_count": null,
      "_view_module": "@jupyter-widgets/base",
      "_view_module_version": "1.2.0",
      "_view_name": "StyleView",
      "bar_color": null,
      "description_width": ""
     }
    },
    "86349c4de9c1473d9be0ce8a8aabbbec": {
     "model_module": "@jupyter-widgets/base",
     "model_module_version": "1.2.0",
     "model_name": "LayoutModel",
     "state": {
      "_model_module": "@jupyter-widgets/base",
      "_model_module_version": "1.2.0",
      "_model_name": "LayoutModel",
      "_view_count": null,
      "_view_module": "@jupyter-widgets/base",
      "_view_module_version": "1.2.0",
      "_view_name": "LayoutView",
      "align_content": null,
      "align_items": null,
      "align_self": null,
      "border": null,
      "bottom": null,
      "display": null,
      "flex": null,
      "flex_flow": null,
      "grid_area": null,
      "grid_auto_columns": null,
      "grid_auto_flow": null,
      "grid_auto_rows": null,
      "grid_column": null,
      "grid_gap": null,
      "grid_row": null,
      "grid_template_areas": null,
      "grid_template_columns": null,
      "grid_template_rows": null,
      "height": null,
      "justify_content": null,
      "justify_items": null,
      "left": null,
      "margin": null,
      "max_height": null,
      "max_width": null,
      "min_height": null,
      "min_width": null,
      "object_fit": null,
      "object_position": null,
      "order": null,
      "overflow": null,
      "overflow_x": null,
      "overflow_y": null,
      "padding": null,
      "right": null,
      "top": null,
      "visibility": null,
      "width": null
     }
    },
    "88e728635aa44442a3036581cd04b44b": {
     "model_module": "@jupyter-widgets/controls",
     "model_module_version": "1.5.0",
     "model_name": "HTMLModel",
     "state": {
      "_dom_classes": [],
      "_model_module": "@jupyter-widgets/controls",
      "_model_module_version": "1.5.0",
      "_model_name": "HTMLModel",
      "_view_count": null,
      "_view_module": "@jupyter-widgets/controls",
      "_view_module_version": "1.5.0",
      "_view_name": "HTMLView",
      "description": "",
      "description_tooltip": null,
      "layout": "IPY_MODEL_5ce5f8bdcc56434a912c5415bc4dda59",
      "placeholder": "​",
      "style": "IPY_MODEL_be872e34d991430f952947746d0f67b1",
      "value": " 20/20 [00:00&lt;00:00, 412.45it/s]"
     }
    },
    "90ad858ef926480d8461aa9d038c46d9": {
     "model_module": "@jupyter-widgets/controls",
     "model_module_version": "1.5.0",
     "model_name": "FloatProgressModel",
     "state": {
      "_dom_classes": [],
      "_model_module": "@jupyter-widgets/controls",
      "_model_module_version": "1.5.0",
      "_model_name": "FloatProgressModel",
      "_view_count": null,
      "_view_module": "@jupyter-widgets/controls",
      "_view_module_version": "1.5.0",
      "_view_name": "ProgressView",
      "bar_style": "success",
      "description": "",
      "description_tooltip": null,
      "layout": "IPY_MODEL_3dfbc0e61d774f1f9c69d5973c9f92ec",
      "max": 20,
      "min": 0,
      "orientation": "horizontal",
      "style": "IPY_MODEL_502041711d1e41c78fb5b766fbc33032",
      "value": 20
     }
    },
    "be872e34d991430f952947746d0f67b1": {
     "model_module": "@jupyter-widgets/controls",
     "model_module_version": "1.5.0",
     "model_name": "DescriptionStyleModel",
     "state": {
      "_model_module": "@jupyter-widgets/controls",
      "_model_module_version": "1.5.0",
      "_model_name": "DescriptionStyleModel",
      "_view_count": null,
      "_view_module": "@jupyter-widgets/base",
      "_view_module_version": "1.2.0",
      "_view_name": "StyleView",
      "description_width": ""
     }
    },
    "c3fe4177a2b24312879b1e850a34bd53": {
     "model_module": "@jupyter-widgets/controls",
     "model_module_version": "1.5.0",
     "model_name": "DescriptionStyleModel",
     "state": {
      "_model_module": "@jupyter-widgets/controls",
      "_model_module_version": "1.5.0",
      "_model_name": "DescriptionStyleModel",
      "_view_count": null,
      "_view_module": "@jupyter-widgets/base",
      "_view_module_version": "1.2.0",
      "_view_name": "StyleView",
      "description_width": ""
     }
    },
    "cf9b4f4e66314e6d94be7de53df1438d": {
     "model_module": "@jupyter-widgets/base",
     "model_module_version": "1.2.0",
     "model_name": "LayoutModel",
     "state": {
      "_model_module": "@jupyter-widgets/base",
      "_model_module_version": "1.2.0",
      "_model_name": "LayoutModel",
      "_view_count": null,
      "_view_module": "@jupyter-widgets/base",
      "_view_module_version": "1.2.0",
      "_view_name": "LayoutView",
      "align_content": null,
      "align_items": null,
      "align_self": null,
      "border": null,
      "bottom": null,
      "display": null,
      "flex": null,
      "flex_flow": null,
      "grid_area": null,
      "grid_auto_columns": null,
      "grid_auto_flow": null,
      "grid_auto_rows": null,
      "grid_column": null,
      "grid_gap": null,
      "grid_row": null,
      "grid_template_areas": null,
      "grid_template_columns": null,
      "grid_template_rows": null,
      "height": null,
      "justify_content": null,
      "justify_items": null,
      "left": null,
      "margin": null,
      "max_height": null,
      "max_width": null,
      "min_height": null,
      "min_width": null,
      "object_fit": null,
      "object_position": null,
      "order": null,
      "overflow": null,
      "overflow_x": null,
      "overflow_y": null,
      "padding": null,
      "right": null,
      "top": null,
      "visibility": null,
      "width": null
     }
    },
    "d0382f49a3164542b0587e765289a683": {
     "model_module": "@jupyter-widgets/base",
     "model_module_version": "1.2.0",
     "model_name": "LayoutModel",
     "state": {
      "_model_module": "@jupyter-widgets/base",
      "_model_module_version": "1.2.0",
      "_model_name": "LayoutModel",
      "_view_count": null,
      "_view_module": "@jupyter-widgets/base",
      "_view_module_version": "1.2.0",
      "_view_name": "LayoutView",
      "align_content": null,
      "align_items": null,
      "align_self": null,
      "border": null,
      "bottom": null,
      "display": null,
      "flex": null,
      "flex_flow": null,
      "grid_area": null,
      "grid_auto_columns": null,
      "grid_auto_flow": null,
      "grid_auto_rows": null,
      "grid_column": null,
      "grid_gap": null,
      "grid_row": null,
      "grid_template_areas": null,
      "grid_template_columns": null,
      "grid_template_rows": null,
      "height": null,
      "justify_content": null,
      "justify_items": null,
      "left": null,
      "margin": null,
      "max_height": null,
      "max_width": null,
      "min_height": null,
      "min_width": null,
      "object_fit": null,
      "object_position": null,
      "order": null,
      "overflow": null,
      "overflow_x": null,
      "overflow_y": null,
      "padding": null,
      "right": null,
      "top": null,
      "visibility": null,
      "width": null
     }
    },
    "d0858e60ceff4fe6929e98fc739093e9": {
     "model_module": "@jupyter-widgets/controls",
     "model_module_version": "1.5.0",
     "model_name": "HBoxModel",
     "state": {
      "_dom_classes": [],
      "_model_module": "@jupyter-widgets/controls",
      "_model_module_version": "1.5.0",
      "_model_name": "HBoxModel",
      "_view_count": null,
      "_view_module": "@jupyter-widgets/controls",
      "_view_module_version": "1.5.0",
      "_view_name": "HBoxView",
      "box_style": "",
      "children": [
       "IPY_MODEL_1972d7d4c78d4afa97337d55859fc316",
       "IPY_MODEL_411be68ce8e54163818fce71de62fba0",
       "IPY_MODEL_0943ac94767145b4a388fbccc143f818"
      ],
      "layout": "IPY_MODEL_86349c4de9c1473d9be0ce8a8aabbbec"
     }
    },
    "ea3522ffcbfd406fb724d10607fb9ae5": {
     "model_module": "@jupyter-widgets/base",
     "model_module_version": "1.2.0",
     "model_name": "LayoutModel",
     "state": {
      "_model_module": "@jupyter-widgets/base",
      "_model_module_version": "1.2.0",
      "_model_name": "LayoutModel",
      "_view_count": null,
      "_view_module": "@jupyter-widgets/base",
      "_view_module_version": "1.2.0",
      "_view_name": "LayoutView",
      "align_content": null,
      "align_items": null,
      "align_self": null,
      "border": null,
      "bottom": null,
      "display": null,
      "flex": null,
      "flex_flow": null,
      "grid_area": null,
      "grid_auto_columns": null,
      "grid_auto_flow": null,
      "grid_auto_rows": null,
      "grid_column": null,
      "grid_gap": null,
      "grid_row": null,
      "grid_template_areas": null,
      "grid_template_columns": null,
      "grid_template_rows": null,
      "height": null,
      "justify_content": null,
      "justify_items": null,
      "left": null,
      "margin": null,
      "max_height": null,
      "max_width": null,
      "min_height": null,
      "min_width": null,
      "object_fit": null,
      "object_position": null,
      "order": null,
      "overflow": null,
      "overflow_x": null,
      "overflow_y": null,
      "padding": null,
      "right": null,
      "top": null,
      "visibility": null,
      "width": null
     }
    }
   }
  }
 },
 "nbformat": 4,
 "nbformat_minor": 0
}
