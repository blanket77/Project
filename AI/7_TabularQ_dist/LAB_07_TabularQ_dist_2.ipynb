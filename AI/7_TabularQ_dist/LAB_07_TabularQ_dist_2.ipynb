{
  "cells": [
    {
      "cell_type": "markdown",
      "metadata": {
        "id": "KgZcH2gbZQn9"
      },
      "source": [
        "AI Programming - SW Lee"
      ]
    },
    {
      "cell_type": "markdown",
      "metadata": {
        "id": "3m-CUffwbJky"
      },
      "source": []
    },
    {
      "cell_type": "markdown",
      "metadata": {
        "id": "NcejT59TZQn_"
      },
      "source": [
        "# Lab 07: Tabular Q Learning\n",
        "## Exercise: Frozen Lake, Taxi"
      ]
    },
    {
      "cell_type": "markdown",
      "metadata": {
        "id": "UbDyVOIeZQoA"
      },
      "source": [
        "### Prepare Library Packages"
      ]
    },
    {
      "cell_type": "code",
      "execution_count": 2,
      "metadata": {
        "colab": {
          "base_uri": "https://localhost:8080/"
        },
        "id": "P49m4JqBZQoA",
        "outputId": "d4c18121-fd43-4010-ae30-adde65b15e8d"
      },
      "outputs": [
        {
          "output_type": "stream",
          "name": "stdout",
          "text": [
            "Collecting gymnasium\n",
            "  Downloading gymnasium-1.0.0-py3-none-any.whl.metadata (9.5 kB)\n",
            "Requirement already satisfied: numpy>=1.21.0 in /usr/local/lib/python3.10/dist-packages (from gymnasium) (1.26.4)\n",
            "Requirement already satisfied: cloudpickle>=1.2.0 in /usr/local/lib/python3.10/dist-packages (from gymnasium) (3.1.0)\n",
            "Requirement already satisfied: typing-extensions>=4.3.0 in /usr/local/lib/python3.10/dist-packages (from gymnasium) (4.12.2)\n",
            "Collecting farama-notifications>=0.0.1 (from gymnasium)\n",
            "  Downloading Farama_Notifications-0.0.4-py3-none-any.whl.metadata (558 bytes)\n",
            "Downloading gymnasium-1.0.0-py3-none-any.whl (958 kB)\n",
            "\u001b[2K   \u001b[90m━━━━━━━━━━━━━━━━━━━━━━━━━━━━━━━━━━━━━━━━\u001b[0m \u001b[32m958.1/958.1 kB\u001b[0m \u001b[31m16.1 MB/s\u001b[0m eta \u001b[36m0:00:00\u001b[0m\n",
            "\u001b[?25hDownloading Farama_Notifications-0.0.4-py3-none-any.whl (2.5 kB)\n",
            "Installing collected packages: farama-notifications, gymnasium\n",
            "Successfully installed farama-notifications-0.0.4 gymnasium-1.0.0\n"
          ]
        }
      ],
      "source": [
        "# Check if this code runs in Colab\n",
        "RunningInCOLAB = 'google.colab' in str(get_ipython()) # Colab에서 실행중인지 확인\n",
        "\n",
        "if RunningInCOLAB: # Colab에서 실행중이라면\n",
        "    !pip install gymnasium # gymnasium 설치\n",
        "    from tqdm.notebook import tqdm # Colab에서는 tqdm.notebook을 사용\n",
        "else:\n",
        "    from tqdm import tqdm # 로컬 환경에서는 tqdm을 사용"
      ]
    },
    {
      "cell_type": "code",
      "execution_count": 3,
      "metadata": {
        "id": "cCxMbYiRZQoC"
      },
      "outputs": [],
      "source": [
        "import numpy as np # numpy 라이브러리 임포트\n",
        "import matplotlib.pyplot as plt # matplotlib 라이브러리 임포트\n",
        "import gymnasium as gym # gymnasium 라이브러리 임포트\n",
        "from gymnasium import wrappers # gymnasium.wrappers 라이브러리 임포트"
      ]
    },
    {
      "cell_type": "code",
      "execution_count": 4,
      "metadata": {
        "colab": {
          "base_uri": "https://localhost:8080/",
          "height": 35
        },
        "id": "Z56s5HK5ZQoC",
        "outputId": "8218ea43-80b5-4413-98f8-347c87270c72"
      },
      "outputs": [
        {
          "output_type": "execute_result",
          "data": {
            "text/plain": [
              "'1.0.0'"
            ],
            "application/vnd.google.colaboratory.intrinsic+json": {
              "type": "string"
            }
          },
          "metadata": {},
          "execution_count": 4
        }
      ],
      "source": [
        "gym.__version__ # gymnasium 버전 확인"
      ]
    },
    {
      "cell_type": "markdown",
      "metadata": {
        "id": "6mlmol4iZQoE"
      },
      "source": [
        "### Select Environment"
      ]
    },
    {
      "cell_type": "markdown",
      "metadata": {
        "id": "K3gIWylYZQoE"
      },
      "source": [
        "**Frozen Lake**<br>\n",
        "https://gymnasium.farama.org/environments/toy_text/frozen_lake/\n",
        "\n",
        "\n",
        "**Taxi**<br>\n",
        "https://gymnasium.farama.org/environments/toy_text/taxi/\n",
        "\n",
        "**Blackjack**<br>\n",
        "https://gymnasium.farama.org/environments/toy_text/blackjack/"
      ]
    },
    {
      "cell_type": "code",
      "execution_count": 5,
      "metadata": {
        "id": "iIh7yBNyZQoE"
      },
      "outputs": [],
      "source": [
        "# select evironment\n",
        "# Text Game:    0 for FrozenLake 4x4, 1 for Taxi, 2 for Blackjack\n",
        "\n",
        "SELECT_ENV = 2 # 환경 선택"
      ]
    },
    {
      "cell_type": "code",
      "execution_count": 6,
      "metadata": {
        "id": "KcuLN8NNZQoF"
      },
      "outputs": [],
      "source": [
        "if SELECT_ENV == 0: # Frozen Lake\n",
        "    env_name, res_prefix = 'FrozenLake-v1', 'lak4' # 환경 이름과 결과 파일명 설정\n",
        "    max_episodes, max_ep_steps, goal_score = 3000, 500, 0.8 # 최대 에피소드 수, 최대 에피소드 단계 수, 목표 점수 설정\n",
        "    val_ep_num, lr_rate, discount_rate = 20, 0.8, 0.95 # 검증 에피소드 수, 학습률, 할인율 설정\n",
        "elif SELECT_ENV == 1: # Taxi\n",
        "    env_name, res_prefix = 'Taxi-v3', 'taxi' # 환경 이름과 결과 파일명 설정\n",
        "    max_episodes, max_ep_steps, goal_score = 1000, 500, 8.0 # 최대 에피소드 수, 최대 에피소드 단계 수, 목표 점수 설정\n",
        "    val_ep_num, lr_rate, discount_rate = 20, 0.8, 0.95 # 검증 에피소드 수, 학습률, 할인율 설정\n",
        "elif SELECT_ENV == 2: # Blackjack\n",
        "    env_name, res_prefix = 'Blackjack-v1', 'blkj' # 환경 이름과 결과 파일명 설정\n",
        "    max_episodes, max_ep_steps, goal_score = 5000, 10, -0.05 # 최대 에피소드 수, 최대 에피소드 단계 수, 목표 점수 설정\n",
        "    val_ep_num, lr_rate, discount_rate = 1000, 0.1, 0.95 # 검증 에피소드 수, 학습률, 할인율 설정\n",
        "else: assert False, 'environment selection error' # 환경 선택 오류\n",
        "\n",
        "def create_env(): # 환경 생성 함수\n",
        "    if   SELECT_ENV == 0: # Forzen Lake\n",
        "        env = gym.make(env_name, desc=None, map_name='4x4', is_slippery=True, render_mode='rgb_array') # 환경 생성\n",
        "    elif   SELECT_ENV == 1: # Taxi\n",
        "        env = gym.make(env_name, render_mode='rgb_array') # 환경 생성\n",
        "    elif   SELECT_ENV == 2: # Blackjack\n",
        "        env = gym.make(env_name, natural=False, sab=False, render_mode='rgb_array') # 환경 생성\n",
        "    else: pass # 환경 선택 오류\n",
        "    return env # 환경 반환"
      ]
    },
    {
      "cell_type": "code",
      "execution_count": 7,
      "metadata": {
        "id": "Hvp0RVmFZQoF"
      },
      "outputs": [],
      "source": [
        "def env_reset(env): # 환경 초기화 함수\n",
        "    observation = env.reset() # 환경 초기화\n",
        "    obs = observation[0] if type(observation)==tuple else observation # 관찰값 설정\n",
        "    if SELECT_ENV == 2: # Blackjack\n",
        "        state = obs[0] + 32 * obs[2] + 64 * obs[1] # 상태 설정\n",
        "    else: state = obs # 상태 설정\n",
        "    return state # 상태 반환\n",
        "\n",
        "def env_step(env, action): # 환경 단계 함수\n",
        "    observation = env.step(action) # 환경 단계\n",
        "    if SELECT_ENV == 2: # Blackjack\n",
        "        state = observation[0][0] + 32 * observation[0][2] + 64 * observation[0][1] # 상태 설정\n",
        "    else: state = observation[0] # 상태 설정\n",
        "    reward = observation[1] # 보상 설정\n",
        "    done = observation[2] or observation[3] if len(observation)>4 else observation[2] # 종료 여부 설정\n",
        "    return state, reward, done # 상태, 보상, 종료 여부 반환"
      ]
    },
    {
      "cell_type": "code",
      "execution_count": 8,
      "metadata": {
        "id": "OJTqT4eyZQoG"
      },
      "outputs": [],
      "source": [
        "env = create_env() # 환경 생성\n",
        "state = env_reset(env) # 환경 초기화\n",
        "state, reward, done = env_step(env, env.action_space.sample()) # 환경 단계"
      ]
    },
    {
      "cell_type": "markdown",
      "metadata": {
        "id": "eMox6GD0ZQoG"
      },
      "source": [
        "### Check and Show Environment Variables"
      ]
    },
    {
      "cell_type": "code",
      "execution_count": 9,
      "metadata": {
        "id": "O4UQpmZ2ZQoG"
      },
      "outputs": [],
      "source": [
        "action_shape = env.action_space.shape # 행동 공간 모양 설정\n",
        "action_space_type = type(env.action_space) # 행동 공간 타입 설정\n",
        "\n",
        "if action_space_type==gym.spaces.discrete.Discrete: # 행동 공간 타입이 이산형일 경우\n",
        "    actn_space = 'DISCRETE' # 행동 공간 설정\n",
        "    action_shape = (1,) # 행동 모양 설정\n",
        "    action_dims = 1 # 행동 차원 설정\n",
        "    action_range = env.action_space.n # 행동 범위 설정\n",
        "    num_actions = action_range  # number of actions is action range for DISCRETE actions\n",
        "    action_batch_shape = (None, action_range) # 행동 배치 모양 설정\n",
        "elif action_space_type==gym.spaces.box.Box: # 행동 공간 타입이 상자형일 경우\n",
        "    actn_space = 'CONTINUOUS' # 행동 공간 설정\n",
        "    action_dims = action_shape[0] # 행동 차원 설정\n",
        "    actn_uppr_bound = env.action_space.high[0] # 행동 상한 설정\n",
        "    actn_lowr_bound = env.action_space.low[0] # 행동 하한 설정\n",
        "    action_range = (actn_uppr_bound - actn_lowr_bound) # x0.5 for tanh output\n",
        "    action_batch_shape = tuple([None]+[x for x in action_shape]) # 행동 배치 모양 설정\n",
        "    num_actions = action_dims   # number of actions is action dimension for CONTINUOUS actions\n",
        "else: assert False, 'other action space type are not supported'\n",
        "\n",
        "observation_space_type = type(env.observation_space) # 관찰 공간 타입 설정\n",
        "observation_shape = env.observation_space.shape # 관찰 공간 모양 설정\n",
        "\n",
        "if observation_space_type==gym.spaces.discrete.Discrete: # 관찰 공간 타입이 이산형일 경우\n",
        "    observation_shape = (1,) # 관찰 공간 모양 설정\n",
        "    num_states = env.observation_space.n # 상태 수 설정\n",
        "elif observation_space_type==gym.spaces.box.Box: # 관찰 공간 타입이 상자형일 경우\n",
        "    num_states = observation_shape[0] # 상태 수 설정\n",
        "elif observation_space_type==gym.spaces.tuple.Tuple: # 관찰 공간 타입이 튜플형일 경우\n",
        "    observation_shape = tuple([x.n for x in env.observation_space]) # 관찰 공간 모양 설정\n",
        "    num_states = np.prod(observation_shape) # 상태 수 설정\n",
        "else: print('observation space type error') # 관찰 공간 타입 오류\n",
        "\n",
        "if SELECT_ENV == 2: # Blackjack\n",
        "    state_shape = (1,) # 상태 모양 설정\n",
        "    state_batch_shape = (None,1) # 상태 배치 모양 설정\n",
        "else:\n",
        "    state_shape = observation_shape # 상태 모양 설정\n",
        "    state_batch_shape = tuple([None]+[x for x in observation_shape]) # 상태 배치 모양 설정\n",
        "\n",
        "value_shape = (1,) # 가치 모양 설정\n",
        "num_values = 1 # 가치 수 설정"
      ]
    },
    {
      "cell_type": "code",
      "execution_count": 10,
      "metadata": {
        "colab": {
          "base_uri": "https://localhost:8080/"
        },
        "id": "wN-kPOC_ZQoH",
        "outputId": "c9a65dd9-5eef-4411-d6de-e3a21a0b8bb7"
      },
      "outputs": [
        {
          "output_type": "stream",
          "name": "stdout",
          "text": [
            "Action space  <class 'gymnasium.spaces.discrete.Discrete'>\n",
            "Action shape  (1,)\n",
            "Action dimensions  1\n",
            "Action range  2\n",
            "Action batch shape  (None, 2)\n",
            "Observation space  <class 'gymnasium.spaces.tuple.Tuple'>\n",
            "Observation shape  (32, 11, 2)\n",
            "Size of State Space  704\n",
            "State shape  (1,)\n",
            "State batch shape  (None, 1)\n",
            "Vallue shape  (1,)\n",
            "Value dimensions  1\n"
          ]
        }
      ],
      "source": [
        "print('Action space ', action_space_type) # 행동 공간 출력\n",
        "print('Action shape ', action_shape) # 행동 모양 출력\n",
        "print('Action dimensions ', action_dims) # 행동 차원 출력\n",
        "print('Action range ', action_range) # 행동 범위 출력\n",
        "if action_space_type==gym.spaces.box.Box: # 행동 공간 타입이 상자형일 경우\n",
        "    print('Max Value of Action ', actn_uppr_bound) # 행동 상한 출력\n",
        "    print('Min Value of Action ', actn_lowr_bound) # 행동 하한 출력\n",
        "else: pass # 그 외의 경우\n",
        "print('Action batch shape ', action_batch_shape) # 행동 배치 모양 출력\n",
        "\n",
        "print('Observation space ', observation_space_type) # 관찰 공간 출력\n",
        "print('Observation shape ', observation_shape) # 관찰 공간 모양 출력\n",
        "print('Size of State Space ', num_states) # 상태 공간 크기 출력\n",
        "print('State shape ', state_shape) # 상태 모양 출력\n",
        "print('State batch shape ', state_batch_shape) # 상태 배치 모양 출력\n",
        "\n",
        "print('Vallue shape ', value_shape) # 가치 모양 출력\n",
        "print('Value dimensions ', num_values) # 가치 차원 출력"
      ]
    },
    {
      "cell_type": "markdown",
      "metadata": {
        "id": "d4CjRJoLZQoH"
      },
      "source": [
        "### Define and Initialize The Agent\n",
        "### **Exercise:** Define Q-table (Numpy)"
      ]
    },
    {
      "cell_type": "code",
      "execution_count": 11,
      "metadata": {
        "colab": {
          "base_uri": "https://localhost:8080/"
        },
        "id": "OQ9qPHIXZQoH",
        "outputId": "51e822cc-31bd-4e7e-ff88-6f3469e4782e"
      },
      "outputs": [
        {
          "output_type": "stream",
          "name": "stdout",
          "text": [
            "(704, 2)\n"
          ]
        }
      ],
      "source": [
        "### START CODE HERE ###\n",
        "\n",
        "Q_table = np.zeros((num_states, action_range))  # define q-table\n",
        "\n",
        "###  END CODE HERE  ###\n",
        "\n",
        "print(Q_table.shape) # Q 테이블 모양 출력"
      ]
    },
    {
      "cell_type": "markdown",
      "metadata": {
        "id": "6JEcEMHBZQoI"
      },
      "source": [
        "### Define and Initialize Hyperparameters"
      ]
    },
    {
      "cell_type": "code",
      "execution_count": 12,
      "metadata": {
        "id": "Ma9L6lNcZQoI"
      },
      "outputs": [],
      "source": [
        "total_episodes = max_episodes   # Total episodes\n",
        "max_steps = max_ep_steps        # Max steps per episode\n",
        "learning_rate = lr_rate         # Learning rate\n",
        "gamma = discount_rate           # Discounting rate\n",
        "val_episodes = val_ep_num       # number of validation episodes\n"
      ]
    },
    {
      "cell_type": "markdown",
      "metadata": {
        "id": "xHDAjGzKZQoI"
      },
      "source": [
        "### Define Epsilon Function\n",
        "\n",
        "This is an example of exponential decay epsilon function. One of easist epsilon decay functions is simply to multiply 0.9. You can define your own epsilon function."
      ]
    },
    {
      "cell_type": "code",
      "execution_count": 13,
      "metadata": {
        "id": "tdkyxg6FZQoI"
      },
      "outputs": [],
      "source": [
        "# Exploration parameters for epsilon greedy strategy\n",
        "class Epsilon: # 엡실론 클래스\n",
        "    def __init__(self, max_steps):          # initialize epsilon\n",
        "        self.explore_start = 1.0            # exploration probability at start\n",
        "        self.explore_stop = 0.01            # minimum exploration probability\n",
        "        self.decay_rate = 20.0/max_steps    # exponential decay rate for exploration prob (4.6 ~ max_step = 0.01)\n",
        "        self.steps = 0\n",
        "\n",
        "    def get_epsilon(self): # 엡실론 반환 함수\n",
        "        eps = (self.explore_stop # calculate new epsilon\n",
        "            + (self.explore_start - self.explore_stop) * np.exp(-self.decay_rate * self.steps)) # 새 엡실론 계산\n",
        "        self.steps += 1 # 엡실론 증가\n",
        "        return eps # 엡실론 반환"
      ]
    },
    {
      "cell_type": "markdown",
      "metadata": {
        "id": "21RjccLcZQoI"
      },
      "source": [
        "### Learning Procedures\n",
        "\n",
        "Q-learning is an off-policy TD control algorithm.\n",
        "\n",
        "$$ Q(s_t, a_t) \\leftarrow Q(s_t, a_t) + \\alpha (r_{t} + \\gamma \\max_{a} Q(s_{t+1},a) - Q(s_t,a_t) ) $$\n",
        "\n",
        "The target policy $\\pi$ is greedy w.r.t. $Q(s,a)$\n",
        "\n",
        "$$ \\pi (s_{t}) = \\arg \\max_{a^\\prime} Q(s_{t},a^\\prime) $$\n",
        "\n",
        "### **Exercise:** Define Training Loop and Evaluation Loop"
      ]
    },
    {
      "cell_type": "code",
      "execution_count": 14,
      "metadata": {
        "id": "dIdDMLf0ZQoI"
      },
      "outputs": [],
      "source": [
        "def evaluate_policy(env, qtable, num_average, images=None): # 정책 평가 함수\n",
        "\n",
        "    total_reward = 0.0 # 총 보상 초기화\n",
        "    total_steps = 0  # 총 단계 초기화\n",
        "    episodes_to_play = num_average # 평균을 내기 위한 에피소드 수\n",
        "    for _ in range(episodes_to_play):                   # Play n episode and take the average\n",
        "        state = env_reset(env) # reset the environment\n",
        "        if images!=None: images.append(env.render()) # 환경 렌더링\n",
        "        done = False # 종료 여부 초기화\n",
        "        episode_reward = 0.0 # 에피소드 보상 초기화\n",
        "        while not done: # 종료되지 않을 때까지\n",
        "\n",
        "            ### START CODE HERE ###\n",
        "\n",
        "            action = np.argmax(qtable[state, :])            # get an action from q-table\n",
        "            next_state, reward, done = env_step(env, action)  # take action and observe outcomes\n",
        "\n",
        "            ###  END CODE HERE  ###\n",
        "\n",
        "            if images!=None: images.append(env.render()) # 환경 렌더링\n",
        "            state = next_state                          # update state\n",
        "            episode_reward += reward # 에피소드 보상 증가\n",
        "            total_steps += 1 # 총 단계 증가\n",
        "        total_reward += episode_reward # 총 보상 증가\n",
        "    average_reward = total_reward / episodes_to_play    # take the average reward of evaluations\n",
        "    average_steps = total_steps / episodes_to_play      # take the average steps of evaluations\n",
        "\n",
        "    return average_reward, average_steps, images # 평균 보상, 평균 단계, 이미지 반환\n"
      ]
    },
    {
      "cell_type": "code",
      "execution_count": 15,
      "metadata": {
        "colab": {
          "base_uri": "https://localhost:8080/",
          "height": 67,
          "referenced_widgets": [
            "edc72b124af1499aa3eb70adb5f25a41",
            "0b8a1140bf1a401f8c43924b3a9e76cd",
            "12c8fcab367548a1bd854acc1303e835",
            "a2b15de2081440e38a555a568e0b89af",
            "596d3750d66b42438584bcf6da1c8d2f",
            "1806fd1860ec47f492b4af98d86cc59a",
            "fa87e1fe4daf4c69ab9700dac6835bc8",
            "f5eea219c6a442ca940fb5d220217de0",
            "8f6358062be743de84b517b2eae46f80",
            "a22f7d7ae2e446d7b13ba8fe821102a6",
            "b08574ec328e43028e6504464fcac4a1"
          ]
        },
        "id": "CQUsWQRZZQoJ",
        "outputId": "62003989-81de-47f1-edea-1b43ed9ac7e6"
      },
      "outputs": [
        {
          "output_type": "display_data",
          "data": {
            "text/plain": [
              "  0%|          | 0/5000 [00:00<?, ?it/s]"
            ],
            "application/vnd.jupyter.widget-view+json": {
              "version_major": 2,
              "version_minor": 0,
              "model_id": "edc72b124af1499aa3eb70adb5f25a41"
            }
          },
          "metadata": {}
        },
        {
          "output_type": "stream",
          "name": "stdout",
          "text": [
            "episodes:  446, final_reward -0.04\n"
          ]
        }
      ],
      "source": [
        "history = {'rewards' : []}                          # logs of rewards\n",
        "epsF = Epsilon(total_episodes)                      # generate epsilon object\n",
        "\n",
        "pbar = tqdm(range(total_episodes), bar_format='{l_bar}{bar:10}{r_bar}{bar:-10b}') # 프로그레스 바 설정\n",
        "\n",
        "for episodes in pbar: # 에피소드 반복\n",
        "\n",
        "    # initialize variables for a new episode\n",
        "    epis_rewards = 0                                # episode reward\n",
        "    epis_steps = 0                                  # steps for an episode\n",
        "    done = False                                    # episode end flag\n",
        "\n",
        "    state = env_reset(env)                          # Reset the environment\n",
        "\n",
        "    epsilon = epsF.get_epsilon()                    # get new epsilon value\n",
        "\n",
        "    while not done:                                 # simulate to the terminal state of the episode\n",
        "\n",
        "        ### START CODE HERE ###\n",
        "\n",
        "        explore_probability = np.random.uniform(0, 1)    # get a random number for exploration decision\n",
        "        if explore_probability > epsilon:\n",
        "            action = np.argmax(Q_table[state, :])        # exploitation: choose the action with max Q-value\n",
        "        else:\n",
        "            action = np.random.randint(0, action_range)  # exploration: choose a random action\n",
        "\n",
        "        next_state, reward, done = env_step(env, action)  # take the action to environment and observe outcomes\n",
        "\n",
        "        # Q-learning update\n",
        "        td_target = reward + gamma * np.max(Q_table[next_state, :]) # 계산된 TD 타겟\n",
        "        Q_table[state, action] += learning_rate * (td_target - Q_table[state, action]) # Q 테이블 업데이트\n",
        "\n",
        "        ### END CODE HERE ###\n",
        "\n",
        "        epis_rewards += reward                      # accumulate rewards to calculate the episode reward\n",
        "        state = next_state                          # set state for the next state\n",
        "\n",
        "        if epis_steps > max_steps: break            # if run too much : finish episode\n",
        "        else: epis_steps += 1\n",
        "\n",
        "    # evaluate the policy\n",
        "    eval_reward, eval_steps, _ = evaluate_policy(env, Q_table, val_episodes) # evaluate the policy\n",
        "\n",
        "    history['rewards'].append(eval_reward) # 보상 기록\n",
        "\n",
        "    pbar.set_postfix({'reward':eval_reward, 'steps':eval_steps}) # 프로그레스 바 업데이트\n",
        "\n",
        "    if eval_reward>goal_score: break                # exit if convergence\n",
        "\n",
        "print('episodes:{0:5d}, final_reward {1:4.2f}'.format(episodes, eval_reward)) # 최종 보상 출력"
      ]
    },
    {
      "cell_type": "markdown",
      "metadata": {
        "id": "ObLpxeaKZQoJ"
      },
      "source": [
        "### Plot Training Histories"
      ]
    },
    {
      "cell_type": "code",
      "execution_count": 16,
      "metadata": {
        "colab": {
          "base_uri": "https://localhost:8080/",
          "height": 388
        },
        "id": "0Gl6-T0eZQoJ",
        "outputId": "dc421cc9-1bf8-4f98-a70c-b44838862891"
      },
      "outputs": [
        {
          "output_type": "display_data",
          "data": {
            "text/plain": [
              "<Figure size 500x400 with 1 Axes>"
            ],
            "image/png": "[encoded data removed]"
          },
          "metadata": {}
        }
      ],
      "source": [
        "# plot loss and accuracy\n",
        "def plot_graphs(log_history, log_labels, graph_labels, graph_colors=['b-','g-']): # 그래프 플로팅 함수\n",
        "    num_graphs = len(log_labels) # 그래프 수\n",
        "    plt.figure(figsize=(5*num_graphs,4)) # 그래프 크기 설정\n",
        "    for i in range(num_graphs): # 그래프 반복\n",
        "        plt.subplot(1,num_graphs,i+1) # 서브플롯 설정\n",
        "        plt.plot(log_history[log_labels[i]], graph_colors[i], label=graph_labels[i]) # 그래프 플로팅\n",
        "        plt.xlabel('episodes') # x축 레이블 설정\n",
        "        plt.legend() # 범례 설정\n",
        "    plt.show() # 그래프\n",
        "    return\n",
        "\n",
        "log_labels    = ['rewards'] # 로그 레이블 설정\n",
        "label_strings = ['reward'] # 레이블 문자열 설정\n",
        "label_colors  = ['g-'] # 레이블 색상 설정\n",
        "plot_graphs(history, log_labels, label_strings, label_colors) # 그래프 플로팅"
      ]
    },
    {
      "cell_type": "markdown",
      "metadata": {
        "id": "2t5mGxlJZQoJ"
      },
      "source": [
        "### Evaluate the Agent\n",
        "\n",
        "Evaluate the agent here to show the performance"
      ]
    },
    {
      "cell_type": "code",
      "execution_count": 17,
      "metadata": {
        "colab": {
          "base_uri": "https://localhost:8080/",
          "height": 67,
          "referenced_widgets": [
            "dd7384f391734792a8da90ecb4bf32d0",
            "2acb6ce71aa44ea181994ae03e87f243",
            "38d684771e954bd6a117a1548144530c",
            "415e4f8b8f384d6392937e4887f9335f",
            "18ef131463e2404c9a4c74a0ba32e31a",
            "d2222c8f6790485fbcb79fb213b28e23",
            "16014494fcb243a3b82588557fc29939",
            "9ae40fe80f9d43b9bdd1a231bd318cea",
            "6aa9110423e84516a5c4ea9db58882d7",
            "3f007cd43d56488fad62bea181c6417e",
            "ffaf0296641e4b7fb06d7bc396e2a15b"
          ]
        },
        "id": "7RXgoO_-ZQoK",
        "outputId": "4fcbb291-d4c4-4ea0-d8fa-ceebaa5b54ba"
      },
      "outputs": [
        {
          "output_type": "display_data",
          "data": {
            "text/plain": [
              "  0%|          | 0/20 [00:00<?, ?it/s]"
            ],
            "application/vnd.jupyter.widget-view+json": {
              "version_major": 2,
              "version_minor": 0,
              "model_id": "dd7384f391734792a8da90ecb4bf32d0"
            }
          },
          "metadata": {}
        },
        {
          "output_type": "stream",
          "name": "stdout",
          "text": [
            "Evaluation Result: -0.5\n"
          ]
        }
      ],
      "source": [
        "evaluate_episodes = 20 # 평가 에피소드 수\n",
        "sum_episode_rewards = 0.0 # 총 에피소드 보상 초기화\n",
        "pbar = tqdm(range(evaluate_episodes)) # 프로그레스 바 설정\n",
        "\n",
        "for i in pbar: # 반복\n",
        "    rewards, _, _ = evaluate_policy(env, Q_table, 1) # 정책 평가\n",
        "    sum_episode_rewards += rewards # 총 에피소드 보상 증가\n",
        "\n",
        "env.close() # 환경 종료\n",
        "\n",
        "print('Evaluation Result:',  sum_episode_rewards/evaluate_episodes) # 평가 결과 출력"
      ]
    },
    {
      "cell_type": "markdown",
      "metadata": {
        "id": "fifj3d-OZQoK"
      },
      "source": [
        "## See How The Agent Works"
      ]
    },
    {
      "cell_type": "code",
      "execution_count": 32,
      "metadata": {
        "colab": {
          "base_uri": "https://localhost:8080/"
        },
        "id": "75ggEz0mZQoK",
        "outputId": "81c2bdcc-efe9-48ef-a5e8-045e10362391"
      },
      "outputs": [
        {
          "output_type": "stream",
          "name": "stdout",
          "text": [
            "Sample Total Reward: 1.0\n"
          ]
        }
      ],
      "source": [
        "env = create_env() # 환경 생성\n",
        "\n",
        "if SELECT_ENV != 2: # Blackjack\n",
        "    env = wrappers.RecordVideo(env, video_folder='./gym-results/', name_prefix=res_prefix) # 비디오 레코딩 설정\n",
        "    eval_reward, _, _ = evaluate_policy(env, Q_table, 1) # 정책 평가\n",
        "else:\n",
        "    ims = [] # 이미지 초기화\n",
        "    eval_reward, _, ims = evaluate_policy(env, Q_table, 1, ims) # 정책 평가\n",
        "\n",
        "print('Sample Total Reward:', eval_reward) # 샘플 총 보상 출력\n",
        "\n",
        "env.close() # 환경 종료"
      ]
    },
    {
      "cell_type": "code",
      "execution_count": 33,
      "metadata": {
        "colab": {
          "base_uri": "https://localhost:8080/",
          "height": 743
        },
        "id": "_tPx4WxBZQoK",
        "outputId": "03c986e7-8cea-40fe-f394-aeb2e46b5b9d"
      },
      "outputs": [
        {
          "output_type": "display_data",
          "data": {
            "text/plain": [
              "<Figure size 300x300 with 1 Axes>"
            ],
            "image/png": "[encoded data removed]"
          },
          "metadata": {}
        },
        {
          "output_type": "display_data",
          "data": {
            "text/plain": [
              "<Figure size 300x300 with 1 Axes>"
            ],
            "image/png": "[encoded data removed]"
          },
          "metadata": {}
        },
        {
          "output_type": "display_data",
          "data": {
            "text/plain": [
              "<Figure size 300x300 with 1 Axes>"
            ],
            "image/png": "[encoded data removed]"
          },
          "metadata": {}
        }
      ],
      "source": [
        "from IPython.display import HTML, display # HTML, display 라이브러리 임포트\n",
        "from base64 import b64encode # b64encode 라이브러리 임포트\n",
        "\n",
        "def show_video(video_path, video_width = 320): # 비디오 표시 함수\n",
        "    video_file = open(video_path, \"r+b\").read() # 비디오 파일 읽기\n",
        "    video_url = f\"data:video/mp4;base64,{b64encode(video_file).decode()}\" # 비디오 URL 설정\n",
        "    return HTML(f\"\"\"<video width={video_width} controls><source src=\"{video_url}\"></video>\"\"\") # 비디오 출력\n",
        "\n",
        "if SELECT_ENV==2: # Blackjack\n",
        "    for i in range(len(ims)): # 이미지 반복\n",
        "        plt.figure(figsize=(3,3)) # 그림 크기 설정\n",
        "        plt.imshow(ims[i]) # 이미지 출력\n",
        "        plt.show() # 그림 출력\n",
        "else:\n",
        "    display(show_video('./gym-results/' + res_prefix + '-episode-0.mp4')) # 비디오 표시"
      ]
    },
    {
      "cell_type": "markdown",
      "metadata": {
        "id": "mVXi7vetZQoK"
      },
      "source": [
        "(c) 2024 SW Lee"
      ]
    }
  ],
  "metadata": {
    "colab": {
      "provenance": []
    },
    "kernelspec": {
      "display_name": "Python 3",
      "name": "python3"
    },
    "language_info": {
      "codemirror_mode": {
        "name": "ipython",
        "version": 3
      },
      "file_extension": ".py",
      "mimetype": "text/x-python",
      "name": "python",
      "nbconvert_exporter": "python",
      "pygments_lexer": "ipython3",
      "version": "3.9.16"
    },
    "orig_nbformat": 4,
    "vscode": {
      "interpreter": {
        "hash": "71930d9c743a2c2f7d41567bb1e631f1d30be1b0f7ff3429fb86acce8edbed56"
      }
    },
    "widgets": {
      "application/vnd.jupyter.widget-state+json": {
        "edc72b124af1499aa3eb70adb5f25a41": {
          "model_module": "@jupyter-widgets/controls",
          "model_name": "HBoxModel",
          "model_module_version": "1.5.0",
          "state": {
            "_dom_classes": [],
            "_model_module": "@jupyter-widgets/controls",
            "_model_module_version": "1.5.0",
            "_model_name": "HBoxModel",
            "_view_count": null,
            "_view_module": "@jupyter-widgets/controls",
            "_view_module_version": "1.5.0",
            "_view_name": "HBoxView",
            "box_style": "",
            "children": [
              "IPY_MODEL_0b8a1140bf1a401f8c43924b3a9e76cd",
              "IPY_MODEL_12c8fcab367548a1bd854acc1303e835",
              "IPY_MODEL_a2b15de2081440e38a555a568e0b89af"
            ],
            "layout": "IPY_MODEL_596d3750d66b42438584bcf6da1c8d2f"
          }
        },
        "0b8a1140bf1a401f8c43924b3a9e76cd": {
          "model_module": "@jupyter-widgets/controls",
          "model_name": "HTMLModel",
          "model_module_version": "1.5.0",
          "state": {
            "_dom_classes": [],
            "_model_module": "@jupyter-widgets/controls",
            "_model_module_version": "1.5.0",
            "_model_name": "HTMLModel",
            "_view_count": null,
            "_view_module": "@jupyter-widgets/controls",
            "_view_module_version": "1.5.0",
            "_view_name": "HTMLView",
            "description": "",
            "description_tooltip": null,
            "layout": "IPY_MODEL_1806fd1860ec47f492b4af98d86cc59a",
            "placeholder": "​",
            "style": "IPY_MODEL_fa87e1fe4daf4c69ab9700dac6835bc8",
            "value": ""
          }
        },
        "12c8fcab367548a1bd854acc1303e835": {
          "model_module": "@jupyter-widgets/controls",
          "model_name": "FloatProgressModel",
          "model_module_version": "1.5.0",
          "state": {
            "_dom_classes": [],
            "_model_module": "@jupyter-widgets/controls",
            "_model_module_version": "1.5.0",
            "_model_name": "FloatProgressModel",
            "_view_count": null,
            "_view_module": "@jupyter-widgets/controls",
            "_view_module_version": "1.5.0",
            "_view_name": "ProgressView",
            "bar_style": "danger",
            "description": "",
            "description_tooltip": null,
            "layout": "IPY_MODEL_f5eea219c6a442ca940fb5d220217de0",
            "max": 5000,
            "min": 0,
            "orientation": "horizontal",
            "style": "IPY_MODEL_8f6358062be743de84b517b2eae46f80",
            "value": 446
          }
        },
        "a2b15de2081440e38a555a568e0b89af": {
          "model_module": "@jupyter-widgets/controls",
          "model_name": "HTMLModel",
          "model_module_version": "1.5.0",
          "state": {
            "_dom_classes": [],
            "_model_module": "@jupyter-widgets/controls",
            "_model_module_version": "1.5.0",
            "_model_name": "HTMLModel",
            "_view_count": null,
            "_view_module": "@jupyter-widgets/controls",
            "_view_module_version": "1.5.0",
            "_view_name": "HTMLView",
            "description": "",
            "description_tooltip": null,
            "layout": "IPY_MODEL_a22f7d7ae2e446d7b13ba8fe821102a6",
            "placeholder": "​",
            "style": "IPY_MODEL_b08574ec328e43028e6504464fcac4a1",
            "value": "  9%|▉         | 446/5000 [01:26&lt;16:49,  4.51it/s, reward=-0.044, steps=1.37]"
          }
        },
        "596d3750d66b42438584bcf6da1c8d2f": {
          "model_module": "@jupyter-widgets/base",
          "model_name": "LayoutModel",
          "model_module_version": "1.2.0",
          "state": {
            "_model_module": "@jupyter-widgets/base",
            "_model_module_version": "1.2.0",
            "_model_name": "LayoutModel",
            "_view_count": null,
            "_view_module": "@jupyter-widgets/base",
            "_view_module_version": "1.2.0",
            "_view_name": "LayoutView",
            "align_content": null,
            "align_items": null,
            "align_self": null,
            "border": null,
            "bottom": null,
            "display": null,
            "flex": null,
            "flex_flow": null,
            "grid_area": null,
            "grid_auto_columns": null,
            "grid_auto_flow": null,
            "grid_auto_rows": null,
            "grid_column": null,
            "grid_gap": null,
            "grid_row": null,
            "grid_template_areas": null,
            "grid_template_columns": null,
            "grid_template_rows": null,
            "height": null,
            "justify_content": null,
            "justify_items": null,
            "left": null,
            "margin": null,
            "max_height": null,
            "max_width": null,
            "min_height": null,
            "min_width": null,
            "object_fit": null,
            "object_position": null,
            "order": null,
            "overflow": null,
            "overflow_x": null,
            "overflow_y": null,
            "padding": null,
            "right": null,
            "top": null,
            "visibility": null,
            "width": null
          }
        },
        "1806fd1860ec47f492b4af98d86cc59a": {
          "model_module": "@jupyter-widgets/base",
          "model_name": "LayoutModel",
          "model_module_version": "1.2.0",
          "state": {
            "_model_module": "@jupyter-widgets/base",
            "_model_module_version": "1.2.0",
            "_model_name": "LayoutModel",
            "_view_count": null,
            "_view_module": "@jupyter-widgets/base",
            "_view_module_version": "1.2.0",
            "_view_name": "LayoutView",
            "align_content": null,
            "align_items": null,
            "align_self": null,
            "border": null,
            "bottom": null,
            "display": null,
            "flex": null,
            "flex_flow": null,
            "grid_area": null,
            "grid_auto_columns": null,
            "grid_auto_flow": null,
            "grid_auto_rows": null,
            "grid_column": null,
            "grid_gap": null,
            "grid_row": null,
            "grid_template_areas": null,
            "grid_template_columns": null,
            "grid_template_rows": null,
            "height": null,
            "justify_content": null,
            "justify_items": null,
            "left": null,
            "margin": null,
            "max_height": null,
            "max_width": null,
            "min_height": null,
            "min_width": null,
            "object_fit": null,
            "object_position": null,
            "order": null,
            "overflow": null,
            "overflow_x": null,
            "overflow_y": null,
            "padding": null,
            "right": null,
            "top": null,
            "visibility": null,
            "width": null
          }
        },
        "fa87e1fe4daf4c69ab9700dac6835bc8": {
          "model_module": "@jupyter-widgets/controls",
          "model_name": "DescriptionStyleModel",
          "model_module_version": "1.5.0",
          "state": {
            "_model_module": "@jupyter-widgets/controls",
            "_model_module_version": "1.5.0",
            "_model_name": "DescriptionStyleModel",
            "_view_count": null,
            "_view_module": "@jupyter-widgets/base",
            "_view_module_version": "1.2.0",
            "_view_name": "StyleView",
            "description_width": ""
          }
        },
        "f5eea219c6a442ca940fb5d220217de0": {
          "model_module": "@jupyter-widgets/base",
          "model_name": "LayoutModel",
          "model_module_version": "1.2.0",
          "state": {
            "_model_module": "@jupyter-widgets/base",
            "_model_module_version": "1.2.0",
            "_model_name": "LayoutModel",
            "_view_count": null,
            "_view_module": "@jupyter-widgets/base",
            "_view_module_version": "1.2.0",
            "_view_name": "LayoutView",
            "align_content": null,
            "align_items": null,
            "align_self": null,
            "border": null,
            "bottom": null,
            "display": null,
            "flex": null,
            "flex_flow": null,
            "grid_area": null,
            "grid_auto_columns": null,
            "grid_auto_flow": null,
            "grid_auto_rows": null,
            "grid_column": null,
            "grid_gap": null,
            "grid_row": null,
            "grid_template_areas": null,
            "grid_template_columns": null,
            "grid_template_rows": null,
            "height": null,
            "justify_content": null,
            "justify_items": null,
            "left": null,
            "margin": null,
            "max_height": null,
            "max_width": null,
            "min_height": null,
            "min_width": null,
            "object_fit": null,
            "object_position": null,
            "order": null,
            "overflow": null,
            "overflow_x": null,
            "overflow_y": null,
            "padding": null,
            "right": null,
            "top": null,
            "visibility": null,
            "width": null
          }
        },
        "8f6358062be743de84b517b2eae46f80": {
          "model_module": "@jupyter-widgets/controls",
          "model_name": "ProgressStyleModel",
          "model_module_version": "1.5.0",
          "state": {
            "_model_module": "@jupyter-widgets/controls",
            "_model_module_version": "1.5.0",
            "_model_name": "ProgressStyleModel",
            "_view_count": null,
            "_view_module": "@jupyter-widgets/base",
            "_view_module_version": "1.2.0",
            "_view_name": "StyleView",
            "bar_color": null,
            "description_width": ""
          }
        },
        "a22f7d7ae2e446d7b13ba8fe821102a6": {
          "model_module": "@jupyter-widgets/base",
          "model_name": "LayoutModel",
          "model_module_version": "1.2.0",
          "state": {
            "_model_module": "@jupyter-widgets/base",
            "_model_module_version": "1.2.0",
            "_model_name": "LayoutModel",
            "_view_count": null,
            "_view_module": "@jupyter-widgets/base",
            "_view_module_version": "1.2.0",
            "_view_name": "LayoutView",
            "align_content": null,
            "align_items": null,
            "align_self": null,
            "border": null,
            "bottom": null,
            "display": null,
            "flex": null,
            "flex_flow": null,
            "grid_area": null,
            "grid_auto_columns": null,
            "grid_auto_flow": null,
            "grid_auto_rows": null,
            "grid_column": null,
            "grid_gap": null,
            "grid_row": null,
            "grid_template_areas": null,
            "grid_template_columns": null,
            "grid_template_rows": null,
            "height": null,
            "justify_content": null,
            "justify_items": null,
            "left": null,
            "margin": null,
            "max_height": null,
            "max_width": null,
            "min_height": null,
            "min_width": null,
            "object_fit": null,
            "object_position": null,
            "order": null,
            "overflow": null,
            "overflow_x": null,
            "overflow_y": null,
            "padding": null,
            "right": null,
            "top": null,
            "visibility": null,
            "width": null
          }
        },
        "b08574ec328e43028e6504464fcac4a1": {
          "model_module": "@jupyter-widgets/controls",
          "model_name": "DescriptionStyleModel",
          "model_module_version": "1.5.0",
          "state": {
            "_model_module": "@jupyter-widgets/controls",
            "_model_module_version": "1.5.0",
            "_model_name": "DescriptionStyleModel",
            "_view_count": null,
            "_view_module": "@jupyter-widgets/base",
            "_view_module_version": "1.2.0",
            "_view_name": "StyleView",
            "description_width": ""
          }
        },
        "dd7384f391734792a8da90ecb4bf32d0": {
          "model_module": "@jupyter-widgets/controls",
          "model_name": "HBoxModel",
          "model_module_version": "1.5.0",
          "state": {
            "_dom_classes": [],
            "_model_module": "@jupyter-widgets/controls",
            "_model_module_version": "1.5.0",
            "_model_name": "HBoxModel",
            "_view_count": null,
            "_view_module": "@jupyter-widgets/controls",
            "_view_module_version": "1.5.0",
            "_view_name": "HBoxView",
            "box_style": "",
            "children": [
              "IPY_MODEL_2acb6ce71aa44ea181994ae03e87f243",
              "IPY_MODEL_38d684771e954bd6a117a1548144530c",
              "IPY_MODEL_415e4f8b8f384d6392937e4887f9335f"
            ],
            "layout": "IPY_MODEL_18ef131463e2404c9a4c74a0ba32e31a"
          }
        },
        "2acb6ce71aa44ea181994ae03e87f243": {
          "model_module": "@jupyter-widgets/controls",
          "model_name": "HTMLModel",
          "model_module_version": "1.5.0",
          "state": {
            "_dom_classes": [],
            "_model_module": "@jupyter-widgets/controls",
            "_model_module_version": "1.5.0",
            "_model_name": "HTMLModel",
            "_view_count": null,
            "_view_module": "@jupyter-widgets/controls",
            "_view_module_version": "1.5.0",
            "_view_name": "HTMLView",
            "description": "",
            "description_tooltip": null,
            "layout": "IPY_MODEL_d2222c8f6790485fbcb79fb213b28e23",
            "placeholder": "​",
            "style": "IPY_MODEL_16014494fcb243a3b82588557fc29939",
            "value": "100%"
          }
        },
        "38d684771e954bd6a117a1548144530c": {
          "model_module": "@jupyter-widgets/controls",
          "model_name": "FloatProgressModel",
          "model_module_version": "1.5.0",
          "state": {
            "_dom_classes": [],
            "_model_module": "@jupyter-widgets/controls",
            "_model_module_version": "1.5.0",
            "_model_name": "FloatProgressModel",
            "_view_count": null,
            "_view_module": "@jupyter-widgets/controls",
            "_view_module_version": "1.5.0",
            "_view_name": "ProgressView",
            "bar_style": "success",
            "description": "",
            "description_tooltip": null,
            "layout": "IPY_MODEL_9ae40fe80f9d43b9bdd1a231bd318cea",
            "max": 20,
            "min": 0,
            "orientation": "horizontal",
            "style": "IPY_MODEL_6aa9110423e84516a5c4ea9db58882d7",
            "value": 20
          }
        },
        "415e4f8b8f384d6392937e4887f9335f": {
          "model_module": "@jupyter-widgets/controls",
          "model_name": "HTMLModel",
          "model_module_version": "1.5.0",
          "state": {
            "_dom_classes": [],
            "_model_module": "@jupyter-widgets/controls",
            "_model_module_version": "1.5.0",
            "_model_name": "HTMLModel",
            "_view_count": null,
            "_view_module": "@jupyter-widgets/controls",
            "_view_module_version": "1.5.0",
            "_view_name": "HTMLView",
            "description": "",
            "description_tooltip": null,
            "layout": "IPY_MODEL_3f007cd43d56488fad62bea181c6417e",
            "placeholder": "​",
            "style": "IPY_MODEL_ffaf0296641e4b7fb06d7bc396e2a15b",
            "value": " 20/20 [00:00&lt;00:00, 658.58it/s]"
          }
        },
        "18ef131463e2404c9a4c74a0ba32e31a": {
          "model_module": "@jupyter-widgets/base",
          "model_name": "LayoutModel",
          "model_module_version": "1.2.0",
          "state": {
            "_model_module": "@jupyter-widgets/base",
            "_model_module_version": "1.2.0",
            "_model_name": "LayoutModel",
            "_view_count": null,
            "_view_module": "@jupyter-widgets/base",
            "_view_module_version": "1.2.0",
            "_view_name": "LayoutView",
            "align_content": null,
            "align_items": null,
            "align_self": null,
            "border": null,
            "bottom": null,
            "display": null,
            "flex": null,
            "flex_flow": null,
            "grid_area": null,
            "grid_auto_columns": null,
            "grid_auto_flow": null,
            "grid_auto_rows": null,
            "grid_column": null,
            "grid_gap": null,
            "grid_row": null,
            "grid_template_areas": null,
            "grid_template_columns": null,
            "grid_template_rows": null,
            "height": null,
            "justify_content": null,
            "justify_items": null,
            "left": null,
            "margin": null,
            "max_height": null,
            "max_width": null,
            "min_height": null,
            "min_width": null,
            "object_fit": null,
            "object_position": null,
            "order": null,
            "overflow": null,
            "overflow_x": null,
            "overflow_y": null,
            "padding": null,
            "right": null,
            "top": null,
            "visibility": null,
            "width": null
          }
        },
        "d2222c8f6790485fbcb79fb213b28e23": {
          "model_module": "@jupyter-widgets/base",
          "model_name": "LayoutModel",
          "model_module_version": "1.2.0",
          "state": {
            "_model_module": "@jupyter-widgets/base",
            "_model_module_version": "1.2.0",
            "_model_name": "LayoutModel",
            "_view_count": null,
            "_view_module": "@jupyter-widgets/base",
            "_view_module_version": "1.2.0",
            "_view_name": "LayoutView",
            "align_content": null,
            "align_items": null,
            "align_self": null,
            "border": null,
            "bottom": null,
            "display": null,
            "flex": null,
            "flex_flow": null,
            "grid_area": null,
            "grid_auto_columns": null,
            "grid_auto_flow": null,
            "grid_auto_rows": null,
            "grid_column": null,
            "grid_gap": null,
            "grid_row": null,
            "grid_template_areas": null,
            "grid_template_columns": null,
            "grid_template_rows": null,
            "height": null,
            "justify_content": null,
            "justify_items": null,
            "left": null,
            "margin": null,
            "max_height": null,
            "max_width": null,
            "min_height": null,
            "min_width": null,
            "object_fit": null,
            "object_position": null,
            "order": null,
            "overflow": null,
            "overflow_x": null,
            "overflow_y": null,
            "padding": null,
            "right": null,
            "top": null,
            "visibility": null,
            "width": null
          }
        },
        "16014494fcb243a3b82588557fc29939": {
          "model_module": "@jupyter-widgets/controls",
          "model_name": "DescriptionStyleModel",
          "model_module_version": "1.5.0",
          "state": {
            "_model_module": "@jupyter-widgets/controls",
            "_model_module_version": "1.5.0",
            "_model_name": "DescriptionStyleModel",
            "_view_count": null,
            "_view_module": "@jupyter-widgets/base",
            "_view_module_version": "1.2.0",
            "_view_name": "StyleView",
            "description_width": ""
          }
        },
        "9ae40fe80f9d43b9bdd1a231bd318cea": {
          "model_module": "@jupyter-widgets/base",
          "model_name": "LayoutModel",
          "model_module_version": "1.2.0",
          "state": {
            "_model_module": "@jupyter-widgets/base",
            "_model_module_version": "1.2.0",
            "_model_name": "LayoutModel",
            "_view_count": null,
            "_view_module": "@jupyter-widgets/base",
            "_view_module_version": "1.2.0",
            "_view_name": "LayoutView",
            "align_content": null,
            "align_items": null,
            "align_self": null,
            "border": null,
            "bottom": null,
            "display": null,
            "flex": null,
            "flex_flow": null,
            "grid_area": null,
            "grid_auto_columns": null,
            "grid_auto_flow": null,
            "grid_auto_rows": null,
            "grid_column": null,
            "grid_gap": null,
            "grid_row": null,
            "grid_template_areas": null,
            "grid_template_columns": null,
            "grid_template_rows": null,
            "height": null,
            "justify_content": null,
            "justify_items": null,
            "left": null,
            "margin": null,
            "max_height": null,
            "max_width": null,
            "min_height": null,
            "min_width": null,
            "object_fit": null,
            "object_position": null,
            "order": null,
            "overflow": null,
            "overflow_x": null,
            "overflow_y": null,
            "padding": null,
            "right": null,
            "top": null,
            "visibility": null,
            "width": null
          }
        },
        "6aa9110423e84516a5c4ea9db58882d7": {
          "model_module": "@jupyter-widgets/controls",
          "model_name": "ProgressStyleModel",
          "model_module_version": "1.5.0",
          "state": {
            "_model_module": "@jupyter-widgets/controls",
            "_model_module_version": "1.5.0",
            "_model_name": "ProgressStyleModel",
            "_view_count": null,
            "_view_module": "@jupyter-widgets/base",
            "_view_module_version": "1.2.0",
            "_view_name": "StyleView",
            "bar_color": null,
            "description_width": ""
          }
        },
        "3f007cd43d56488fad62bea181c6417e": {
          "model_module": "@jupyter-widgets/base",
          "model_name": "LayoutModel",
          "model_module_version": "1.2.0",
          "state": {
            "_model_module": "@jupyter-widgets/base",
            "_model_module_version": "1.2.0",
            "_model_name": "LayoutModel",
            "_view_count": null,
            "_view_module": "@jupyter-widgets/base",
            "_view_module_version": "1.2.0",
            "_view_name": "LayoutView",
            "align_content": null,
            "align_items": null,
            "align_self": null,
            "border": null,
            "bottom": null,
            "display": null,
            "flex": null,
            "flex_flow": null,
            "grid_area": null,
            "grid_auto_columns": null,
            "grid_auto_flow": null,
            "grid_auto_rows": null,
            "grid_column": null,
            "grid_gap": null,
            "grid_row": null,
            "grid_template_areas": null,
            "grid_template_columns": null,
            "grid_template_rows": null,
            "height": null,
            "justify_content": null,
            "justify_items": null,
            "left": null,
            "margin": null,
            "max_height": null,
            "max_width": null,
            "min_height": null,
            "min_width": null,
            "object_fit": null,
            "object_position": null,
            "order": null,
            "overflow": null,
            "overflow_x": null,
            "overflow_y": null,
            "padding": null,
            "right": null,
            "top": null,
            "visibility": null,
            "width": null
          }
        },
        "ffaf0296641e4b7fb06d7bc396e2a15b": {
          "model_module": "@jupyter-widgets/controls",
          "model_name": "DescriptionStyleModel",
          "model_module_version": "1.5.0",
          "state": {
            "_model_module": "@jupyter-widgets/controls",
            "_model_module_version": "1.5.0",
            "_model_name": "DescriptionStyleModel",
            "_view_count": null,
            "_view_module": "@jupyter-widgets/base",
            "_view_module_version": "1.2.0",
            "_view_name": "StyleView",
            "description_width": ""
          }
        }
      }
    }
  },
  "nbformat": 4,
  "nbformat_minor": 0
}